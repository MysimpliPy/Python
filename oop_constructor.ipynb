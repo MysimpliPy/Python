{
 "cells": [
  {
   "cell_type": "markdown",
   "id": "0415a0b9",
   "metadata": {},
   "source": [
    "**Object Oriented Programming**"
   ]
  },
  {
   "cell_type": "markdown",
   "id": "3395b38b",
   "metadata": {},
   "source": [
    "### Constructor"
   ]
  },
  {
   "cell_type": "code",
   "execution_count": 47,
   "id": "ad4ed563",
   "metadata": {},
   "outputs": [],
   "source": [
    "class myclass1 :\n",
    "    \n",
    "    def __init__(self) :\n",
    "        print('I am a constructor')\n",
    "        "
   ]
  },
  {
   "cell_type": "code",
   "execution_count": 48,
   "id": "bb925b42",
   "metadata": {},
   "outputs": [
    {
     "name": "stdout",
     "output_type": "stream",
     "text": [
      "I am a constructor\n"
     ]
    }
   ],
   "source": [
    "obj = myclass1()  # created an object of a class named myclass1"
   ]
  },
  {
   "cell_type": "code",
   "execution_count": 50,
   "id": "590e0460",
   "metadata": {},
   "outputs": [],
   "source": [
    "class myclass2 :\n",
    "    \n",
    "    def __init__(self, a, b) :\n",
    "        print('I am a constructor')\n",
    "        print(\"I am supplied with two arguments\")\n",
    "        print(\"The arguments are : \", a, b)\n",
    "        "
   ]
  },
  {
   "cell_type": "code",
   "execution_count": 51,
   "id": "8617c057",
   "metadata": {},
   "outputs": [
    {
     "name": "stdout",
     "output_type": "stream",
     "text": [
      "I am a constructor\n",
      "I am supplied with two arguments\n",
      "The arguments are :  10 20\n"
     ]
    }
   ],
   "source": [
    "obj = myclass2(10, 20)"
   ]
  },
  {
   "cell_type": "code",
   "execution_count": 74,
   "id": "97095de1",
   "metadata": {},
   "outputs": [],
   "source": [
    "class myclass3 :\n",
    "    \n",
    "    def __init__(self, a, b) :\n",
    "        print('I am a constructor')\n",
    "        print(\"I am supplied with two arguments\")\n",
    "        print(\"The arguments are : \", a, b)\n",
    "        self.x = a\n",
    "        self.y = b\n",
    "        print('these are part of the object created :', self.x, self.y)\n",
    "        "
   ]
  },
  {
   "cell_type": "code",
   "execution_count": 75,
   "id": "146cc54b",
   "metadata": {},
   "outputs": [
    {
     "name": "stdout",
     "output_type": "stream",
     "text": [
      "I am a constructor\n",
      "I am supplied with two arguments\n",
      "The arguments are :  1 2\n",
      "these are part of the object created : 1 2\n"
     ]
    }
   ],
   "source": [
    "obj = myclass3(1, 2)"
   ]
  },
  {
   "cell_type": "code",
   "execution_count": 76,
   "id": "2bc0c40c",
   "metadata": {},
   "outputs": [
    {
     "data": {
      "text/plain": [
       "(1, 2)"
      ]
     },
     "execution_count": 76,
     "metadata": {},
     "output_type": "execute_result"
    }
   ],
   "source": [
    "obj.x, obj.y"
   ]
  },
  {
   "cell_type": "code",
   "execution_count": 62,
   "id": "926a2af4",
   "metadata": {},
   "outputs": [],
   "source": [
    "class myclass4 :\n",
    "    \n",
    "    def __init__(self, a, b) :\n",
    "        print('I am a constructor')\n",
    "        self.x = a\n",
    "        self.y = b\n",
    "        \n",
    "    def add(self) :\n",
    "        print(f\"x + y : \", end=\" \")\n",
    "        print(self.x + self.y)\n",
    "        \n",
    "    def subtract(self) :\n",
    "        print(f\"x - y : \", end=\" \")\n",
    "        print(self.x - self.y)\n",
    "    \n",
    "    def multiply(self) :\n",
    "        print(f\"x * y : \", end=\" \")\n",
    "        print(self.x * self.y)\n",
    "    \n",
    "    def divide(self) :\n",
    "        print(f\"x / y : \", end=\" \")\n",
    "        print(self.x / self.y)\n",
    "    \n",
    "        "
   ]
  },
  {
   "cell_type": "code",
   "execution_count": 77,
   "id": "679617c4",
   "metadata": {},
   "outputs": [
    {
     "name": "stdout",
     "output_type": "stream",
     "text": [
      "I am a constructor\n"
     ]
    }
   ],
   "source": [
    "obj = myclass4(10,20)"
   ]
  },
  {
   "cell_type": "code",
   "execution_count": 78,
   "id": "980760b1",
   "metadata": {},
   "outputs": [
    {
     "name": "stdout",
     "output_type": "stream",
     "text": [
      "x + y :  30\n"
     ]
    }
   ],
   "source": [
    "obj.add()"
   ]
  },
  {
   "cell_type": "code",
   "execution_count": 79,
   "id": "5319a03e",
   "metadata": {},
   "outputs": [
    {
     "name": "stdout",
     "output_type": "stream",
     "text": [
      "x - y :  -10\n"
     ]
    }
   ],
   "source": [
    "obj.subtract()"
   ]
  },
  {
   "cell_type": "code",
   "execution_count": 80,
   "id": "8e1894ef",
   "metadata": {},
   "outputs": [
    {
     "name": "stdout",
     "output_type": "stream",
     "text": [
      "x * y :  200\n"
     ]
    }
   ],
   "source": [
    "obj.multiply()"
   ]
  },
  {
   "cell_type": "code",
   "execution_count": 81,
   "id": "424a8c5e",
   "metadata": {},
   "outputs": [
    {
     "name": "stdout",
     "output_type": "stream",
     "text": [
      "x / y :  0.5\n"
     ]
    }
   ],
   "source": [
    "obj.divide()"
   ]
  },
  {
   "cell_type": "code",
   "execution_count": 82,
   "id": "78190cfd",
   "metadata": {},
   "outputs": [],
   "source": [
    "class myclass5 :\n",
    "    \n",
    "    def __init__(self, a, b) :\n",
    "        print('I am a constructor')\n",
    "        self.x = a\n",
    "        self.y = b\n",
    "        self.add()\n",
    "        self.subtract()\n",
    "        self.multiply()\n",
    "        self.divide()\n",
    "        \n",
    "    def add(self) :\n",
    "        print(f\"x + y : \", end=\" \")\n",
    "        print(self.x + self.y)\n",
    "        \n",
    "    def subtract(self) :\n",
    "        print(f\"x - y : \", end=\" \")\n",
    "        print(self.x - self.y)\n",
    "    \n",
    "    def multiply(self) :\n",
    "        print(f\"x * y : \", end=\" \")\n",
    "        print(self.x * self.y)\n",
    "    \n",
    "    def divide(self) :\n",
    "        print(f\"x / y : \", end=\" \")\n",
    "        print(self.x / self.y)"
   ]
  },
  {
   "cell_type": "code",
   "execution_count": 83,
   "id": "63d45473",
   "metadata": {},
   "outputs": [
    {
     "name": "stdout",
     "output_type": "stream",
     "text": [
      "I am a constructor\n",
      "x + y :  40\n",
      "x - y :  20\n",
      "x * y :  300\n",
      "x / y :  3.0\n"
     ]
    }
   ],
   "source": [
    "obj = myclass5(30,10)"
   ]
  },
  {
   "cell_type": "code",
   "execution_count": null,
   "id": "d436c917",
   "metadata": {},
   "outputs": [],
   "source": []
  }
 ],
 "metadata": {
  "kernelspec": {
   "display_name": "Python 3 (ipykernel)",
   "language": "python",
   "name": "python3"
  },
  "language_info": {
   "codemirror_mode": {
    "name": "ipython",
    "version": 3
   },
   "file_extension": ".py",
   "mimetype": "text/x-python",
   "name": "python",
   "nbconvert_exporter": "python",
   "pygments_lexer": "ipython3",
   "version": "3.10.2"
  },
  "widgets": {
   "application/vnd.jupyter.widget-state+json": {
    "state": {},
    "version_major": 2,
    "version_minor": 0
   }
  }
 },
 "nbformat": 4,
 "nbformat_minor": 5
}
