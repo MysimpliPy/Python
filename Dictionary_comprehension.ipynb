{
 "cells": [
  {
   "cell_type": "markdown",
   "id": "2185495b",
   "metadata": {},
   "source": [
    "<font size='4' color='blue'>\n",
    "Dictionary Comprehension\n",
    "</font>"
   ]
  },
  {
   "cell_type": "code",
   "execution_count": 3,
   "id": "5df3eb6d",
   "metadata": {},
   "outputs": [
    {
     "data": {
      "text/plain": [
       "[[1, 2, 3, 4, 5, 6, 7, 8, 9, 10],\n",
       " [2, 4, 6, 8, 10, 12, 14, 16, 18, 20],\n",
       " [3, 6, 9, 12, 15, 18, 21, 24, 27, 30],\n",
       " [4, 8, 12, 16, 20, 24, 28, 32, 36, 40],\n",
       " [5, 10, 15, 20, 25, 30, 35, 40, 45, 50],\n",
       " [6, 12, 18, 24, 30, 36, 42, 48, 54, 60],\n",
       " [7, 14, 21, 28, 35, 42, 49, 56, 63, 70],\n",
       " [8, 16, 24, 32, 40, 48, 56, 64, 72, 80],\n",
       " [9, 18, 27, 36, 45, 54, 63, 72, 81, 90],\n",
       " [10, 20, 30, 40, 50, 60, 70, 80, 90, 100]]"
      ]
     },
     "execution_count": 3,
     "metadata": {},
     "output_type": "execute_result"
    }
   ],
   "source": [
    "[[  num*i  for i in range(1,11) ] for num in range(1, 11)]"
   ]
  },
  {
   "cell_type": "code",
   "execution_count": 5,
   "id": "8e49bc09",
   "metadata": {},
   "outputs": [],
   "source": [
    "d1 = { num : [ num*i  for i in range(1,11) ] for num in range(1, 11)}"
   ]
  },
  {
   "cell_type": "code",
   "execution_count": 6,
   "id": "7a39f911",
   "metadata": {},
   "outputs": [
    {
     "data": {
      "text/plain": [
       "[5, 10, 15, 20, 25, 30, 35, 40, 45, 50]"
      ]
     },
     "execution_count": 6,
     "metadata": {},
     "output_type": "execute_result"
    }
   ],
   "source": [
    "d1[5]"
   ]
  },
  {
   "cell_type": "code",
   "execution_count": 7,
   "id": "ff349555",
   "metadata": {},
   "outputs": [
    {
     "data": {
      "text/plain": [
       "[8, 16, 24, 32, 40, 48, 56, 64, 72, 80]"
      ]
     },
     "execution_count": 7,
     "metadata": {},
     "output_type": "execute_result"
    }
   ],
   "source": [
    "d1[8]"
   ]
  },
  {
   "cell_type": "code",
   "execution_count": 8,
   "id": "2d912ad7",
   "metadata": {},
   "outputs": [
    {
     "data": {
      "text/plain": [
       "{1: [1, 2, 3, 4, 5, 6, 7, 8, 9, 10],\n",
       " 2: [2, 4, 6, 8, 10, 12, 14, 16, 18, 20],\n",
       " 3: [3, 6, 9, 12, 15, 18, 21, 24, 27, 30],\n",
       " 4: [4, 8, 12, 16, 20, 24, 28, 32, 36, 40],\n",
       " 5: [5, 10, 15, 20, 25, 30, 35, 40, 45, 50],\n",
       " 6: [6, 12, 18, 24, 30, 36, 42, 48, 54, 60],\n",
       " 7: [7, 14, 21, 28, 35, 42, 49, 56, 63, 70],\n",
       " 8: [8, 16, 24, 32, 40, 48, 56, 64, 72, 80],\n",
       " 9: [9, 18, 27, 36, 45, 54, 63, 72, 81, 90],\n",
       " 10: [10, 20, 30, 40, 50, 60, 70, 80, 90, 100]}"
      ]
     },
     "execution_count": 8,
     "metadata": {},
     "output_type": "execute_result"
    }
   ],
   "source": [
    "d1"
   ]
  },
  {
   "cell_type": "code",
   "execution_count": 9,
   "id": "318fb85e",
   "metadata": {},
   "outputs": [
    {
     "name": "stdout",
     "output_type": "stream",
     "text": [
      "1 [1, 2, 3, 4, 5, 6, 7, 8, 9, 10]\n",
      "2 [2, 4, 6, 8, 10, 12, 14, 16, 18, 20]\n",
      "3 [3, 6, 9, 12, 15, 18, 21, 24, 27, 30]\n",
      "4 [4, 8, 12, 16, 20, 24, 28, 32, 36, 40]\n",
      "5 [5, 10, 15, 20, 25, 30, 35, 40, 45, 50]\n",
      "6 [6, 12, 18, 24, 30, 36, 42, 48, 54, 60]\n",
      "7 [7, 14, 21, 28, 35, 42, 49, 56, 63, 70]\n",
      "8 [8, 16, 24, 32, 40, 48, 56, 64, 72, 80]\n",
      "9 [9, 18, 27, 36, 45, 54, 63, 72, 81, 90]\n",
      "10 [10, 20, 30, 40, 50, 60, 70, 80, 90, 100]\n"
     ]
    }
   ],
   "source": [
    "for k, v in d1.items() :\n",
    "    print(k, v)"
   ]
  },
  {
   "cell_type": "code",
   "execution_count": 11,
   "id": "c9c9fd08",
   "metadata": {},
   "outputs": [
    {
     "name": "stdout",
     "output_type": "stream",
     "text": [
      "1 [1, 2, 3, 4, 5, 6, 7, 8, 9, 10]\n",
      "2 [2, 4, 6, 8, 10, 12, 14, 16, 18, 20]\n",
      "3 [3, 6, 9, 12, 15, 18, 21, 24, 27, 30]\n",
      "4 [4, 8, 12, 16, 20, 24, 28, 32, 36, 40]\n",
      "5 [5, 10, 15, 20, 25, 30, 35, 40, 45, 50]\n",
      "6 [6, 12, 18, 24, 30, 36, 42, 48, 54, 60]\n",
      "7 [7, 14, 21, 28, 35, 42, 49, 56, 63, 70]\n",
      "8 [8, 16, 24, 32, 40, 48, 56, 64, 72, 80]\n",
      "9 [9, 18, 27, 36, 45, 54, 63, 72, 81, 90]\n",
      "10 [10, 20, 30, 40, 50, 60, 70, 80, 90, 100]\n"
     ]
    }
   ],
   "source": [
    "for k in d1.keys() :\n",
    "    print(k, d1[k])"
   ]
  },
  {
   "cell_type": "code",
   "execution_count": 14,
   "id": "201cf8f2",
   "metadata": {},
   "outputs": [],
   "source": [
    "d2 = {}\n",
    "for k, v in d1.items() :\n",
    "    d2[tuple(v) ] = k"
   ]
  },
  {
   "cell_type": "code",
   "execution_count": 15,
   "id": "8e67d3ec",
   "metadata": {},
   "outputs": [
    {
     "data": {
      "text/plain": [
       "{(1, 2, 3, 4, 5, 6, 7, 8, 9, 10): 1,\n",
       " (2, 4, 6, 8, 10, 12, 14, 16, 18, 20): 2,\n",
       " (3, 6, 9, 12, 15, 18, 21, 24, 27, 30): 3,\n",
       " (4, 8, 12, 16, 20, 24, 28, 32, 36, 40): 4,\n",
       " (5, 10, 15, 20, 25, 30, 35, 40, 45, 50): 5,\n",
       " (6, 12, 18, 24, 30, 36, 42, 48, 54, 60): 6,\n",
       " (7, 14, 21, 28, 35, 42, 49, 56, 63, 70): 7,\n",
       " (8, 16, 24, 32, 40, 48, 56, 64, 72, 80): 8,\n",
       " (9, 18, 27, 36, 45, 54, 63, 72, 81, 90): 9,\n",
       " (10, 20, 30, 40, 50, 60, 70, 80, 90, 100): 10}"
      ]
     },
     "execution_count": 15,
     "metadata": {},
     "output_type": "execute_result"
    }
   ],
   "source": [
    "d2"
   ]
  },
  {
   "cell_type": "code",
   "execution_count": 18,
   "id": "f8c816ff",
   "metadata": {},
   "outputs": [
    {
     "name": "stdout",
     "output_type": "stream",
     "text": [
      "1\n",
      "2\n",
      "3\n",
      "4\n",
      "5\n",
      "6\n",
      "7\n",
      "8\n",
      "9\n",
      "10\n"
     ]
    }
   ],
   "source": [
    "for k, v in d2.items() :\n",
    "    print(d2[k])"
   ]
  },
  {
   "cell_type": "code",
   "execution_count": 19,
   "id": "8a60a507",
   "metadata": {},
   "outputs": [],
   "source": [
    "def pyramid(char, lines) :      #  '*', '***', '*****'\n",
    "    incr = 1 \n",
    "    pattern = []\n",
    "    for i in range(lines) :\n",
    "        pattern.append(char*incr)\n",
    "        incr = incr + 2\n",
    "    return pattern"
   ]
  },
  {
   "cell_type": "code",
   "execution_count": 24,
   "id": "e4e58db3",
   "metadata": {},
   "outputs": [
    {
     "data": {
      "text/plain": [
       "['*',\n",
       " '***',\n",
       " '*****',\n",
       " '*******',\n",
       " '*********',\n",
       " '***********',\n",
       " '*************',\n",
       " '***************']"
      ]
     },
     "execution_count": 24,
     "metadata": {},
     "output_type": "execute_result"
    }
   ],
   "source": [
    "pyramid('*', 8)"
   ]
  },
  {
   "cell_type": "code",
   "execution_count": 27,
   "id": "add471c2",
   "metadata": {},
   "outputs": [],
   "source": [
    "d2 = {       i :  pyramid('*', i)   for i in range(1,11)  }"
   ]
  },
  {
   "cell_type": "code",
   "execution_count": 28,
   "id": "dcbf7e23",
   "metadata": {},
   "outputs": [
    {
     "data": {
      "text/plain": [
       "{1: ['*'],\n",
       " 2: ['*', '***'],\n",
       " 3: ['*', '***', '*****'],\n",
       " 4: ['*', '***', '*****', '*******'],\n",
       " 5: ['*', '***', '*****', '*******', '*********'],\n",
       " 6: ['*', '***', '*****', '*******', '*********', '***********'],\n",
       " 7: ['*',\n",
       "  '***',\n",
       "  '*****',\n",
       "  '*******',\n",
       "  '*********',\n",
       "  '***********',\n",
       "  '*************'],\n",
       " 8: ['*',\n",
       "  '***',\n",
       "  '*****',\n",
       "  '*******',\n",
       "  '*********',\n",
       "  '***********',\n",
       "  '*************',\n",
       "  '***************'],\n",
       " 9: ['*',\n",
       "  '***',\n",
       "  '*****',\n",
       "  '*******',\n",
       "  '*********',\n",
       "  '***********',\n",
       "  '*************',\n",
       "  '***************',\n",
       "  '*****************'],\n",
       " 10: ['*',\n",
       "  '***',\n",
       "  '*****',\n",
       "  '*******',\n",
       "  '*********',\n",
       "  '***********',\n",
       "  '*************',\n",
       "  '***************',\n",
       "  '*****************',\n",
       "  '*******************']}"
      ]
     },
     "execution_count": 28,
     "metadata": {},
     "output_type": "execute_result"
    }
   ],
   "source": [
    "d2"
   ]
  },
  {
   "cell_type": "code",
   "execution_count": 30,
   "id": "766c50a7",
   "metadata": {},
   "outputs": [
    {
     "data": {
      "text/plain": [
       "['*',\n",
       " '***',\n",
       " '*****',\n",
       " '*******',\n",
       " '*********',\n",
       " '***********',\n",
       " '*************',\n",
       " '***************',\n",
       " '*****************',\n",
       " '*******************']"
      ]
     },
     "execution_count": 30,
     "metadata": {},
     "output_type": "execute_result"
    }
   ],
   "source": [
    "d2[10]"
   ]
  },
  {
   "cell_type": "code",
   "execution_count": 39,
   "id": "b6ed714a",
   "metadata": {},
   "outputs": [
    {
     "data": {
      "text/plain": [
       "['*', '***', '*****', '*******']"
      ]
     },
     "execution_count": 39,
     "metadata": {},
     "output_type": "execute_result"
    }
   ],
   "source": [
    "d2[4]"
   ]
  },
  {
   "cell_type": "code",
   "execution_count": 42,
   "id": "ac661d86",
   "metadata": {},
   "outputs": [
    {
     "name": "stdout",
     "output_type": "stream",
     "text": [
      "------------------------*-------------------------\n",
      "\n",
      "------------------------*-------------------------\n",
      "-----------------------***------------------------\n",
      "\n",
      "------------------------*-------------------------\n",
      "-----------------------***------------------------\n",
      "----------------------*****-----------------------\n",
      "\n",
      "------------------------*-------------------------\n",
      "-----------------------***------------------------\n",
      "----------------------*****-----------------------\n",
      "---------------------*******----------------------\n",
      "\n",
      "------------------------*-------------------------\n",
      "-----------------------***------------------------\n",
      "----------------------*****-----------------------\n",
      "---------------------*******----------------------\n",
      "--------------------*********---------------------\n",
      "\n",
      "------------------------*-------------------------\n",
      "-----------------------***------------------------\n",
      "----------------------*****-----------------------\n",
      "---------------------*******----------------------\n",
      "--------------------*********---------------------\n",
      "-------------------***********--------------------\n",
      "\n",
      "------------------------*-------------------------\n",
      "-----------------------***------------------------\n",
      "----------------------*****-----------------------\n",
      "---------------------*******----------------------\n",
      "--------------------*********---------------------\n",
      "-------------------***********--------------------\n",
      "------------------*************-------------------\n",
      "\n",
      "------------------------*-------------------------\n",
      "-----------------------***------------------------\n",
      "----------------------*****-----------------------\n",
      "---------------------*******----------------------\n",
      "--------------------*********---------------------\n",
      "-------------------***********--------------------\n",
      "------------------*************-------------------\n",
      "-----------------***************------------------\n",
      "\n",
      "------------------------*-------------------------\n",
      "-----------------------***------------------------\n",
      "----------------------*****-----------------------\n",
      "---------------------*******----------------------\n",
      "--------------------*********---------------------\n",
      "-------------------***********--------------------\n",
      "------------------*************-------------------\n",
      "-----------------***************------------------\n",
      "----------------*****************-----------------\n",
      "\n",
      "------------------------*-------------------------\n",
      "-----------------------***------------------------\n",
      "----------------------*****-----------------------\n",
      "---------------------*******----------------------\n",
      "--------------------*********---------------------\n",
      "-------------------***********--------------------\n",
      "------------------*************-------------------\n",
      "-----------------***************------------------\n",
      "----------------*****************-----------------\n",
      "---------------*******************----------------\n",
      "\n"
     ]
    }
   ],
   "source": [
    "for i in range(1,11) :\n",
    "    for k in d2[i] :\n",
    "        print(k.center(50, '-'))\n",
    "    print()"
   ]
  },
  {
   "cell_type": "code",
   "execution_count": 44,
   "id": "1a941972",
   "metadata": {},
   "outputs": [
    {
     "name": "stdout",
     "output_type": "stream",
     "text": [
      "=======================================*\n",
      "=====================================***\n",
      "===================================*****\n",
      "=================================*******\n",
      "===============================*********\n",
      "=============================***********\n",
      "===========================*************\n",
      "=========================***************\n",
      "=======================*****************\n",
      "=====================*******************\n"
     ]
    }
   ],
   "source": [
    "for i in d2[10] :\n",
    "    print(i.rjust(40, '='))"
   ]
  },
  {
   "cell_type": "code",
   "execution_count": 48,
   "id": "97c2162a",
   "metadata": {},
   "outputs": [
    {
     "name": "stdout",
     "output_type": "stream",
     "text": [
      "*.......................................\n",
      "***.....................................\n",
      "*****...................................\n",
      "*******.................................\n",
      "*********...............................\n",
      "***********.............................\n",
      "*************...........................\n",
      "***************.........................\n",
      "*****************.......................\n"
     ]
    }
   ],
   "source": [
    "for i in d2[9] :\n",
    "    print(i.ljust(40, '.'))"
   ]
  },
  {
   "cell_type": "code",
   "execution_count": 51,
   "id": "2e4c98a2",
   "metadata": {},
   "outputs": [
    {
     "name": "stdout",
     "output_type": "stream",
     "text": [
      "                   *                    \n",
      "                  ***                   \n",
      "                 *****                  \n",
      "                *******                 \n",
      "               *********                \n",
      "              ***********               \n",
      "             *************              \n",
      "            ***************             \n",
      "           *****************            \n"
     ]
    }
   ],
   "source": [
    "for i in d2[9] :\n",
    "    print(i.center(40, ' '))"
   ]
  },
  {
   "cell_type": "code",
   "execution_count": null,
   "id": "826dd6f0",
   "metadata": {},
   "outputs": [],
   "source": []
  },
  {
   "cell_type": "code",
   "execution_count": null,
   "id": "f95ddd5e",
   "metadata": {},
   "outputs": [],
   "source": []
  },
  {
   "cell_type": "code",
   "execution_count": null,
   "id": "6e601fbb",
   "metadata": {},
   "outputs": [],
   "source": []
  },
  {
   "cell_type": "code",
   "execution_count": null,
   "id": "455df448",
   "metadata": {},
   "outputs": [],
   "source": []
  },
  {
   "cell_type": "code",
   "execution_count": null,
   "id": "82035738",
   "metadata": {},
   "outputs": [],
   "source": []
  },
  {
   "cell_type": "code",
   "execution_count": null,
   "id": "52068575",
   "metadata": {},
   "outputs": [],
   "source": []
  },
  {
   "cell_type": "code",
   "execution_count": null,
   "id": "17518172",
   "metadata": {},
   "outputs": [],
   "source": []
  },
  {
   "cell_type": "code",
   "execution_count": null,
   "id": "c5958118",
   "metadata": {},
   "outputs": [],
   "source": []
  },
  {
   "cell_type": "code",
   "execution_count": null,
   "id": "1f01c979",
   "metadata": {},
   "outputs": [],
   "source": []
  },
  {
   "cell_type": "code",
   "execution_count": null,
   "id": "e18d6ad7",
   "metadata": {},
   "outputs": [],
   "source": []
  },
  {
   "cell_type": "code",
   "execution_count": null,
   "id": "a59cbd1e",
   "metadata": {},
   "outputs": [],
   "source": []
  },
  {
   "cell_type": "code",
   "execution_count": null,
   "id": "46416032",
   "metadata": {},
   "outputs": [],
   "source": []
  },
  {
   "cell_type": "code",
   "execution_count": null,
   "id": "81567c29",
   "metadata": {},
   "outputs": [],
   "source": []
  },
  {
   "cell_type": "code",
   "execution_count": null,
   "id": "ae6a9c9c",
   "metadata": {},
   "outputs": [],
   "source": []
  },
  {
   "cell_type": "code",
   "execution_count": null,
   "id": "436f65bd",
   "metadata": {},
   "outputs": [],
   "source": []
  },
  {
   "cell_type": "code",
   "execution_count": 31,
   "id": "190250e8",
   "metadata": {},
   "outputs": [
    {
     "data": {
      "text/plain": [
       "['*',\n",
       " '***',\n",
       " '*****',\n",
       " '*******',\n",
       " '*********',\n",
       " '***********',\n",
       " '*************',\n",
       " '***************']"
      ]
     },
     "execution_count": 31,
     "metadata": {},
     "output_type": "execute_result"
    }
   ],
   "source": []
  },
  {
   "cell_type": "code",
   "execution_count": null,
   "id": "cabdabcc",
   "metadata": {},
   "outputs": [],
   "source": []
  },
  {
   "cell_type": "code",
   "execution_count": null,
   "id": "19f78686",
   "metadata": {},
   "outputs": [],
   "source": []
  },
  {
   "cell_type": "code",
   "execution_count": null,
   "id": "0760a6b2",
   "metadata": {},
   "outputs": [],
   "source": []
  },
  {
   "cell_type": "code",
   "execution_count": null,
   "id": "8f8f9e4d",
   "metadata": {},
   "outputs": [],
   "source": []
  },
  {
   "cell_type": "code",
   "execution_count": null,
   "id": "4180bc10",
   "metadata": {},
   "outputs": [],
   "source": []
  },
  {
   "cell_type": "code",
   "execution_count": null,
   "id": "1a822655",
   "metadata": {},
   "outputs": [],
   "source": []
  },
  {
   "cell_type": "code",
   "execution_count": null,
   "id": "a28b9e9b",
   "metadata": {},
   "outputs": [],
   "source": []
  },
  {
   "cell_type": "code",
   "execution_count": null,
   "id": "2458c326",
   "metadata": {},
   "outputs": [],
   "source": []
  },
  {
   "cell_type": "code",
   "execution_count": null,
   "id": "47df805c",
   "metadata": {},
   "outputs": [],
   "source": []
  },
  {
   "cell_type": "code",
   "execution_count": null,
   "id": "5cf39aaf",
   "metadata": {},
   "outputs": [],
   "source": []
  },
  {
   "cell_type": "code",
   "execution_count": null,
   "id": "f3e6bd9e",
   "metadata": {},
   "outputs": [],
   "source": []
  },
  {
   "cell_type": "code",
   "execution_count": null,
   "id": "07f42285",
   "metadata": {},
   "outputs": [],
   "source": []
  },
  {
   "cell_type": "code",
   "execution_count": 118,
   "id": "86fbc182",
   "metadata": {},
   "outputs": [],
   "source": [
    "def pyramid(char, lines) :\n",
    "    incre = 1\n",
    "    pattern = []\n",
    "    for i in range(lines) : \n",
    "        pattern.append(char*incre)\n",
    "        incre = incre + 2\n",
    "    return pattern        "
   ]
  },
  {
   "cell_type": "code",
   "execution_count": 119,
   "id": "ce06f75c",
   "metadata": {},
   "outputs": [
    {
     "data": {
      "text/plain": [
       "['*', '***', '*****']"
      ]
     },
     "execution_count": 119,
     "metadata": {},
     "output_type": "execute_result"
    }
   ],
   "source": [
    "pyramid('*', 3)"
   ]
  },
  {
   "cell_type": "code",
   "execution_count": 131,
   "id": "7b469b4a",
   "metadata": {},
   "outputs": [],
   "source": [
    "patDict = {i:pyramid('*', i) for i in range(1, 11) }"
   ]
  },
  {
   "cell_type": "code",
   "execution_count": 149,
   "id": "dd6a8c94",
   "metadata": {},
   "outputs": [
    {
     "name": "stdout",
     "output_type": "stream",
     "text": [
      "                        *                         \n",
      "                       ***                        \n",
      "                      *****                       \n",
      "                     *******                      \n",
      "                    *********                     \n"
     ]
    }
   ],
   "source": [
    "for i in patDict[5] :\n",
    "    print(i.center(50,' '))"
   ]
  }
 ],
 "metadata": {
  "kernelspec": {
   "display_name": "Python 3 (ipykernel)",
   "language": "python",
   "name": "python3"
  },
  "language_info": {
   "codemirror_mode": {
    "name": "ipython",
    "version": 3
   },
   "file_extension": ".py",
   "mimetype": "text/x-python",
   "name": "python",
   "nbconvert_exporter": "python",
   "pygments_lexer": "ipython3",
   "version": "3.10.2"
  }
 },
 "nbformat": 4,
 "nbformat_minor": 5
}
