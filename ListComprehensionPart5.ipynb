{
 "cells": [
  {
   "cell_type": "markdown",
   "id": "33b75954",
   "metadata": {},
   "source": [
    "<font size=\"5\" color='blue'>\n",
    "List Comprehension - Part 5 <br>\n",
    "<font size=\"4\" color='red'>    \n",
    "List Methods    \n",
    "</font>`\n",
    "\n"
   ]
  },
  {
   "cell_type": "markdown",
   "id": "90b469ef",
   "metadata": {},
   "source": [
    "Source : https://docs.python.org/3/tutorial/datastructures.html"
   ]
  },
  {
   "cell_type": "markdown",
   "id": "45150844",
   "metadata": {},
   "source": [
    "list.append(x) <br>\n",
    "Add an item to the end of the list. Equivalent to a[len(a):] = [x]."
   ]
  },
  {
   "cell_type": "code",
   "execution_count": null,
   "id": "531fb740",
   "metadata": {},
   "outputs": [],
   "source": [
    "a = [1,2,3]"
   ]
  },
  {
   "cell_type": "code",
   "execution_count": null,
   "id": "22af3735",
   "metadata": {},
   "outputs": [],
   "source": [
    "a.append(4)"
   ]
  },
  {
   "cell_type": "code",
   "execution_count": null,
   "id": "24e5d5da",
   "metadata": {},
   "outputs": [],
   "source": [
    "a"
   ]
  },
  {
   "cell_type": "code",
   "execution_count": null,
   "id": "73dec280",
   "metadata": {},
   "outputs": [],
   "source": [
    "a[len(a):] = [5]"
   ]
  },
  {
   "cell_type": "code",
   "execution_count": null,
   "id": "c2d04d80",
   "metadata": {},
   "outputs": [],
   "source": [
    "a.append([6,7])"
   ]
  },
  {
   "cell_type": "code",
   "execution_count": null,
   "id": "337b8137",
   "metadata": {},
   "outputs": [],
   "source": [
    "a"
   ]
  },
  {
   "cell_type": "code",
   "execution_count": null,
   "id": "137e3edc",
   "metadata": {},
   "outputs": [],
   "source": [
    "a[len(a): ] = [8,9]"
   ]
  },
  {
   "cell_type": "code",
   "execution_count": null,
   "id": "f48ae483",
   "metadata": {},
   "outputs": [],
   "source": [
    "a"
   ]
  },
  {
   "cell_type": "markdown",
   "id": "1636ab7f",
   "metadata": {},
   "source": [
    "list.extend(iterable) <br>\n",
    "Extend the list by appending all the items from the iterable. Equivalent to a[len(a):] = iterable.\n"
   ]
  },
  {
   "cell_type": "code",
   "execution_count": null,
   "id": "126ed936",
   "metadata": {},
   "outputs": [],
   "source": [
    "a = [1,2,3]"
   ]
  },
  {
   "cell_type": "code",
   "execution_count": null,
   "id": "fbacd3e0",
   "metadata": {},
   "outputs": [],
   "source": [
    "a.extend([4,5,6])"
   ]
  },
  {
   "cell_type": "code",
   "execution_count": null,
   "id": "573b0069",
   "metadata": {},
   "outputs": [],
   "source": [
    "a"
   ]
  },
  {
   "cell_type": "code",
   "execution_count": null,
   "id": "7ff6e0b8",
   "metadata": {},
   "outputs": [],
   "source": [
    "a[len(a):] = [7,8,9]"
   ]
  },
  {
   "cell_type": "code",
   "execution_count": null,
   "id": "8719163f",
   "metadata": {},
   "outputs": [],
   "source": [
    "a"
   ]
  },
  {
   "cell_type": "code",
   "execution_count": null,
   "id": "ab28c417",
   "metadata": {},
   "outputs": [],
   "source": [
    "a.extend([10])"
   ]
  },
  {
   "cell_type": "code",
   "execution_count": null,
   "id": "447255d9",
   "metadata": {},
   "outputs": [],
   "source": [
    "a.append(10)"
   ]
  },
  {
   "cell_type": "code",
   "execution_count": null,
   "id": "3ce66dd4",
   "metadata": {},
   "outputs": [],
   "source": [
    "a"
   ]
  },
  {
   "cell_type": "markdown",
   "id": "55904e44",
   "metadata": {},
   "source": [
    "list.insert(i, x) <br>\n",
    "Insert an item at a given position. The first argument is the index of the element before which to insert, \n",
    "so a.insert(0, x) inserts at the front of the list, and a.insert(len(a), x) is equivalent to a.append(x)."
   ]
  },
  {
   "cell_type": "code",
   "execution_count": null,
   "id": "52af78bf",
   "metadata": {},
   "outputs": [],
   "source": [
    "a = [1,2,3]"
   ]
  },
  {
   "cell_type": "code",
   "execution_count": null,
   "id": "b383ab18",
   "metadata": {},
   "outputs": [],
   "source": [
    "a.insert(1, 1.5)"
   ]
  },
  {
   "cell_type": "code",
   "execution_count": null,
   "id": "460f87d8",
   "metadata": {},
   "outputs": [],
   "source": [
    "a"
   ]
  },
  {
   "cell_type": "code",
   "execution_count": null,
   "id": "009433ed",
   "metadata": {},
   "outputs": [],
   "source": [
    "a.insert(4, 4)"
   ]
  },
  {
   "cell_type": "code",
   "execution_count": null,
   "id": "b5cc8a32",
   "metadata": {},
   "outputs": [],
   "source": [
    "a"
   ]
  },
  {
   "cell_type": "code",
   "execution_count": null,
   "id": "473b8b4e",
   "metadata": {},
   "outputs": [],
   "source": [
    "a[len(a):] = [5]"
   ]
  },
  {
   "cell_type": "code",
   "execution_count": null,
   "id": "7e715096",
   "metadata": {},
   "outputs": [],
   "source": [
    "a"
   ]
  },
  {
   "cell_type": "code",
   "execution_count": null,
   "id": "a20f0009",
   "metadata": {},
   "outputs": [],
   "source": [
    "a.append(6)"
   ]
  },
  {
   "cell_type": "code",
   "execution_count": null,
   "id": "393e84da",
   "metadata": {},
   "outputs": [],
   "source": [
    "a"
   ]
  },
  {
   "cell_type": "code",
   "execution_count": null,
   "id": "0b5adc5c",
   "metadata": {},
   "outputs": [],
   "source": [
    "a.insert(4, [10,20,30])"
   ]
  },
  {
   "cell_type": "code",
   "execution_count": null,
   "id": "22e305e9",
   "metadata": {},
   "outputs": [],
   "source": [
    "a"
   ]
  },
  {
   "cell_type": "code",
   "execution_count": null,
   "id": "374b36f1",
   "metadata": {},
   "outputs": [],
   "source": [
    "a.insert(len(a), 100)"
   ]
  },
  {
   "cell_type": "code",
   "execution_count": null,
   "id": "0cccd310",
   "metadata": {},
   "outputs": [],
   "source": [
    "a"
   ]
  },
  {
   "cell_type": "markdown",
   "id": "13c9ed96",
   "metadata": {},
   "source": [
    "list.remove(x) <br>\n",
    "Remove the first item from the list whose value is equal to x. It raises a ValueError if there is no such item."
   ]
  },
  {
   "cell_type": "code",
   "execution_count": null,
   "id": "3edec2bc",
   "metadata": {},
   "outputs": [],
   "source": [
    "a = [1,2,3,2, 2, 10,9, 8, 1]"
   ]
  },
  {
   "cell_type": "code",
   "execution_count": null,
   "id": "4e4b5182",
   "metadata": {},
   "outputs": [],
   "source": [
    "a.remove(2)"
   ]
  },
  {
   "cell_type": "code",
   "execution_count": null,
   "id": "d2936b84",
   "metadata": {},
   "outputs": [],
   "source": [
    "a"
   ]
  },
  {
   "cell_type": "code",
   "execution_count": null,
   "id": "fce5503c",
   "metadata": {},
   "outputs": [],
   "source": [
    "a.remove(11)"
   ]
  },
  {
   "cell_type": "markdown",
   "id": "2ef35c99",
   "metadata": {},
   "source": [
    "list.pop([i])  <br>\n",
    "Remove the item at the given position in the list, and return it. If no index is specified, a.pop() removes \n",
    "and returns the last item in the list. (The square brackets around the i in the method signature denote that\n",
    "the parameter is optional, not that you should type square brackets at that position. You will see this \n",
    "notation frequently in the Python Library Reference.)"
   ]
  },
  {
   "cell_type": "code",
   "execution_count": null,
   "id": "7aae4632",
   "metadata": {},
   "outputs": [],
   "source": [
    "a = [1,2,3]"
   ]
  },
  {
   "cell_type": "code",
   "execution_count": null,
   "id": "10c7dd57",
   "metadata": {},
   "outputs": [],
   "source": [
    "a.pop()"
   ]
  },
  {
   "cell_type": "code",
   "execution_count": null,
   "id": "de900c39",
   "metadata": {},
   "outputs": [],
   "source": [
    "a"
   ]
  },
  {
   "cell_type": "code",
   "execution_count": null,
   "id": "1ec0f8e0",
   "metadata": {},
   "outputs": [],
   "source": [
    "a.pop()"
   ]
  },
  {
   "cell_type": "code",
   "execution_count": null,
   "id": "8f1d3130",
   "metadata": {},
   "outputs": [],
   "source": [
    "a"
   ]
  },
  {
   "cell_type": "code",
   "execution_count": null,
   "id": "09166ec5",
   "metadata": {},
   "outputs": [],
   "source": [
    "a.pop()"
   ]
  },
  {
   "cell_type": "code",
   "execution_count": null,
   "id": "70de20cc",
   "metadata": {},
   "outputs": [],
   "source": [
    "a"
   ]
  },
  {
   "cell_type": "code",
   "execution_count": null,
   "id": "b4c7be9b",
   "metadata": {},
   "outputs": [],
   "source": [
    "a.pop()"
   ]
  },
  {
   "cell_type": "code",
   "execution_count": null,
   "id": "4a78cd3a",
   "metadata": {},
   "outputs": [],
   "source": [
    "a = [1,2,3,4,5,6,7,8,9]"
   ]
  },
  {
   "cell_type": "code",
   "execution_count": null,
   "id": "34cdb4d6",
   "metadata": {},
   "outputs": [],
   "source": [
    "a.pop()"
   ]
  },
  {
   "cell_type": "code",
   "execution_count": null,
   "id": "fbf1c379",
   "metadata": {},
   "outputs": [],
   "source": [
    "a"
   ]
  },
  {
   "cell_type": "markdown",
   "id": "69f65bda",
   "metadata": {},
   "source": [
    "list.clear() <br>\n",
    "Remove all items from the list. Equivalent to del a[:]."
   ]
  },
  {
   "cell_type": "code",
   "execution_count": null,
   "id": "af9a6a6b",
   "metadata": {},
   "outputs": [],
   "source": [
    "a = [1,2,3]"
   ]
  },
  {
   "cell_type": "code",
   "execution_count": null,
   "id": "48dc385a",
   "metadata": {},
   "outputs": [],
   "source": [
    "a.clear()"
   ]
  },
  {
   "cell_type": "code",
   "execution_count": null,
   "id": "126349ec",
   "metadata": {},
   "outputs": [],
   "source": [
    "a"
   ]
  },
  {
   "cell_type": "code",
   "execution_count": null,
   "id": "0f51072f",
   "metadata": {},
   "outputs": [],
   "source": [
    "a = [1,2,3,4,5]"
   ]
  },
  {
   "cell_type": "code",
   "execution_count": null,
   "id": "72f8d1c4",
   "metadata": {},
   "outputs": [],
   "source": [
    "a.clear()"
   ]
  },
  {
   "cell_type": "code",
   "execution_count": null,
   "id": "ef9bbaa1",
   "metadata": {},
   "outputs": [],
   "source": [
    "a"
   ]
  },
  {
   "cell_type": "code",
   "execution_count": null,
   "id": "102617d3",
   "metadata": {},
   "outputs": [],
   "source": [
    "a = [10,20,30,40,50]\n",
    "print(a)\n",
    "for i in range(len(a)) :  # 5    \n",
    "    a.pop()\n",
    "print(a)"
   ]
  },
  {
   "cell_type": "code",
   "execution_count": null,
   "id": "8fbd2634",
   "metadata": {},
   "outputs": [],
   "source": [
    "a = [10,20,30,40,50]"
   ]
  },
  {
   "cell_type": "code",
   "execution_count": null,
   "id": "e56cad91",
   "metadata": {},
   "outputs": [],
   "source": [
    "a.clear()"
   ]
  },
  {
   "cell_type": "code",
   "execution_count": null,
   "id": "bdb21425",
   "metadata": {},
   "outputs": [],
   "source": [
    "a"
   ]
  },
  {
   "cell_type": "code",
   "execution_count": null,
   "id": "ba21832b",
   "metadata": {},
   "outputs": [],
   "source": [
    "a"
   ]
  },
  {
   "cell_type": "code",
   "execution_count": null,
   "id": "ad20e4b2",
   "metadata": {},
   "outputs": [],
   "source": [
    "del a[:]"
   ]
  },
  {
   "cell_type": "code",
   "execution_count": null,
   "id": "ba30665e",
   "metadata": {},
   "outputs": [],
   "source": [
    "a"
   ]
  },
  {
   "cell_type": "code",
   "execution_count": null,
   "id": "306659a6",
   "metadata": {},
   "outputs": [],
   "source": [
    "del a"
   ]
  },
  {
   "cell_type": "code",
   "execution_count": null,
   "id": "21467b6d",
   "metadata": {},
   "outputs": [],
   "source": [
    "a"
   ]
  },
  {
   "cell_type": "markdown",
   "id": "8c8d2525",
   "metadata": {},
   "source": [
    "list.index(x[, start[, end]]) <br>\n",
    "Return zero-based index in the list of the first item whose value is equal to x. Raises a ValueError if there\n",
    "is no such item. The optional arguments start and end are interpreted as in the slice notation and are used to\n",
    "limit the search to a particular subsequence of the list. The returned index is computed relative to the beginning\n",
    "of the full sequence rather than the start argument.\n",
    "\n"
   ]
  },
  {
   "cell_type": "code",
   "execution_count": null,
   "id": "ce4974f8",
   "metadata": {},
   "outputs": [],
   "source": [
    "a = [10,20,30,40,50,60,70,80,1,2,3,4,5,6,7,8]"
   ]
  },
  {
   "cell_type": "code",
   "execution_count": null,
   "id": "32853bd9",
   "metadata": {},
   "outputs": [],
   "source": [
    "a.index(3)"
   ]
  },
  {
   "cell_type": "code",
   "execution_count": null,
   "id": "c8818096",
   "metadata": {},
   "outputs": [],
   "source": [
    "a.index(3)"
   ]
  },
  {
   "cell_type": "code",
   "execution_count": null,
   "id": "d053e922",
   "metadata": {},
   "outputs": [],
   "source": [
    "a = [10,20,30,40,50,60,70,80,1,2,3,4,5,6,7,8]"
   ]
  },
  {
   "cell_type": "code",
   "execution_count": null,
   "id": "211f6948",
   "metadata": {},
   "outputs": [],
   "source": [
    "x1 = a.index(3)"
   ]
  },
  {
   "cell_type": "code",
   "execution_count": null,
   "id": "5f558f62",
   "metadata": {},
   "outputs": [],
   "source": [
    "x1"
   ]
  },
  {
   "cell_type": "code",
   "execution_count": null,
   "id": "d723dcab",
   "metadata": {},
   "outputs": [],
   "source": [
    "a.remove(x1)"
   ]
  },
  {
   "cell_type": "code",
   "execution_count": null,
   "id": "8b9f83c0",
   "metadata": {},
   "outputs": [],
   "source": [
    "a"
   ]
  },
  {
   "cell_type": "code",
   "execution_count": null,
   "id": "b7440260",
   "metadata": {},
   "outputs": [],
   "source": [
    "a.extend([30,40,30,30])"
   ]
  },
  {
   "cell_type": "code",
   "execution_count": null,
   "id": "260e2660",
   "metadata": {},
   "outputs": [],
   "source": [
    "a"
   ]
  },
  {
   "cell_type": "code",
   "execution_count": null,
   "id": "3cda45cc",
   "metadata": {},
   "outputs": [],
   "source": [
    "a.index(30)"
   ]
  },
  {
   "cell_type": "code",
   "execution_count": null,
   "id": "35a080b5",
   "metadata": {},
   "outputs": [],
   "source": [
    "a.remove(30)"
   ]
  },
  {
   "cell_type": "code",
   "execution_count": null,
   "id": "95b3e9d1",
   "metadata": {},
   "outputs": [],
   "source": [
    "a"
   ]
  },
  {
   "cell_type": "code",
   "execution_count": null,
   "id": "0a4ecd71",
   "metadata": {},
   "outputs": [],
   "source": [
    "a.index(30)"
   ]
  },
  {
   "cell_type": "code",
   "execution_count": null,
   "id": "e693e819",
   "metadata": {},
   "outputs": [],
   "source": [
    "a.remove(30)"
   ]
  },
  {
   "cell_type": "code",
   "execution_count": null,
   "id": "f43124e9",
   "metadata": {},
   "outputs": [],
   "source": [
    "a"
   ]
  },
  {
   "cell_type": "code",
   "execution_count": null,
   "id": "2dd4318a",
   "metadata": {},
   "outputs": [],
   "source": [
    "list.index(x[, start[, end]]) "
   ]
  },
  {
   "cell_type": "code",
   "execution_count": null,
   "id": "fbf1c395",
   "metadata": {},
   "outputs": [],
   "source": [
    "a = [1,2,1,2,2,2,2,1,2,3,3,10,20,30,10,10, 1]"
   ]
  },
  {
   "cell_type": "code",
   "execution_count": null,
   "id": "a5df943a",
   "metadata": {},
   "outputs": [],
   "source": [
    "a.index(1,10)"
   ]
  },
  {
   "cell_type": "markdown",
   "id": "3696b75b",
   "metadata": {},
   "source": [
    "list.count(x) <br>\n",
    "Return the number of times x appears in the list."
   ]
  },
  {
   "cell_type": "code",
   "execution_count": null,
   "id": "e6105c94",
   "metadata": {},
   "outputs": [],
   "source": [
    "a = [10,1,2,10,9, 10, 1, 2, 1]"
   ]
  },
  {
   "cell_type": "code",
   "execution_count": null,
   "id": "9a2eecd1",
   "metadata": {},
   "outputs": [],
   "source": [
    "a.count(101)"
   ]
  },
  {
   "cell_type": "markdown",
   "id": "0b4080ac",
   "metadata": {},
   "source": [
    "list.reverse()  <br>\n",
    "Reverse the elements of the list in place."
   ]
  },
  {
   "cell_type": "code",
   "execution_count": null,
   "id": "03b58721",
   "metadata": {},
   "outputs": [],
   "source": [
    "a = [1,2,3,4]"
   ]
  },
  {
   "cell_type": "code",
   "execution_count": null,
   "id": "a5cd5055",
   "metadata": {},
   "outputs": [],
   "source": [
    "b = a.reverse()"
   ]
  },
  {
   "cell_type": "code",
   "execution_count": null,
   "id": "3bdaf6e5",
   "metadata": {},
   "outputs": [],
   "source": [
    "a"
   ]
  },
  {
   "cell_type": "code",
   "execution_count": null,
   "id": "f453a9c4",
   "metadata": {},
   "outputs": [],
   "source": [
    "b"
   ]
  },
  {
   "cell_type": "code",
   "execution_count": null,
   "id": "89484163",
   "metadata": {},
   "outputs": [],
   "source": [
    "a = [1,2,5,4,3,0]"
   ]
  },
  {
   "cell_type": "code",
   "execution_count": null,
   "id": "976c28c1",
   "metadata": {},
   "outputs": [],
   "source": [
    "sort(a)"
   ]
  },
  {
   "cell_type": "code",
   "execution_count": null,
   "id": "209d9b1c",
   "metadata": {},
   "outputs": [],
   "source": [
    "a.sort()"
   ]
  },
  {
   "cell_type": "code",
   "execution_count": null,
   "id": "f8957cf2",
   "metadata": {},
   "outputs": [],
   "source": [
    "a"
   ]
  },
  {
   "cell_type": "code",
   "execution_count": null,
   "id": "6ec338d1",
   "metadata": {},
   "outputs": [],
   "source": [
    "b = a.sort()"
   ]
  },
  {
   "cell_type": "code",
   "execution_count": null,
   "id": "d12da7b2",
   "metadata": {},
   "outputs": [],
   "source": [
    "b"
   ]
  },
  {
   "cell_type": "code",
   "execution_count": null,
   "id": "51ddb456",
   "metadata": {},
   "outputs": [],
   "source": [
    "a"
   ]
  },
  {
   "cell_type": "code",
   "execution_count": null,
   "id": "96935d11",
   "metadata": {},
   "outputs": [],
   "source": [
    "a"
   ]
  },
  {
   "cell_type": "code",
   "execution_count": null,
   "id": "63b4faac",
   "metadata": {},
   "outputs": [],
   "source": [
    "a.sort(reverse=False)"
   ]
  },
  {
   "cell_type": "code",
   "execution_count": null,
   "id": "801f8704",
   "metadata": {},
   "outputs": [],
   "source": [
    "a"
   ]
  },
  {
   "cell_type": "code",
   "execution_count": null,
   "id": "35ddd0c6",
   "metadata": {},
   "outputs": [],
   "source": [
    "a.sort()"
   ]
  },
  {
   "cell_type": "code",
   "execution_count": 5,
   "id": "617d50ad",
   "metadata": {},
   "outputs": [],
   "source": [
    "def sumDigits(n) :\n",
    "    \n",
    "    s = 0\n",
    "    while n != 0 :\n",
    "        s = s + n%10\n",
    "        n = n//10\n",
    "    return s\n",
    "    \n",
    "    "
   ]
  },
  {
   "cell_type": "code",
   "execution_count": 2,
   "id": "5635a3f2",
   "metadata": {},
   "outputs": [
    {
     "data": {
      "text/plain": [
       "8"
      ]
     },
     "execution_count": 2,
     "metadata": {},
     "output_type": "execute_result"
    }
   ],
   "source": [
    "sumDigits(125)"
   ]
  },
  {
   "cell_type": "code",
   "execution_count": 3,
   "id": "fa926ca0",
   "metadata": {},
   "outputs": [
    {
     "data": {
      "text/plain": [
       "5"
      ]
     },
     "execution_count": 3,
     "metadata": {},
     "output_type": "execute_result"
    }
   ],
   "source": [
    "sumDigits(23)"
   ]
  },
  {
   "cell_type": "code",
   "execution_count": 4,
   "id": "a11e08a4",
   "metadata": {},
   "outputs": [
    {
     "data": {
      "text/plain": [
       "1"
      ]
     },
     "execution_count": 4,
     "metadata": {},
     "output_type": "execute_result"
    }
   ],
   "source": [
    "sumDigits(10)"
   ]
  },
  {
   "cell_type": "code",
   "execution_count": 6,
   "id": "9abe12ad",
   "metadata": {},
   "outputs": [],
   "source": [
    "a = [125,1, 9, 3, 10]"
   ]
  },
  {
   "cell_type": "code",
   "execution_count": 7,
   "id": "86cbafef",
   "metadata": {},
   "outputs": [],
   "source": [
    "a.sort(key=sumDigits)     # 8, 1, 9, 3, 1    ||  8, 1, 9, 3, 1  ||  "
   ]
  },
  {
   "cell_type": "code",
   "execution_count": 8,
   "id": "d69615a3",
   "metadata": {},
   "outputs": [
    {
     "data": {
      "text/plain": [
       "[1, 10, 3, 125, 9]"
      ]
     },
     "execution_count": 8,
     "metadata": {},
     "output_type": "execute_result"
    }
   ],
   "source": [
    "a"
   ]
  },
  {
   "cell_type": "code",
   "execution_count": 14,
   "id": "8f57d090",
   "metadata": {},
   "outputs": [],
   "source": [
    "a = [125, 124, 123, 5, 4, 12]    #125 = 8,   124 = 7,  123 = 6, 5 = 5, 4  = 4 "
   ]
  },
  {
   "cell_type": "code",
   "execution_count": 15,
   "id": "f0b02bc0",
   "metadata": {},
   "outputs": [],
   "source": [
    "# 4, 5, 123, 124, 125"
   ]
  },
  {
   "cell_type": "code",
   "execution_count": 16,
   "id": "06592d4e",
   "metadata": {},
   "outputs": [],
   "source": [
    "a.sort(key=sumDigits)"
   ]
  },
  {
   "cell_type": "code",
   "execution_count": 17,
   "id": "245be8be",
   "metadata": {},
   "outputs": [
    {
     "data": {
      "text/plain": [
       "[12, 4, 5, 123, 124, 125]"
      ]
     },
     "execution_count": 17,
     "metadata": {},
     "output_type": "execute_result"
    }
   ],
   "source": [
    "a"
   ]
  },
  {
   "cell_type": "code",
   "execution_count": null,
   "id": "a1fd6e14",
   "metadata": {},
   "outputs": [],
   "source": []
  }
 ],
 "metadata": {
  "kernelspec": {
   "display_name": "Python 3 (ipykernel)",
   "language": "python",
   "name": "python3"
  },
  "language_info": {
   "codemirror_mode": {
    "name": "ipython",
    "version": 3
   },
   "file_extension": ".py",
   "mimetype": "text/x-python",
   "name": "python",
   "nbconvert_exporter": "python",
   "pygments_lexer": "ipython3",
   "version": "3.10.2"
  }
 },
 "nbformat": 4,
 "nbformat_minor": 5
}
