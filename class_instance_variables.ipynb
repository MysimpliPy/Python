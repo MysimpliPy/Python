{
 "cells": [
  {
   "cell_type": "markdown",
   "id": "3e6b0395",
   "metadata": {},
   "source": [
    "<font size='4' color='blue'>\n",
    "OOP - Class and Instance Variables\n",
    "</font>"
   ]
  },
  {
   "cell_type": "code",
   "execution_count": 208,
   "id": "7d24f123",
   "metadata": {},
   "outputs": [],
   "source": [
    "# All the variables created within the class declaration are \"class variables\"\n",
    "# We will understand this with an example \n",
    "\n",
    "class Employee:\n",
    "    \n",
    "    org = 'ABC Corporation'            # Class Variable\n",
    "\n",
    "    def __init__(self, name, empid):\n",
    "        self.name  = name              # Instance Variable\n",
    "        self.empid = empid             # Instance Variable\n",
    "   \n",
    "    def getInfo(self) :\n",
    "        print(f\"org: {self.org}, name: {self.name}, empid: {self.empid}\")"
   ]
  },
  {
   "cell_type": "code",
   "execution_count": 209,
   "id": "4b3d9a21",
   "metadata": {},
   "outputs": [
    {
     "name": "stdout",
     "output_type": "stream",
     "text": [
      "ABC Corporation\n",
      "ABC Corporation\n",
      "org: ABC Corporation, name: Jack, empid: 1001\n",
      "org: ABC Corporation, name: Jill, empid: 2001\n"
     ]
    }
   ],
   "source": [
    "emp1 = Employee('Jack', 1001)\n",
    "emp2 = Employee('Jill', 2001)\n",
    "  \n",
    "print(emp1.org)     # prints \"ABC Corporation\"\n",
    "print(emp2.org)     # prints \"ABC Corporation\"\n",
    "emp1.getInfo()      # ABC Corporation  Jack   1001\n",
    "emp2.getInfo()      # ABC Corporation  Jill   2001\n"
   ]
  },
  {
   "cell_type": "code",
   "execution_count": 210,
   "id": "0518b41e",
   "metadata": {},
   "outputs": [
    {
     "name": "stdout",
     "output_type": "stream",
     "text": [
      "ABC Corporation\n"
     ]
    }
   ],
   "source": [
    "# Class variables can be accessed using class name also\n",
    "print(Employee.org) # prints \"ABC Corporation\""
   ]
  },
  {
   "cell_type": "code",
   "execution_count": 211,
   "id": "021cf7e3",
   "metadata": {},
   "outputs": [
    {
     "name": "stdout",
     "output_type": "stream",
     "text": [
      "XYZ Corporation\n",
      "ABC Corporation\n",
      "XYZ Corporation\n",
      "A1 Corporation\n"
     ]
    },
    {
     "data": {
      "text/plain": [
       "'A1 Corporation'"
      ]
     },
     "execution_count": 211,
     "metadata": {},
     "output_type": "execute_result"
    }
   ],
   "source": [
    "# Changing org for emp1 will not affect emp2\n",
    "\n",
    "emp1.org = 'XYZ Corporation'\n",
    "print(emp1.org) # prints 'XYZ Corporation'\n",
    "print(emp2.org) # prints 'ABC Corporation'\n",
    "  \n",
    "# To change the org for all the instances, we can change it directly from the class\n",
    "\n",
    "Employee.org = 'A1 Corporation'\n",
    "  \n",
    "print(emp1.org) # prints 'XYZ Corporation'\n",
    "print(emp2.org) # prints 'A1 Corporation'\n",
    "\n",
    "emp3 = Employee('Jai', 3001)   # new instance will access the changed name\n",
    "emp3.org"
   ]
  },
  {
   "cell_type": "code",
   "execution_count": null,
   "id": "523559cf",
   "metadata": {},
   "outputs": [],
   "source": []
  },
  {
   "cell_type": "code",
   "execution_count": null,
   "id": "43ef1f2c",
   "metadata": {},
   "outputs": [],
   "source": []
  }
 ],
 "metadata": {
  "kernelspec": {
   "display_name": "Python 3 (ipykernel)",
   "language": "python",
   "name": "python3"
  },
  "language_info": {
   "codemirror_mode": {
    "name": "ipython",
    "version": 3
   },
   "file_extension": ".py",
   "mimetype": "text/x-python",
   "name": "python",
   "nbconvert_exporter": "python",
   "pygments_lexer": "ipython3",
   "version": "3.10.2"
  },
  "widgets": {
   "application/vnd.jupyter.widget-state+json": {
    "state": {},
    "version_major": 2,
    "version_minor": 0
   }
  }
 },
 "nbformat": 4,
 "nbformat_minor": 5
}
