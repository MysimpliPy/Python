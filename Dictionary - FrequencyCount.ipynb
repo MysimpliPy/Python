{
 "cells": [
  {
   "cell_type": "markdown",
   "id": "b84d4ad6",
   "metadata": {},
   "source": [
    "<font size='4' color='blue'>\n",
    "Frequency Count using various methods\n",
    "</font>"
   ]
  },
  {
   "cell_type": "code",
   "execution_count": 97,
   "id": "1b4694d2",
   "metadata": {},
   "outputs": [],
   "source": [
    "import numpy as np\n",
    "import pandas as pd"
   ]
  },
  {
   "cell_type": "code",
   "execution_count": 214,
   "id": "9536af9e",
   "metadata": {},
   "outputs": [],
   "source": [
    "num = np.random.randint(1,11, 1000)"
   ]
  },
  {
   "cell_type": "code",
   "execution_count": 216,
   "id": "d40cf96f",
   "metadata": {},
   "outputs": [
    {
     "data": {
      "text/plain": [
       "[(1, 111),\n",
       " (2, 102),\n",
       " (3, 97),\n",
       " (4, 92),\n",
       " (5, 103),\n",
       " (6, 104),\n",
       " (7, 100),\n",
       " (8, 83),\n",
       " (9, 102),\n",
       " (10, 106)]"
      ]
     },
     "execution_count": 216,
     "metadata": {},
     "output_type": "execute_result"
    }
   ],
   "source": [
    "#method 1\n",
    "\n",
    "\n",
    "df = pd.DataFrame(num, columns=['num']).groupby(num).count()\n",
    "d1 = {i : df.loc[i].values[0] for i in df.index}\n",
    "sorted(d1.items())"
   ]
  },
  {
   "cell_type": "code",
   "execution_count": 217,
   "id": "67288d1c",
   "metadata": {},
   "outputs": [
    {
     "data": {
      "text/plain": [
       "[(1, 111),\n",
       " (2, 102),\n",
       " (3, 97),\n",
       " (4, 92),\n",
       " (5, 103),\n",
       " (6, 104),\n",
       " (7, 100),\n",
       " (8, 83),\n",
       " (9, 102),\n",
       " (10, 106)]"
      ]
     },
     "execution_count": 217,
     "metadata": {},
     "output_type": "execute_result"
    }
   ],
   "source": [
    "#method 2\n",
    "\n",
    "d2 = {}\n",
    "for i in num:\n",
    "    d2[i] = d2.get(i, 0) + 1\n",
    "sorted(d2.items())"
   ]
  },
  {
   "cell_type": "code",
   "execution_count": 220,
   "id": "18bda13a",
   "metadata": {},
   "outputs": [
    {
     "data": {
      "text/plain": [
       "[(1, 111),\n",
       " (2, 102),\n",
       " (3, 97),\n",
       " (4, 92),\n",
       " (5, 103),\n",
       " (6, 104),\n",
       " (7, 100),\n",
       " (8, 83),\n",
       " (9, 102),\n",
       " (10, 106)]"
      ]
     },
     "execution_count": 220,
     "metadata": {},
     "output_type": "execute_result"
    }
   ],
   "source": [
    "#mthod 3\n",
    "\n",
    "d3 = {}.fromkeys(set(num), 0)\n",
    "for i in num  :\n",
    "    d3[i] = d3[i] + 1      # 8\n",
    "sorted(d3.items())"
   ]
  },
  {
   "cell_type": "code",
   "execution_count": 230,
   "id": "430582f9",
   "metadata": {},
   "outputs": [
    {
     "data": {
      "text/plain": [
       "[(1, 111),\n",
       " (2, 102),\n",
       " (3, 97),\n",
       " (4, 92),\n",
       " (5, 103),\n",
       " (6, 104),\n",
       " (7, 100),\n",
       " (8, 83),\n",
       " (9, 102),\n",
       " (10, 106)]"
      ]
     },
     "execution_count": 230,
     "metadata": {},
     "output_type": "execute_result"
    }
   ],
   "source": [
    "#mthod 4\n",
    "\n",
    "x1 = np.unique(num, return_counts=True)\n",
    "d4 = dict(zip(x1[0], x1[1]))\n",
    "sorted(d4.items())"
   ]
  },
  {
   "cell_type": "code",
   "execution_count": 239,
   "id": "93e57f32",
   "metadata": {},
   "outputs": [
    {
     "data": {
      "text/plain": [
       "[(1, 111),\n",
       " (2, 102),\n",
       " (3, 97),\n",
       " (4, 92),\n",
       " (5, 103),\n",
       " (6, 104),\n",
       " (7, 100),\n",
       " (8, 83),\n",
       " (9, 102),\n",
       " (10, 106)]"
      ]
     },
     "execution_count": 239,
     "metadata": {},
     "output_type": "execute_result"
    }
   ],
   "source": [
    "# method 5\n",
    "\n",
    "d5 = {}\n",
    "for i in set(num) :\n",
    "    d5[i] = len(np.where(num==i)[0])\n",
    "sorted(d5.items())"
   ]
  },
  {
   "cell_type": "code",
   "execution_count": 243,
   "id": "44bf58c1",
   "metadata": {},
   "outputs": [
    {
     "data": {
      "text/plain": [
       "[(1, 111),\n",
       " (2, 102),\n",
       " (3, 97),\n",
       " (4, 92),\n",
       " (5, 103),\n",
       " (6, 104),\n",
       " (7, 100),\n",
       " (8, 83),\n",
       " (9, 102),\n",
       " (10, 106)]"
      ]
     },
     "execution_count": 243,
     "metadata": {},
     "output_type": "execute_result"
    }
   ],
   "source": [
    "# method 6\n",
    "\n",
    "from collections import Counter\n",
    "d7 = dict(Counter(num))\n",
    "sorted(d7.items())"
   ]
  },
  {
   "cell_type": "code",
   "execution_count": 249,
   "id": "a2f0bdd4",
   "metadata": {},
   "outputs": [
    {
     "data": {
      "text/plain": [
       "[(1, 111),\n",
       " (2, 102),\n",
       " (3, 97),\n",
       " (4, 92),\n",
       " (5, 103),\n",
       " (6, 104),\n",
       " (7, 100),\n",
       " (8, 83),\n",
       " (9, 102),\n",
       " (10, 106)]"
      ]
     },
     "execution_count": 249,
     "metadata": {},
     "output_type": "execute_result"
    }
   ],
   "source": [
    "# method 7\n",
    "\n",
    "d8 = {}\n",
    "for i in num:\n",
    "    try :\n",
    "        d8[i] = d8[i] + 1        \n",
    "    except :\n",
    "        d8[i] = 1\n",
    "sorted(d8.items())"
   ]
  },
  {
   "cell_type": "code",
   "execution_count": null,
   "id": "c43b677d",
   "metadata": {},
   "outputs": [],
   "source": []
  },
  {
   "cell_type": "code",
   "execution_count": null,
   "id": "9bec1356",
   "metadata": {},
   "outputs": [],
   "source": []
  },
  {
   "cell_type": "code",
   "execution_count": null,
   "id": "0644ef83",
   "metadata": {},
   "outputs": [],
   "source": []
  },
  {
   "cell_type": "code",
   "execution_count": null,
   "id": "0da71244",
   "metadata": {},
   "outputs": [],
   "source": []
  },
  {
   "cell_type": "code",
   "execution_count": 81,
   "id": "35d1f0e7",
   "metadata": {},
   "outputs": [],
   "source": [
    "#method 1\n",
    "\n",
    "num = np.random.randint(1,11, 1000)\n",
    "df = pd.DataFrame(num, columns=['num']).groupby(num).count()\n",
    "d1 = {i : df.loc[i].values[0] for i in df.index}"
   ]
  },
  {
   "cell_type": "code",
   "execution_count": 82,
   "id": "4799557a",
   "metadata": {},
   "outputs": [
    {
     "data": {
      "text/plain": [
       "{4: 104, 10: 130, 1: 104, 5: 81, 9: 101, 3: 91, 2: 94, 7: 108, 6: 95, 8: 92}"
      ]
     },
     "execution_count": 82,
     "metadata": {},
     "output_type": "execute_result"
    }
   ],
   "source": [
    "#method 2\n",
    "\n",
    "d2 = {}\n",
    "for i in num:\n",
    "    d2[i] = d2.get(i, 0) + 1\n",
    "d2"
   ]
  },
  {
   "cell_type": "code",
   "execution_count": 83,
   "id": "27cafc76",
   "metadata": {},
   "outputs": [
    {
     "data": {
      "text/plain": [
       "{1: 104, 2: 94, 3: 91, 4: 104, 5: 81, 6: 95, 7: 108, 8: 92, 9: 101, 10: 130}"
      ]
     },
     "execution_count": 83,
     "metadata": {},
     "output_type": "execute_result"
    }
   ],
   "source": [
    "#mthod 3\n",
    "\n",
    "d3 = {}.fromkeys(set(num), 0)\n",
    "for i in num  :\n",
    "    d3[i] = d3[i] + 1      # 8\n",
    "d3"
   ]
  },
  {
   "cell_type": "code",
   "execution_count": 84,
   "id": "345f4d6e",
   "metadata": {},
   "outputs": [
    {
     "data": {
      "text/plain": [
       "{1: 104, 2: 94, 3: 91, 4: 104, 5: 81, 6: 95, 7: 108, 8: 92, 9: 101, 10: 130}"
      ]
     },
     "execution_count": 84,
     "metadata": {},
     "output_type": "execute_result"
    }
   ],
   "source": [
    "#mthod 4\n",
    "\n",
    "x1 = np.unique(num, return_counts=True)\n",
    "d4 = dict(zip(x1[0], x1[1]))\n",
    "d4"
   ]
  },
  {
   "cell_type": "code",
   "execution_count": 75,
   "id": "1507c731",
   "metadata": {},
   "outputs": [
    {
     "data": {
      "text/plain": [
       "{1: 103, 2: 89, 3: 110, 4: 104, 5: 86, 6: 100, 7: 105, 8: 85, 9: 104, 10: 114}"
      ]
     },
     "execution_count": 75,
     "metadata": {},
     "output_type": "execute_result"
    }
   ],
   "source": [
    "# method 5\n",
    "\n",
    "d5 = {}\n",
    "for i in set(num) :\n",
    "    d5[i] = len(np.where(num==i)[0])\n",
    "d5"
   ]
  },
  {
   "cell_type": "code",
   "execution_count": 77,
   "id": "ca587fce",
   "metadata": {},
   "outputs": [
    {
     "data": {
      "text/plain": [
       "{1: 103, 2: 89, 3: 110, 4: 104, 5: 86, 6: 100, 7: 105, 8: 85, 9: 104, 10: 114}"
      ]
     },
     "execution_count": 77,
     "metadata": {},
     "output_type": "execute_result"
    }
   ],
   "source": [
    "# method 6\n",
    "\n",
    "from collections import Counter\n",
    "d7 = dict(Counter(num))\n",
    "d7 =dict(sorted(d7.items()))\n",
    "d7"
   ]
  },
  {
   "cell_type": "code",
   "execution_count": 78,
   "id": "8b50fb08",
   "metadata": {},
   "outputs": [
    {
     "data": {
      "text/plain": [
       "{4: 104, 7: 105, 2: 89, 5: 86, 6: 100, 8: 85, 3: 110, 10: 114, 9: 104, 1: 103}"
      ]
     },
     "execution_count": 78,
     "metadata": {},
     "output_type": "execute_result"
    }
   ],
   "source": [
    "# method 7\n",
    "\n",
    "d8 = {}\n",
    "for i in num:\n",
    "    try :\n",
    "        d8[i] = d8[i] + 1        \n",
    "    except :\n",
    "        d8[i] = 1\n",
    "d8"
   ]
  },
  {
   "cell_type": "code",
   "execution_count": null,
   "id": "cadda552",
   "metadata": {},
   "outputs": [],
   "source": []
  }
 ],
 "metadata": {
  "kernelspec": {
   "display_name": "Python 3 (ipykernel)",
   "language": "python",
   "name": "python3"
  },
  "language_info": {
   "codemirror_mode": {
    "name": "ipython",
    "version": 3
   },
   "file_extension": ".py",
   "mimetype": "text/x-python",
   "name": "python",
   "nbconvert_exporter": "python",
   "pygments_lexer": "ipython3",
   "version": "3.10.2"
  }
 },
 "nbformat": 4,
 "nbformat_minor": 5
}
