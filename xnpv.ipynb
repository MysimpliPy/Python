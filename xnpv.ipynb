{
 "cells": [
  {
   "cell_type": "code",
   "execution_count": 94,
   "metadata": {},
   "outputs": [],
   "source": [
    "import numpy as np\n",
    "import pandas as pd\n",
    "from datetime import date"
   ]
  },
  {
   "cell_type": "markdown",
   "metadata": {},
   "source": [
    "\n",
    "<font color=blue> <b>NPV</b> (Net Present Value) <b>vs XNPV</b> (Extended Net Present Value)</font>\n",
    "    \n",
    "Both of these are financial metrics used to determine the Present Value of Future Cash Flows. However, there is a slight difference between them. \n",
    "\n",
    "While NPV calculates the Net Present Value of a stream of <u>**cash flows occurring at regular intervals**</u>, XNPV calculation handles <u>__cash flows occurring at irregular intervals.__</u>\n",
    "\n",
    "<i>NPV = CF1 / (1+r)^1 + CF2 / (1+r)^2 + ... + CFn / (1+r)^n - Initial Investment </i>\n",
    "\n",
    "Where CF stands for cash flow, r is the discount rate, and n is the number of periods.\n",
    "\n",
    "\n",
    "<i>XNPV = CF1 / (1+r)^((D1-D0)/365) + CF2 / (1+r)^((D2-D0)/365) + ... + CFn / (1+r)^((Dn-D0)/365) - Initial Investment</i>\n",
    "\n",
    "Where CF stands for cash flow, r is the discount rate, D0 is the starting date, and D1, D2, etc. are the actual dates on which the cash flows occur.\n",
    "\n",
    "In a nutshell, while both NPV and XNPV calculate the present value of future cash flows, NPV is used for regular cash flows while XNPV is used for irregular cash flows.\n",
    "\n"
   ]
  },
  {
   "attachments": {
    "image-3.png": {
     "image/png": "[encoded data removed]"
    },
    "image.png": {
     "image/png": "[encoded data removed]"
    }
   },
   "cell_type": "markdown",
   "metadata": {},
   "source": [
    " ![image-3.png](attachment:image-3.png)\n",
    " \n",
    " ![image.png](attachment:image.png) "
   ]
  },
  {
   "cell_type": "code",
   "execution_count": 191,
   "metadata": {},
   "outputs": [],
   "source": [
    "cashflows = [-2000, 1000, 800, 1100]\n",
    "period    = [0, 1, 2, 3]\n",
    "discount  = .08"
   ]
  },
  {
   "cell_type": "markdown",
   "metadata": {},
   "source": [
    "# NPV Calculation #"
   ]
  },
  {
   "cell_type": "code",
   "execution_count": 194,
   "metadata": {},
   "outputs": [
    {
     "data": {
      "text/plain": [
       "485.01244728953895"
      ]
     },
     "execution_count": 194,
     "metadata": {},
     "output_type": "execute_result"
    }
   ],
   "source": [
    "np.asarray([ cf/(1+discount)**p for p, cf in zip(period, cashflows)]).sum()"
   ]
  },
  {
   "cell_type": "markdown",
   "metadata": {},
   "source": [
    "# XNPV Calculation #"
   ]
  },
  {
   "cell_type": "code",
   "execution_count": 193,
   "metadata": {},
   "outputs": [
    {
     "data": {
      "text/plain": [
       "[0, 400, 799, 1089]"
      ]
     },
     "execution_count": 193,
     "metadata": {},
     "output_type": "execute_result"
    }
   ],
   "source": [
    "dates     = [date(2023,1,1), date(2024,2,5), date(2025,3, 10), date(2025, 12,25)]\n",
    "\n",
    "# calculating days of each cash inflow since the investment (cash outflow)\n",
    "days_elapsed      = [ (di - dates[0]).days for di in dates]\n",
    "days_elapsed\n"
   ]
  },
  {
   "cell_type": "code",
   "execution_count": 195,
   "metadata": {},
   "outputs": [],
   "source": [
    "pv = [ cf/(1+discount)**(d/365) for cf, d in zip(cashflows, days_elapsed)]\n",
    "\n",
    "#pv = [ cf/(1+discount)**((d-dates[0]).days/365) for cf, d in zip(cashflows, dates)]"
   ]
  },
  {
   "cell_type": "code",
   "execution_count": 196,
   "metadata": {},
   "outputs": [
    {
     "data": {
      "text/plain": [
       "[-2000.0, 919.1179057309685, 675.9646933037808, 874.32088045348]"
      ]
     },
     "execution_count": 196,
     "metadata": {},
     "output_type": "execute_result"
    }
   ],
   "source": [
    "pv"
   ]
  },
  {
   "cell_type": "code",
   "execution_count": 197,
   "metadata": {},
   "outputs": [
    {
     "data": {
      "text/plain": [
       "469.4034794882292"
      ]
     },
     "execution_count": 197,
     "metadata": {},
     "output_type": "execute_result"
    }
   ],
   "source": [
    "sum(pv)"
   ]
  },
  {
   "cell_type": "code",
   "execution_count": 61,
   "metadata": {},
   "outputs": [],
   "source": []
  },
  {
   "cell_type": "code",
   "execution_count": 201,
   "metadata": {},
   "outputs": [],
   "source": [
    "cashflows    = [-4000, 1000, 800, -1100, 5000]\n",
    "period       = [0,1,2,3,4]\n",
    "dates        = [date(2023,1,1), date(2024,2,5), date(2025,3, 10), date(2025, 12,25), date(2026,1,10)]\n",
    "days_elapsed = [ (di - dates[0]).days for di in dates]"
   ]
  },
  {
   "cell_type": "code",
   "execution_count": 202,
   "metadata": {},
   "outputs": [],
   "source": [
    "npv_pv = [cf/(1+discount)**p for p, cf in zip(period, cashflows)]"
   ]
  },
  {
   "cell_type": "code",
   "execution_count": 203,
   "metadata": {},
   "outputs": [
    {
     "data": {
      "text/plain": [
       "[-4000.0,\n",
       " 925.9259259259259,\n",
       " 685.8710562414266,\n",
       " -873.2154651221865,\n",
       " 3675.1492639822663]"
      ]
     },
     "execution_count": 203,
     "metadata": {},
     "output_type": "execute_result"
    }
   ],
   "source": [
    "npv_pv"
   ]
  },
  {
   "cell_type": "code",
   "execution_count": 204,
   "metadata": {},
   "outputs": [
    {
     "data": {
      "text/plain": [
       "413.7307810274324"
      ]
     },
     "execution_count": 204,
     "metadata": {},
     "output_type": "execute_result"
    }
   ],
   "source": [
    "sum(npv_pv)"
   ]
  },
  {
   "cell_type": "code",
   "execution_count": 180,
   "metadata": {},
   "outputs": [],
   "source": [
    "xnpv_pv = [ cf/(1+discount)**((di-dates[0]).days/365) for cf, di in zip(cashflows, dates)]"
   ]
  },
  {
   "cell_type": "code",
   "execution_count": 205,
   "metadata": {},
   "outputs": [
    {
     "data": {
      "text/plain": [
       "[-4000.0,\n",
       " 919.1179057309685,\n",
       " 675.9646933037808,\n",
       " -874.32088045348,\n",
       " 3960.800959645224]"
      ]
     },
     "execution_count": 205,
     "metadata": {},
     "output_type": "execute_result"
    }
   ],
   "source": [
    "xnpv_pv"
   ]
  },
  {
   "cell_type": "code",
   "execution_count": 206,
   "metadata": {},
   "outputs": [
    {
     "data": {
      "text/plain": [
       "681.5626782264926"
      ]
     },
     "execution_count": 206,
     "metadata": {},
     "output_type": "execute_result"
    }
   ],
   "source": [
    "sum(xnpv_pv)"
   ]
  },
  {
   "cell_type": "code",
   "execution_count": 207,
   "metadata": {},
   "outputs": [],
   "source": [
    "df_npv = pd.DataFrame(zip(cashflows,period, npv_pv), columns=['cashflow', 'period', 'dcf'])"
   ]
  },
  {
   "cell_type": "code",
   "execution_count": 208,
   "metadata": {},
   "outputs": [
    {
     "data": {
      "text/html": [
       "<div>\n",
       "<style scoped>\n",
       "    .dataframe tbody tr th:only-of-type {\n",
       "        vertical-align: middle;\n",
       "    }\n",
       "\n",
       "    .dataframe tbody tr th {\n",
       "        vertical-align: top;\n",
       "    }\n",
       "\n",
       "    .dataframe thead th {\n",
       "        text-align: right;\n",
       "    }\n",
       "</style>\n",
       "<table border=\"1\" class=\"dataframe\">\n",
       "  <thead>\n",
       "    <tr style=\"text-align: right;\">\n",
       "      <th></th>\n",
       "      <th>cashflow</th>\n",
       "      <th>period</th>\n",
       "      <th>dcf</th>\n",
       "    </tr>\n",
       "  </thead>\n",
       "  <tbody>\n",
       "    <tr>\n",
       "      <th>0</th>\n",
       "      <td>-4000</td>\n",
       "      <td>0</td>\n",
       "      <td>-4000.000000</td>\n",
       "    </tr>\n",
       "    <tr>\n",
       "      <th>1</th>\n",
       "      <td>1000</td>\n",
       "      <td>1</td>\n",
       "      <td>925.925926</td>\n",
       "    </tr>\n",
       "    <tr>\n",
       "      <th>2</th>\n",
       "      <td>800</td>\n",
       "      <td>2</td>\n",
       "      <td>685.871056</td>\n",
       "    </tr>\n",
       "    <tr>\n",
       "      <th>3</th>\n",
       "      <td>-1100</td>\n",
       "      <td>3</td>\n",
       "      <td>-873.215465</td>\n",
       "    </tr>\n",
       "    <tr>\n",
       "      <th>4</th>\n",
       "      <td>5000</td>\n",
       "      <td>4</td>\n",
       "      <td>3675.149264</td>\n",
       "    </tr>\n",
       "  </tbody>\n",
       "</table>\n",
       "</div>"
      ],
      "text/plain": [
       "   cashflow  period          dcf\n",
       "0     -4000       0 -4000.000000\n",
       "1      1000       1   925.925926\n",
       "2       800       2   685.871056\n",
       "3     -1100       3  -873.215465\n",
       "4      5000       4  3675.149264"
      ]
     },
     "execution_count": 208,
     "metadata": {},
     "output_type": "execute_result"
    }
   ],
   "source": [
    "df_npv"
   ]
  },
  {
   "cell_type": "code",
   "execution_count": 209,
   "metadata": {},
   "outputs": [
    {
     "data": {
      "text/plain": [
       "413.7307810274324"
      ]
     },
     "execution_count": 209,
     "metadata": {},
     "output_type": "execute_result"
    }
   ],
   "source": [
    "sum(df_npv.dcf)"
   ]
  },
  {
   "cell_type": "code",
   "execution_count": 210,
   "metadata": {},
   "outputs": [],
   "source": [
    "df_xnpv =pd.DataFrame(zip(cashflows,dates, days_elapsed, xnpv_pv), columns=['cashflow', 'dates', 'days_elapsed', 'dcf'])"
   ]
  },
  {
   "cell_type": "code",
   "execution_count": 211,
   "metadata": {},
   "outputs": [
    {
     "data": {
      "text/html": [
       "<div>\n",
       "<style scoped>\n",
       "    .dataframe tbody tr th:only-of-type {\n",
       "        vertical-align: middle;\n",
       "    }\n",
       "\n",
       "    .dataframe tbody tr th {\n",
       "        vertical-align: top;\n",
       "    }\n",
       "\n",
       "    .dataframe thead th {\n",
       "        text-align: right;\n",
       "    }\n",
       "</style>\n",
       "<table border=\"1\" class=\"dataframe\">\n",
       "  <thead>\n",
       "    <tr style=\"text-align: right;\">\n",
       "      <th></th>\n",
       "      <th>cashflow</th>\n",
       "      <th>dates</th>\n",
       "      <th>days_elapsed</th>\n",
       "      <th>dcf</th>\n",
       "    </tr>\n",
       "  </thead>\n",
       "  <tbody>\n",
       "    <tr>\n",
       "      <th>0</th>\n",
       "      <td>-4000</td>\n",
       "      <td>2023-01-01</td>\n",
       "      <td>0</td>\n",
       "      <td>-4000.000000</td>\n",
       "    </tr>\n",
       "    <tr>\n",
       "      <th>1</th>\n",
       "      <td>1000</td>\n",
       "      <td>2024-02-05</td>\n",
       "      <td>400</td>\n",
       "      <td>919.117906</td>\n",
       "    </tr>\n",
       "    <tr>\n",
       "      <th>2</th>\n",
       "      <td>800</td>\n",
       "      <td>2025-03-10</td>\n",
       "      <td>799</td>\n",
       "      <td>675.964693</td>\n",
       "    </tr>\n",
       "    <tr>\n",
       "      <th>3</th>\n",
       "      <td>-1100</td>\n",
       "      <td>2025-12-25</td>\n",
       "      <td>1089</td>\n",
       "      <td>-874.320880</td>\n",
       "    </tr>\n",
       "    <tr>\n",
       "      <th>4</th>\n",
       "      <td>5000</td>\n",
       "      <td>2026-01-10</td>\n",
       "      <td>1105</td>\n",
       "      <td>3960.800960</td>\n",
       "    </tr>\n",
       "  </tbody>\n",
       "</table>\n",
       "</div>"
      ],
      "text/plain": [
       "   cashflow       dates  days_elapsed          dcf\n",
       "0     -4000  2023-01-01             0 -4000.000000\n",
       "1      1000  2024-02-05           400   919.117906\n",
       "2       800  2025-03-10           799   675.964693\n",
       "3     -1100  2025-12-25          1089  -874.320880\n",
       "4      5000  2026-01-10          1105  3960.800960"
      ]
     },
     "execution_count": 211,
     "metadata": {},
     "output_type": "execute_result"
    }
   ],
   "source": [
    "df_xnpv"
   ]
  },
  {
   "cell_type": "code",
   "execution_count": 212,
   "metadata": {},
   "outputs": [
    {
     "data": {
      "text/plain": [
       "681.5626782264926"
      ]
     },
     "execution_count": 212,
     "metadata": {},
     "output_type": "execute_result"
    }
   ],
   "source": [
    "sum(df_xnpv.dcf)"
   ]
  },
  {
   "cell_type": "code",
   "execution_count": null,
   "metadata": {},
   "outputs": [],
   "source": []
  }
 ],
 "metadata": {
  "kernelspec": {
   "display_name": "Python 3 (ipykernel)",
   "language": "python",
   "name": "python3"
  },
  "language_info": {
   "codemirror_mode": {
    "name": "ipython",
    "version": 3
   },
   "file_extension": ".py",
   "mimetype": "text/x-python",
   "name": "python",
   "nbconvert_exporter": "python",
   "pygments_lexer": "ipython3",
   "version": "3.10.2"
  }
 },
 "nbformat": 4,
 "nbformat_minor": 4
}
