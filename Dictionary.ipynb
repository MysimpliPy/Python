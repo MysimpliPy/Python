{
 "cells": [
  {
   "cell_type": "markdown",
   "id": "c3ea4836",
   "metadata": {},
   "source": [
    "<font size='4' color='blue'>\n",
    "Python Dictionary\n",
    "</font>\n",
    "<br>\n",
    "\n",
    "<font size='3'>\n",
    "\n",
    "1. What is it?\n",
    "2. How to create it?\n",
    "3. How to add, access and remove elements from it?\n",
    "4. Various built-in methods to deal with a dictionary\n",
    "</font>"
   ]
  },
  {
   "cell_type": "code",
   "execution_count": 5,
   "id": "7790e8f4",
   "metadata": {},
   "outputs": [],
   "source": [
    "d1 = {}"
   ]
  },
  {
   "cell_type": "code",
   "execution_count": 10,
   "id": "8045d39a",
   "metadata": {},
   "outputs": [],
   "source": [
    "d1[1] = 100"
   ]
  },
  {
   "cell_type": "code",
   "execution_count": 13,
   "id": "12129aa7",
   "metadata": {},
   "outputs": [],
   "source": [
    "d1[2] = [200,300,400]"
   ]
  },
  {
   "cell_type": "code",
   "execution_count": 14,
   "id": "e262c206",
   "metadata": {},
   "outputs": [
    {
     "data": {
      "text/plain": [
       "{1: 100, 2: [200, 300, 400]}"
      ]
     },
     "execution_count": 14,
     "metadata": {},
     "output_type": "execute_result"
    }
   ],
   "source": [
    "d1"
   ]
  },
  {
   "cell_type": "code",
   "execution_count": 6,
   "id": "3a7978ca",
   "metadata": {},
   "outputs": [
    {
     "data": {
      "text/plain": [
       "dict"
      ]
     },
     "execution_count": 6,
     "metadata": {},
     "output_type": "execute_result"
    }
   ],
   "source": [
    "type(d1)"
   ]
  },
  {
   "cell_type": "code",
   "execution_count": 7,
   "id": "a509ea9f",
   "metadata": {},
   "outputs": [],
   "source": [
    "d2 = {1:100, 2:200}"
   ]
  },
  {
   "cell_type": "code",
   "execution_count": 8,
   "id": "0d40d1a6",
   "metadata": {},
   "outputs": [
    {
     "data": {
      "text/plain": [
       "100"
      ]
     },
     "execution_count": 8,
     "metadata": {},
     "output_type": "execute_result"
    }
   ],
   "source": [
    "d2[1]"
   ]
  },
  {
   "cell_type": "code",
   "execution_count": 9,
   "id": "72a29f20",
   "metadata": {},
   "outputs": [
    {
     "data": {
      "text/plain": [
       "200"
      ]
     },
     "execution_count": 9,
     "metadata": {},
     "output_type": "execute_result"
    }
   ],
   "source": [
    "d2[2]"
   ]
  },
  {
   "cell_type": "code",
   "execution_count": 15,
   "id": "e048c872",
   "metadata": {},
   "outputs": [],
   "source": [
    "d3 = dict({1:100, 2:200})"
   ]
  },
  {
   "cell_type": "code",
   "execution_count": 16,
   "id": "24a5a69b",
   "metadata": {},
   "outputs": [
    {
     "data": {
      "text/plain": [
       "{1: 100, 2: 200}"
      ]
     },
     "execution_count": 16,
     "metadata": {},
     "output_type": "execute_result"
    }
   ],
   "source": [
    "d3"
   ]
  },
  {
   "cell_type": "code",
   "execution_count": 17,
   "id": "6c067a73",
   "metadata": {},
   "outputs": [],
   "source": [
    "d4 = {}\n",
    "for i in range(1,11) :\n",
    "    d4[i] = i*i"
   ]
  },
  {
   "cell_type": "code",
   "execution_count": 18,
   "id": "db997dfc",
   "metadata": {},
   "outputs": [
    {
     "data": {
      "text/plain": [
       "{1: 1, 2: 4, 3: 9, 4: 16, 5: 25, 6: 36, 7: 49, 8: 64, 9: 81, 10: 100}"
      ]
     },
     "execution_count": 18,
     "metadata": {},
     "output_type": "execute_result"
    }
   ],
   "source": [
    "d4"
   ]
  },
  {
   "cell_type": "code",
   "execution_count": 69,
   "id": "44187362",
   "metadata": {},
   "outputs": [],
   "source": [
    "d5 = {}\n",
    "for i in range(65, 65+26) :\n",
    "    d5[chr(i)] = i"
   ]
  },
  {
   "cell_type": "code",
   "execution_count": 50,
   "id": "b13ab81c",
   "metadata": {},
   "outputs": [
    {
     "data": {
      "text/plain": [
       "{'A': 65,\n",
       " 'B': 66,\n",
       " 'C': 67,\n",
       " 'D': 68,\n",
       " 'E': 69,\n",
       " 'F': 70,\n",
       " 'G': 71,\n",
       " 'H': 72,\n",
       " 'I': 73,\n",
       " 'J': 74,\n",
       " 'K': 75,\n",
       " 'L': 76,\n",
       " 'M': 77,\n",
       " 'N': 78,\n",
       " 'O': 79,\n",
       " 'P': 80,\n",
       " 'Q': 81,\n",
       " 'R': 82,\n",
       " 'S': 83,\n",
       " 'T': 84,\n",
       " 'U': 85,\n",
       " 'V': 86,\n",
       " 'W': 87,\n",
       " 'X': 88,\n",
       " 'Y': 89,\n",
       " 'Z': 90}"
      ]
     },
     "execution_count": 50,
     "metadata": {},
     "output_type": "execute_result"
    }
   ],
   "source": [
    "d5"
   ]
  },
  {
   "cell_type": "code",
   "execution_count": 51,
   "id": "77d863d7",
   "metadata": {},
   "outputs": [
    {
     "data": {
      "text/plain": [
       "65"
      ]
     },
     "execution_count": 51,
     "metadata": {},
     "output_type": "execute_result"
    }
   ],
   "source": [
    "d5['A']"
   ]
  },
  {
   "cell_type": "code",
   "execution_count": 52,
   "id": "4a129f40",
   "metadata": {},
   "outputs": [
    {
     "data": {
      "text/plain": [
       "67"
      ]
     },
     "execution_count": 52,
     "metadata": {},
     "output_type": "execute_result"
    }
   ],
   "source": [
    "d5['C']"
   ]
  },
  {
   "cell_type": "code",
   "execution_count": 53,
   "id": "e746dafd",
   "metadata": {},
   "outputs": [
    {
     "name": "stdout",
     "output_type": "stream",
     "text": [
      "65\n",
      "66\n",
      "67\n",
      "68\n",
      "69\n",
      "70\n",
      "71\n",
      "72\n",
      "73\n",
      "74\n",
      "75\n",
      "76\n",
      "77\n",
      "78\n",
      "79\n",
      "80\n",
      "81\n",
      "82\n",
      "83\n",
      "84\n",
      "85\n",
      "86\n",
      "87\n",
      "88\n",
      "89\n",
      "90\n"
     ]
    }
   ],
   "source": [
    "for i in range(65, 65+26) :\n",
    "    print(d5[chr(i)])"
   ]
  },
  {
   "cell_type": "code",
   "execution_count": 25,
   "id": "1552cba0",
   "metadata": {},
   "outputs": [
    {
     "name": "stdout",
     "output_type": "stream",
     "text": [
      "A 65\n",
      "B 66\n",
      "C 67\n",
      "D 68\n",
      "E 69\n",
      "F 70\n",
      "G 71\n",
      "H 72\n",
      "I 73\n",
      "J 74\n",
      "K 75\n",
      "L 76\n",
      "M 77\n",
      "N 78\n",
      "O 79\n",
      "P 80\n",
      "Q 81\n",
      "R 82\n",
      "S 83\n",
      "T 84\n",
      "U 85\n",
      "V 86\n",
      "W 87\n",
      "X 88\n",
      "Y 89\n",
      "Z 90\n"
     ]
    }
   ],
   "source": [
    "for k, v in d5.items() :\n",
    "    print(k, v)"
   ]
  },
  {
   "cell_type": "code",
   "execution_count": 26,
   "id": "97127cac",
   "metadata": {},
   "outputs": [
    {
     "data": {
      "text/plain": [
       "dict_items([('A', 65), ('B', 66), ('C', 67), ('D', 68), ('E', 69), ('F', 70), ('G', 71), ('H', 72), ('I', 73), ('J', 74), ('K', 75), ('L', 76), ('M', 77), ('N', 78), ('O', 79), ('P', 80), ('Q', 81), ('R', 82), ('S', 83), ('T', 84), ('U', 85), ('V', 86), ('W', 87), ('X', 88), ('Y', 89), ('Z', 90)])"
      ]
     },
     "execution_count": 26,
     "metadata": {},
     "output_type": "execute_result"
    }
   ],
   "source": [
    "d5.items()"
   ]
  },
  {
   "cell_type": "code",
   "execution_count": 27,
   "id": "c6be1d8c",
   "metadata": {},
   "outputs": [
    {
     "data": {
      "text/plain": [
       "dict_keys(['A', 'B', 'C', 'D', 'E', 'F', 'G', 'H', 'I', 'J', 'K', 'L', 'M', 'N', 'O', 'P', 'Q', 'R', 'S', 'T', 'U', 'V', 'W', 'X', 'Y', 'Z'])"
      ]
     },
     "execution_count": 27,
     "metadata": {},
     "output_type": "execute_result"
    }
   ],
   "source": [
    "d5.keys()"
   ]
  },
  {
   "cell_type": "code",
   "execution_count": 28,
   "id": "d2674895",
   "metadata": {},
   "outputs": [
    {
     "data": {
      "text/plain": [
       "dict_values([65, 66, 67, 68, 69, 70, 71, 72, 73, 74, 75, 76, 77, 78, 79, 80, 81, 82, 83, 84, 85, 86, 87, 88, 89, 90])"
      ]
     },
     "execution_count": 28,
     "metadata": {},
     "output_type": "execute_result"
    }
   ],
   "source": [
    "d5.values()"
   ]
  },
  {
   "cell_type": "code",
   "execution_count": 29,
   "id": "e50935e1",
   "metadata": {},
   "outputs": [
    {
     "data": {
      "text/plain": [
       "dict_items([('A', 65), ('B', 66), ('C', 67), ('D', 68), ('E', 69), ('F', 70), ('G', 71), ('H', 72), ('I', 73), ('J', 74), ('K', 75), ('L', 76), ('M', 77), ('N', 78), ('O', 79), ('P', 80), ('Q', 81), ('R', 82), ('S', 83), ('T', 84), ('U', 85), ('V', 86), ('W', 87), ('X', 88), ('Y', 89), ('Z', 90)])"
      ]
     },
     "execution_count": 29,
     "metadata": {},
     "output_type": "execute_result"
    }
   ],
   "source": [
    "d5.items()"
   ]
  },
  {
   "cell_type": "code",
   "execution_count": 31,
   "id": "c8dd5bb2",
   "metadata": {},
   "outputs": [
    {
     "data": {
      "text/plain": [
       "65"
      ]
     },
     "execution_count": 31,
     "metadata": {},
     "output_type": "execute_result"
    }
   ],
   "source": [
    "d5['A']"
   ]
  },
  {
   "cell_type": "code",
   "execution_count": 32,
   "id": "96fb1f78",
   "metadata": {},
   "outputs": [
    {
     "ename": "KeyError",
     "evalue": "'a'",
     "output_type": "error",
     "traceback": [
      "\u001b[1;31m---------------------------------------------------------------------------\u001b[0m",
      "\u001b[1;31mKeyError\u001b[0m                                  Traceback (most recent call last)",
      "Input \u001b[1;32mIn [32]\u001b[0m, in \u001b[0;36m<cell line: 1>\u001b[1;34m()\u001b[0m\n\u001b[1;32m----> 1\u001b[0m \u001b[43md5\u001b[49m\u001b[43m[\u001b[49m\u001b[38;5;124;43m'\u001b[39;49m\u001b[38;5;124;43ma\u001b[39;49m\u001b[38;5;124;43m'\u001b[39;49m\u001b[43m]\u001b[49m\n",
      "\u001b[1;31mKeyError\u001b[0m: 'a'"
     ]
    }
   ],
   "source": [
    "d5['a']"
   ]
  },
  {
   "cell_type": "code",
   "execution_count": 34,
   "id": "c923c247",
   "metadata": {},
   "outputs": [
    {
     "data": {
      "text/plain": [
       "'no key found'"
      ]
     },
     "execution_count": 34,
     "metadata": {},
     "output_type": "execute_result"
    }
   ],
   "source": [
    "d5.get('a', 'no key found')"
   ]
  },
  {
   "cell_type": "code",
   "execution_count": null,
   "id": "385907fb",
   "metadata": {},
   "outputs": [],
   "source": [
    "'''\n",
    "keys()\n",
    "values()\n",
    "items()\n",
    "get()\n",
    "pop()\n",
    "popitem()\n",
    "update()\n",
    "clear()\n",
    "copy()\n",
    "fromkeys()\n",
    "'''"
   ]
  },
  {
   "cell_type": "code",
   "execution_count": 57,
   "id": "ff7fc845",
   "metadata": {},
   "outputs": [
    {
     "data": {
      "text/plain": [
       "dict_keys(['A', 'B', 'C', 'D', 'E', 'F', 'G', 'H', 'I', 'J', 'K', 'L', 'M', 'N', 'O', 'P', 'Q', 'R', 'S', 'T', 'U', 'V', 'W', 'X', 'Y', 'Z'])"
      ]
     },
     "execution_count": 57,
     "metadata": {},
     "output_type": "execute_result"
    }
   ],
   "source": [
    "d5.keys()"
   ]
  },
  {
   "cell_type": "code",
   "execution_count": 58,
   "id": "2fae92de",
   "metadata": {},
   "outputs": [
    {
     "data": {
      "text/plain": [
       "dict_values([65, 66, 67, 68, 69, 70, 71, 72, 73, 74, 75, 76, 77, 78, 79, 80, 81, 82, 83, 84, 85, 86, 87, 88, 89, 90])"
      ]
     },
     "execution_count": 58,
     "metadata": {},
     "output_type": "execute_result"
    }
   ],
   "source": [
    "d5.values()"
   ]
  },
  {
   "cell_type": "code",
   "execution_count": 59,
   "id": "245efa94",
   "metadata": {},
   "outputs": [
    {
     "data": {
      "text/plain": [
       "dict_items([('A', 65), ('B', 66), ('C', 67), ('D', 68), ('E', 69), ('F', 70), ('G', 71), ('H', 72), ('I', 73), ('J', 74), ('K', 75), ('L', 76), ('M', 77), ('N', 78), ('O', 79), ('P', 80), ('Q', 81), ('R', 82), ('S', 83), ('T', 84), ('U', 85), ('V', 86), ('W', 87), ('X', 88), ('Y', 89), ('Z', 90)])"
      ]
     },
     "execution_count": 59,
     "metadata": {},
     "output_type": "execute_result"
    }
   ],
   "source": [
    "d5.items()"
   ]
  },
  {
   "cell_type": "code",
   "execution_count": 60,
   "id": "866abd22",
   "metadata": {},
   "outputs": [
    {
     "data": {
      "text/plain": [
       "65"
      ]
     },
     "execution_count": 60,
     "metadata": {},
     "output_type": "execute_result"
    }
   ],
   "source": [
    "d5.pop('A')"
   ]
  },
  {
   "cell_type": "code",
   "execution_count": 62,
   "id": "9b2e9c33",
   "metadata": {},
   "outputs": [
    {
     "data": {
      "text/plain": [
       "('Z', 90)"
      ]
     },
     "execution_count": 62,
     "metadata": {},
     "output_type": "execute_result"
    }
   ],
   "source": [
    "d5.popitem()"
   ]
  },
  {
   "cell_type": "code",
   "execution_count": 63,
   "id": "aefd5acf",
   "metadata": {},
   "outputs": [
    {
     "data": {
      "text/plain": [
       "{'B': 66,\n",
       " 'C': 67,\n",
       " 'D': 68,\n",
       " 'E': 69,\n",
       " 'F': 70,\n",
       " 'G': 71,\n",
       " 'H': 72,\n",
       " 'I': 73,\n",
       " 'J': 74,\n",
       " 'K': 75,\n",
       " 'L': 76,\n",
       " 'M': 77,\n",
       " 'N': 78,\n",
       " 'O': 79,\n",
       " 'P': 80,\n",
       " 'Q': 81,\n",
       " 'R': 82,\n",
       " 'S': 83,\n",
       " 'T': 84,\n",
       " 'U': 85,\n",
       " 'V': 86,\n",
       " 'W': 87,\n",
       " 'X': 88,\n",
       " 'Y': 89}"
      ]
     },
     "execution_count": 63,
     "metadata": {},
     "output_type": "execute_result"
    }
   ],
   "source": [
    "d5"
   ]
  },
  {
   "cell_type": "code",
   "execution_count": 64,
   "id": "327e3457",
   "metadata": {},
   "outputs": [],
   "source": [
    "x1 = {'B' : 166, 'C' : 167}"
   ]
  },
  {
   "cell_type": "code",
   "execution_count": 65,
   "id": "fa315892",
   "metadata": {},
   "outputs": [],
   "source": [
    "d5.update(x1)"
   ]
  },
  {
   "cell_type": "code",
   "execution_count": 66,
   "id": "317fcde4",
   "metadata": {},
   "outputs": [
    {
     "data": {
      "text/plain": [
       "{'B': 166,\n",
       " 'C': 167,\n",
       " 'D': 68,\n",
       " 'E': 69,\n",
       " 'F': 70,\n",
       " 'G': 71,\n",
       " 'H': 72,\n",
       " 'I': 73,\n",
       " 'J': 74,\n",
       " 'K': 75,\n",
       " 'L': 76,\n",
       " 'M': 77,\n",
       " 'N': 78,\n",
       " 'O': 79,\n",
       " 'P': 80,\n",
       " 'Q': 81,\n",
       " 'R': 82,\n",
       " 'S': 83,\n",
       " 'T': 84,\n",
       " 'U': 85,\n",
       " 'V': 86,\n",
       " 'W': 87,\n",
       " 'X': 88,\n",
       " 'Y': 89}"
      ]
     },
     "execution_count": 66,
     "metadata": {},
     "output_type": "execute_result"
    }
   ],
   "source": [
    "d5"
   ]
  },
  {
   "cell_type": "code",
   "execution_count": 67,
   "id": "ea98d708",
   "metadata": {},
   "outputs": [],
   "source": [
    "d5.clear()"
   ]
  },
  {
   "cell_type": "code",
   "execution_count": 68,
   "id": "3bba3489",
   "metadata": {},
   "outputs": [
    {
     "data": {
      "text/plain": [
       "{}"
      ]
     },
     "execution_count": 68,
     "metadata": {},
     "output_type": "execute_result"
    }
   ],
   "source": [
    "d5"
   ]
  },
  {
   "cell_type": "code",
   "execution_count": 71,
   "id": "ad03508b",
   "metadata": {},
   "outputs": [],
   "source": [
    "d6 = {}.fromkeys([1,2,3,4,5], 0)"
   ]
  },
  {
   "cell_type": "code",
   "execution_count": 72,
   "id": "0c2d5e5a",
   "metadata": {},
   "outputs": [
    {
     "data": {
      "text/plain": [
       "{1: 0, 2: 0, 3: 0, 4: 0, 5: 0}"
      ]
     },
     "execution_count": 72,
     "metadata": {},
     "output_type": "execute_result"
    }
   ],
   "source": [
    "d6"
   ]
  },
  {
   "cell_type": "code",
   "execution_count": 81,
   "id": "1007b6d2",
   "metadata": {},
   "outputs": [],
   "source": [
    "d7 = {1: 11, 2:22}"
   ]
  },
  {
   "cell_type": "code",
   "execution_count": 82,
   "id": "f798e867",
   "metadata": {},
   "outputs": [
    {
     "data": {
      "text/plain": [
       "{1: 11, 2: 22}"
      ]
     },
     "execution_count": 82,
     "metadata": {},
     "output_type": "execute_result"
    }
   ],
   "source": [
    "d7"
   ]
  },
  {
   "cell_type": "code",
   "execution_count": 83,
   "id": "c4015e21",
   "metadata": {},
   "outputs": [],
   "source": [
    "d8 = d7.copy()"
   ]
  },
  {
   "cell_type": "code",
   "execution_count": 85,
   "id": "bf2b80b8",
   "metadata": {},
   "outputs": [
    {
     "data": {
      "text/plain": [
       "2134601436288"
      ]
     },
     "execution_count": 85,
     "metadata": {},
     "output_type": "execute_result"
    }
   ],
   "source": [
    "id(d8)"
   ]
  },
  {
   "cell_type": "code",
   "execution_count": 84,
   "id": "523b4407",
   "metadata": {},
   "outputs": [
    {
     "data": {
      "text/plain": [
       "2136720244608"
      ]
     },
     "execution_count": 84,
     "metadata": {},
     "output_type": "execute_result"
    }
   ],
   "source": [
    "id(d7)"
   ]
  },
  {
   "cell_type": "code",
   "execution_count": 86,
   "id": "09c0e1b2",
   "metadata": {},
   "outputs": [],
   "source": [
    "d7[1] = 111"
   ]
  },
  {
   "cell_type": "code",
   "execution_count": 87,
   "id": "2b27043d",
   "metadata": {},
   "outputs": [
    {
     "data": {
      "text/plain": [
       "{1: 111, 2: 22}"
      ]
     },
     "execution_count": 87,
     "metadata": {},
     "output_type": "execute_result"
    }
   ],
   "source": [
    "d7"
   ]
  },
  {
   "cell_type": "code",
   "execution_count": 88,
   "id": "00b96b4a",
   "metadata": {},
   "outputs": [
    {
     "data": {
      "text/plain": [
       "{1: 11, 2: 22}"
      ]
     },
     "execution_count": 88,
     "metadata": {},
     "output_type": "execute_result"
    }
   ],
   "source": [
    "d8"
   ]
  },
  {
   "cell_type": "code",
   "execution_count": 89,
   "id": "da01a5ad",
   "metadata": {},
   "outputs": [],
   "source": [
    "d8[2] = 222"
   ]
  },
  {
   "cell_type": "code",
   "execution_count": 90,
   "id": "121b7832",
   "metadata": {},
   "outputs": [
    {
     "data": {
      "text/plain": [
       "{1: 11, 2: 222}"
      ]
     },
     "execution_count": 90,
     "metadata": {},
     "output_type": "execute_result"
    }
   ],
   "source": [
    "d8"
   ]
  },
  {
   "cell_type": "code",
   "execution_count": 91,
   "id": "fc1d66ee",
   "metadata": {},
   "outputs": [
    {
     "data": {
      "text/plain": [
       "{1: 111, 2: 22}"
      ]
     },
     "execution_count": 91,
     "metadata": {},
     "output_type": "execute_result"
    }
   ],
   "source": [
    "d7"
   ]
  },
  {
   "cell_type": "code",
   "execution_count": 92,
   "id": "eafad939",
   "metadata": {},
   "outputs": [],
   "source": [
    "d6 = {}.fromkeys([1,2,3,4,5], 0)"
   ]
  },
  {
   "cell_type": "code",
   "execution_count": 93,
   "id": "a3d88188",
   "metadata": {},
   "outputs": [
    {
     "data": {
      "text/plain": [
       "{1: 0, 2: 0, 3: 0, 4: 0, 5: 0}"
      ]
     },
     "execution_count": 93,
     "metadata": {},
     "output_type": "execute_result"
    }
   ],
   "source": [
    "d6"
   ]
  },
  {
   "cell_type": "code",
   "execution_count": 94,
   "id": "3f156fc5",
   "metadata": {},
   "outputs": [],
   "source": [
    "import numpy as np"
   ]
  },
  {
   "cell_type": "code",
   "execution_count": 95,
   "id": "9dca94bf",
   "metadata": {},
   "outputs": [],
   "source": [
    "x = np.random.randint(1,11, 1000)"
   ]
  },
  {
   "cell_type": "code",
   "execution_count": 96,
   "id": "e7dc5691",
   "metadata": {},
   "outputs": [
    {
     "data": {
      "text/plain": [
       "array([ 9,  1,  4,  6,  1,  9,  5, 10,  9,  1,  6,  7,  7,  5,  3,  3,  8,\n",
       "        6,  4,  6,  1,  3,  7,  2,  7,  1,  6,  2,  7,  6,  7,  6,  6,  6,\n",
       "        6,  6,  8,  2,  2,  6,  6,  4,  3,  6,  1,  5,  7,  3,  6,  1,  1,\n",
       "        1, 10,  5, 10,  3,  2,  3,  2,  7,  5,  9,  9, 10,  7,  7,  3, 10,\n",
       "       10,  6,  5,  2,  9,  9,  3,  2, 10, 10,  7,  6,  8,  6,  8, 10,  5,\n",
       "        7,  8,  9, 10,  2,  6,  9,  3,  8,  5,  2,  8,  3, 10,  4,  1, 10,\n",
       "        8,  1,  1,  5,  7,  1,  2,  1,  4,  6, 10,  9,  3,  3,  7,  5, 10,\n",
       "        1, 10,  6,  1,  1,  9,  8,  2,  2,  7,  1,  7,  5,  9,  3,  5,  8,\n",
       "        9,  1,  2, 10,  2,  9,  2,  1,  5,  6,  1,  9,  2,  2,  5,  8,  4,\n",
       "        4,  6,  7,  1,  6,  5,  7,  1,  9,  2, 10,  4,  9,  8, 10,  1,  7,\n",
       "        5,  2,  9,  5,  5,  8,  4,  8,  3,  7,  6,  9,  2, 10,  8,  8,  8,\n",
       "        5,  3,  5,  2,  9,  7, 10,  6,  7,  6,  4,  3,  5,  2,  4,  7,  9,\n",
       "        3,  8,  8,  3, 10,  1,  7,  1,  6,  2,  1,  6, 10,  8,  9,  1,  9,\n",
       "        4,  5,  6,  5,  8,  9,  8,  6,  9, 10, 10,  5,  8,  7,  3,  6,  7,\n",
       "        8,  4,  3,  7,  6,  3,  2, 10,  1, 10,  3,  3,  6,  6,  3,  1,  1,\n",
       "        3,  5,  6,  4,  9,  4,  5,  7,  2,  7, 10,  4,  8,  9,  9,  2,  3,\n",
       "       10,  5,  3,  3,  4,  7,  1,  9,  8,  5,  4,  9,  3,  5,  7,  5, 10,\n",
       "        4,  2, 10,  8,  7, 10,  8, 10,  9,  3,  6,  4,  2,  2,  4,  3,  1,\n",
       "        5,  8,  4,  4,  2,  8,  8,  9,  7, 10,  3,  1,  4,  6,  3,  5,  3,\n",
       "        4,  9,  8,  8,  5,  2,  6,  9,  9,  7,  2, 10,  9,  2,  6,  4,  3,\n",
       "        7,  8,  7,  6,  9,  9,  8, 10,  3,  4,  8,  3,  9,  6,  9,  9,  7,\n",
       "       10,  6,  5,  9,  6,  7,  8,  5,  5, 10,  1, 10,  9,  3,  6,  5,  2,\n",
       "        4,  9,  1,  1,  6,  4,  7,  7,  2,  3,  2,  8,  8,  4,  9, 10,  6,\n",
       "        2,  9,  4,  8,  5,  5,  7,  6,  7,  5,  4,  9,  1,  3,  8, 10,  3,\n",
       "        9,  9,  4,  3,  7,  5,  1,  8,  8,  3,  6,  7,  7,  2,  7,  9,  1,\n",
       "        7,  2,  7,  4,  9,  8,  9,  1,  1,  1,  5,  4,  6,  7,  5,  8, 10,\n",
       "        2,  8,  4,  9,  5,  2,  9,  8,  3,  1,  6,  4,  1,  9,  5,  7,  8,\n",
       "        2, 10,  3,  8,  7,  5,  8,  3,  9, 10,  1,  1,  7,  3,  4,  5,  7,\n",
       "        2,  5,  6,  7,  8,  8,  8,  1,  8,  2, 10,  8,  6,  3,  2,  6,  5,\n",
       "        6,  7,  7,  9,  9,  6,  3, 10,  7,  6,  5, 10,  8,  5,  1,  9,  6,\n",
       "        9,  3,  5,  2,  6,  8,  2,  3,  6, 10,  9,  3, 10, 10,  2,  6,  9,\n",
       "        7,  4,  2,  5,  8,  9,  7,  5,  6,  7, 10,  2,  5,  7,  5,  9, 10,\n",
       "        5,  9,  2,  2,  7,  6,  1,  8,  8,  9,  5,  1,  3, 10, 10,  1,  9,\n",
       "        9,  2,  4,  5,  1,  7,  7,  9,  5,  5,  2,  7,  8,  9,  5,  5,  5,\n",
       "        6,  2,  7,  9,  8,  1,  8,  9,  9,  3,  5,  2,  1,  2,  2,  1,  9,\n",
       "        5, 10,  6,  8,  2,  9,  3,  3,  5,  6,  7,  5, 10,  1,  8,  6,  9,\n",
       "        6,  9,  4,  6,  6,  4,  3,  1, 10, 10,  6,  8,  8,  5,  5,  4,  6,\n",
       "        5,  7,  7,  7,  3,  4,  9, 10,  4,  7,  1,  6,  9,  2,  3,  7,  4,\n",
       "        2,  1,  9,  6, 10,  2,  5,  4,  6,  9,  3,  9,  9,  1,  4,  3,  5,\n",
       "        2,  8,  2,  2,  2,  5,  1,  6,  7,  3,  2,  1,  2,  9,  4,  4, 10,\n",
       "        7,  8,  6, 10,  9,  8,  1,  9,  8,  2,  7,  4,  6,  3,  3,  4,  6,\n",
       "        7,  1,  4,  5, 10,  5,  6,  1,  2,  6,  2, 10, 10,  7,  9,  2,  8,\n",
       "        1, 10,  5,  3,  7,  5,  2,  5,  8,  4,  3,  3,  1,  7,  4,  4,  1,\n",
       "        6,  4,  3,  8,  2,  5,  4,  7,  1,  1,  3,  5,  7,  1,  7,  9,  3,\n",
       "        3,  7,  4,  1, 10,  1,  7,  2,  8,  3,  3,  2,  7,  1,  1, 10,  6,\n",
       "        4,  8,  1,  3, 10,  2,  7, 10,  3,  4,  6,  6,  2,  2,  2,  7,  9,\n",
       "        3,  9, 10,  8,  8, 10,  4,  2,  6,  2,  9,  3,  6,  8,  6,  8,  4,\n",
       "        9,  7,  1,  1,  6, 10,  6,  7,  6,  3,  1,  9,  5,  6,  7, 10,  2,\n",
       "        3,  5,  5,  6, 10,  6,  4,  2, 10, 10,  1,  8,  9,  5,  3,  6,  6,\n",
       "       10,  6,  9, 10,  8,  8, 10, 10, 10,  1,  9,  6,  6,  2,  2,  8,  8,\n",
       "        6,  4,  9, 10,  6,  8,  8,  3, 10,  7,  7,  9,  5,  3, 10,  1,  6,\n",
       "        7, 10,  1,  8,  6,  7,  1,  6,  1,  5,  4,  6,  7,  1,  7,  2,  6,\n",
       "        7,  6,  6,  6,  9,  6,  4,  9,  2,  3,  5,  4, 10,  6,  6,  4,  9,\n",
       "        4,  9,  9,  7,  2, 10,  6,  4,  4,  6,  6,  3,  8,  7,  7,  3,  5,\n",
       "        7,  7,  2,  5,  2,  9,  5,  6,  9,  6,  9,  4, 10,  1,  5,  8,  3,\n",
       "        4,  7,  1,  2,  1,  5,  6,  4,  8,  9,  6,  3, 10,  1,  9,  6,  8,\n",
       "        9,  1,  2, 10,  6,  1,  4,  7, 10,  5,  1, 10,  8,  7, 10,  9,  9,\n",
       "        8,  4,  4,  6,  4,  6,  3,  6,  2,  6,  8,  5,  5,  6,  2,  8,  7,\n",
       "        8,  8,  7,  6,  9,  6,  8,  4,  9,  8,  2,  9,  5,  7])"
      ]
     },
     "execution_count": 96,
     "metadata": {},
     "output_type": "execute_result"
    }
   ],
   "source": [
    "x"
   ]
  },
  {
   "cell_type": "code",
   "execution_count": 98,
   "id": "20372759",
   "metadata": {},
   "outputs": [],
   "source": [
    "d9 = {}\n",
    "for i in x :\n",
    "    d9[i] = d9.get(i,0) + 1   #  d9[9] = 2"
   ]
  },
  {
   "cell_type": "code",
   "execution_count": 99,
   "id": "3e577bb8",
   "metadata": {},
   "outputs": [
    {
     "data": {
      "text/plain": [
       "{9: 114, 1: 94, 4: 80, 6: 128, 5: 97, 10: 93, 7: 108, 3: 89, 8: 100, 2: 97}"
      ]
     },
     "execution_count": 99,
     "metadata": {},
     "output_type": "execute_result"
    }
   ],
   "source": [
    "d9"
   ]
  },
  {
   "cell_type": "code",
   "execution_count": 101,
   "id": "6eeea374",
   "metadata": {},
   "outputs": [
    {
     "data": {
      "text/plain": [
       "1000"
      ]
     },
     "execution_count": 101,
     "metadata": {},
     "output_type": "execute_result"
    }
   ],
   "source": [
    "sum(d9.values())"
   ]
  },
  {
   "cell_type": "code",
   "execution_count": 102,
   "id": "f0053589",
   "metadata": {},
   "outputs": [
    {
     "data": {
      "text/plain": [
       "55"
      ]
     },
     "execution_count": 102,
     "metadata": {},
     "output_type": "execute_result"
    }
   ],
   "source": [
    "sum(d9.keys())"
   ]
  },
  {
   "cell_type": "code",
   "execution_count": 104,
   "id": "80e13308",
   "metadata": {},
   "outputs": [],
   "source": [
    "d10 = {}.fromkeys(list(range(1,11)), 0)"
   ]
  },
  {
   "cell_type": "code",
   "execution_count": 105,
   "id": "d6fb6b1c",
   "metadata": {},
   "outputs": [
    {
     "data": {
      "text/plain": [
       "{1: 0, 2: 0, 3: 0, 4: 0, 5: 0, 6: 0, 7: 0, 8: 0, 9: 0, 10: 0}"
      ]
     },
     "execution_count": 105,
     "metadata": {},
     "output_type": "execute_result"
    }
   ],
   "source": [
    "d10"
   ]
  },
  {
   "cell_type": "code",
   "execution_count": 106,
   "id": "eff43ede",
   "metadata": {},
   "outputs": [],
   "source": [
    "for i in x :\n",
    "    d10[i] = d10[i] + 1"
   ]
  },
  {
   "cell_type": "code",
   "execution_count": 107,
   "id": "4b291ab4",
   "metadata": {},
   "outputs": [
    {
     "data": {
      "text/plain": [
       "{1: 94, 2: 97, 3: 89, 4: 80, 5: 97, 6: 128, 7: 108, 8: 100, 9: 114, 10: 93}"
      ]
     },
     "execution_count": 107,
     "metadata": {},
     "output_type": "execute_result"
    }
   ],
   "source": [
    "d10"
   ]
  },
  {
   "cell_type": "code",
   "execution_count": 108,
   "id": "4e6a7401",
   "metadata": {},
   "outputs": [
    {
     "data": {
      "text/plain": [
       "1000"
      ]
     },
     "execution_count": 108,
     "metadata": {},
     "output_type": "execute_result"
    }
   ],
   "source": [
    "sum(d10.values())"
   ]
  },
  {
   "cell_type": "code",
   "execution_count": 109,
   "id": "e116bc7c",
   "metadata": {},
   "outputs": [
    {
     "data": {
      "text/plain": [
       "55"
      ]
     },
     "execution_count": 109,
     "metadata": {},
     "output_type": "execute_result"
    }
   ],
   "source": [
    "sum(d10.keys())"
   ]
  },
  {
   "cell_type": "code",
   "execution_count": null,
   "id": "e1cdd952",
   "metadata": {},
   "outputs": [],
   "source": [
    "'''\n",
    "mutable = list\n",
    "\n",
    "immutable = int, float, string, tuple (condition applies)\n",
    "\n",
    "'''\n"
   ]
  },
  {
   "cell_type": "code",
   "execution_count": 110,
   "id": "09202516",
   "metadata": {},
   "outputs": [],
   "source": [
    "d11 = {}"
   ]
  },
  {
   "cell_type": "code",
   "execution_count": 119,
   "id": "760bdff5",
   "metadata": {},
   "outputs": [
    {
     "ename": "TypeError",
     "evalue": "unhashable type: 'list'",
     "output_type": "error",
     "traceback": [
      "\u001b[1;31m---------------------------------------------------------------------------\u001b[0m",
      "\u001b[1;31mTypeError\u001b[0m                                 Traceback (most recent call last)",
      "Input \u001b[1;32mIn [119]\u001b[0m, in \u001b[0;36m<cell line: 1>\u001b[1;34m()\u001b[0m\n\u001b[1;32m----> 1\u001b[0m d11[(\u001b[38;5;241m1\u001b[39m,\u001b[38;5;241m2\u001b[39m,[\u001b[38;5;241m10\u001b[39m,\u001b[38;5;241m20\u001b[39m], \u001b[38;5;241m3\u001b[39m)] \u001b[38;5;241m=\u001b[39m \u001b[38;5;124m'\u001b[39m\u001b[38;5;124mhello\u001b[39m\u001b[38;5;124m'\u001b[39m\n",
      "\u001b[1;31mTypeError\u001b[0m: unhashable type: 'list'"
     ]
    }
   ],
   "source": [
    "d11[(1,2,[10,20], 3)] = 'hello'"
   ]
  },
  {
   "cell_type": "code",
   "execution_count": 118,
   "id": "8331531e",
   "metadata": {},
   "outputs": [
    {
     "data": {
      "text/plain": [
       "{1: 'hello', 1.155: 'hello', 'hifi': 'hello', (1, 2, 3): 'hello'}"
      ]
     },
     "execution_count": 118,
     "metadata": {},
     "output_type": "execute_result"
    }
   ],
   "source": [
    "d11"
   ]
  },
  {
   "cell_type": "code",
   "execution_count": 120,
   "id": "2ee057d1",
   "metadata": {},
   "outputs": [
    {
     "ename": "TypeError",
     "evalue": "unhashable type: 'list'",
     "output_type": "error",
     "traceback": [
      "\u001b[1;31m---------------------------------------------------------------------------\u001b[0m",
      "\u001b[1;31mTypeError\u001b[0m                                 Traceback (most recent call last)",
      "Input \u001b[1;32mIn [120]\u001b[0m, in \u001b[0;36m<cell line: 1>\u001b[1;34m()\u001b[0m\n\u001b[1;32m----> 1\u001b[0m d11[  [\u001b[38;5;241m1\u001b[39m,\u001b[38;5;241m2\u001b[39m,\u001b[38;5;241m3\u001b[39m]      ] \u001b[38;5;241m=\u001b[39m \u001b[38;5;124m'\u001b[39m\u001b[38;5;124mhello\u001b[39m\u001b[38;5;124m'\u001b[39m\n",
      "\u001b[1;31mTypeError\u001b[0m: unhashable type: 'list'"
     ]
    }
   ],
   "source": [
    "d11[  [1,2,3]      ] = 'hello'"
   ]
  },
  {
   "cell_type": "code",
   "execution_count": null,
   "id": "81bf54ca",
   "metadata": {},
   "outputs": [],
   "source": [
    "d9 = {}\n",
    "for i in x :\n",
    "    d9[i] = d9.get(i,0) + 1   #  d9[9] = 2"
   ]
  },
  {
   "cell_type": "code",
   "execution_count": 121,
   "id": "3fbac2ac",
   "metadata": {},
   "outputs": [],
   "source": [
    "from collections import Counter"
   ]
  },
  {
   "cell_type": "code",
   "execution_count": 123,
   "id": "2c89cd96",
   "metadata": {},
   "outputs": [],
   "source": [
    "d12 = Counter(x)"
   ]
  },
  {
   "cell_type": "code",
   "execution_count": 126,
   "id": "f9a28e61",
   "metadata": {},
   "outputs": [],
   "source": [
    "d12  = dict(d12)"
   ]
  },
  {
   "cell_type": "code",
   "execution_count": 128,
   "id": "9e5aa9df",
   "metadata": {},
   "outputs": [
    {
     "data": {
      "text/plain": [
       "1000"
      ]
     },
     "execution_count": 128,
     "metadata": {},
     "output_type": "execute_result"
    }
   ],
   "source": [
    "sum(d12.values())"
   ]
  },
  {
   "cell_type": "code",
   "execution_count": 129,
   "id": "e28b8ec0",
   "metadata": {},
   "outputs": [
    {
     "data": {
      "text/plain": [
       "55"
      ]
     },
     "execution_count": 129,
     "metadata": {},
     "output_type": "execute_result"
    }
   ],
   "source": [
    "sum(d12.keys())"
   ]
  },
  {
   "cell_type": "code",
   "execution_count": null,
   "id": "e661b896",
   "metadata": {},
   "outputs": [],
   "source": []
  }
 ],
 "metadata": {
  "kernelspec": {
   "display_name": "Python 3 (ipykernel)",
   "language": "python",
   "name": "python3"
  },
  "language_info": {
   "codemirror_mode": {
    "name": "ipython",
    "version": 3
   },
   "file_extension": ".py",
   "mimetype": "text/x-python",
   "name": "python",
   "nbconvert_exporter": "python",
   "pygments_lexer": "ipython3",
   "version": "3.10.2"
  }
 },
 "nbformat": 4,
 "nbformat_minor": 5
}
