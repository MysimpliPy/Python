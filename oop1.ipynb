{
 "cells": [
  {
   "cell_type": "markdown",
   "id": "0415a0b9",
   "metadata": {},
   "source": [
    "**Object Oriented Programming**"
   ]
  },
  {
   "cell_type": "code",
   "execution_count": 316,
   "id": "bdafcea5",
   "metadata": {},
   "outputs": [],
   "source": [
    "class school :\n",
    "    \n",
    "    schoolname = 'ABC School'\n",
    "    city       = 'Bangalore'"
   ]
  },
  {
   "cell_type": "markdown",
   "id": "cee4a50a",
   "metadata": {},
   "source": [
    "class -> a keyword \n",
    "school -> school is a name with which our class will be identified\n",
    "schoolname -> a class attribute"
   ]
  },
  {
   "cell_type": "code",
   "execution_count": 317,
   "id": "3862479b",
   "metadata": {},
   "outputs": [],
   "source": [
    "a = school()"
   ]
  },
  {
   "cell_type": "code",
   "execution_count": 318,
   "id": "31129823",
   "metadata": {},
   "outputs": [
    {
     "data": {
      "text/plain": [
       "'ABC School'"
      ]
     },
     "execution_count": 318,
     "metadata": {},
     "output_type": "execute_result"
    }
   ],
   "source": [
    "a.schoolname"
   ]
  },
  {
   "cell_type": "code",
   "execution_count": 319,
   "id": "503bd64b",
   "metadata": {},
   "outputs": [
    {
     "data": {
      "text/plain": [
       "'Bangalore'"
      ]
     },
     "execution_count": 319,
     "metadata": {},
     "output_type": "execute_result"
    }
   ],
   "source": [
    "a.city"
   ]
  },
  {
   "cell_type": "code",
   "execution_count": 320,
   "id": "85dadeee",
   "metadata": {},
   "outputs": [],
   "source": [
    "b = school()"
   ]
  },
  {
   "cell_type": "code",
   "execution_count": 321,
   "id": "2134bcbe",
   "metadata": {},
   "outputs": [
    {
     "data": {
      "text/plain": [
       "'ABC School'"
      ]
     },
     "execution_count": 321,
     "metadata": {},
     "output_type": "execute_result"
    }
   ],
   "source": [
    "b.schoolname"
   ]
  },
  {
   "cell_type": "code",
   "execution_count": 322,
   "id": "b4bdbcf9",
   "metadata": {},
   "outputs": [
    {
     "data": {
      "text/plain": [
       "'Bangalore'"
      ]
     },
     "execution_count": 322,
     "metadata": {},
     "output_type": "execute_result"
    }
   ],
   "source": [
    "b.city"
   ]
  },
  {
   "cell_type": "code",
   "execution_count": 323,
   "id": "7117b6a6",
   "metadata": {},
   "outputs": [
    {
     "data": {
      "text/plain": [
       "'ABC School'"
      ]
     },
     "execution_count": 323,
     "metadata": {},
     "output_type": "execute_result"
    }
   ],
   "source": [
    "school.schoolname"
   ]
  },
  {
   "cell_type": "code",
   "execution_count": 324,
   "id": "9a1d23d5",
   "metadata": {},
   "outputs": [
    {
     "data": {
      "text/plain": [
       "'Bangalore'"
      ]
     },
     "execution_count": 324,
     "metadata": {},
     "output_type": "execute_result"
    }
   ],
   "source": [
    "school.city"
   ]
  },
  {
   "cell_type": "code",
   "execution_count": 379,
   "id": "a44ccb4f",
   "metadata": {},
   "outputs": [],
   "source": [
    "class school :\n",
    "    \n",
    "    schoolname = 'ABC School'\n",
    "    city       = 'Bangalore'\n",
    "    \n",
    "    def storeInfo(student, name, age) :   #  student = student1, name = John, age = 15\n",
    "        student.name = name\n",
    "        student.age = age\n",
    "    \n",
    "    def printInfo(student) :\n",
    "        print(f\"school   : {school.schoolname}\")\n",
    "        print(f\"city     : {school.city}\")\n",
    "        print(f\"name     : {student.name}\")\n",
    "        print(f\"age      : {student.age}\")\n",
    "        print()\n",
    "              \n",
    "    "
   ]
  },
  {
   "cell_type": "code",
   "execution_count": 370,
   "id": "d4445bf5",
   "metadata": {},
   "outputs": [],
   "source": [
    "student1 = school()"
   ]
  },
  {
   "cell_type": "code",
   "execution_count": 371,
   "id": "89348cf3",
   "metadata": {},
   "outputs": [
    {
     "data": {
      "text/plain": [
       "<__main__.school at 0x1e44a8e2ad0>"
      ]
     },
     "execution_count": 371,
     "metadata": {},
     "output_type": "execute_result"
    }
   ],
   "source": [
    "student1"
   ]
  },
  {
   "cell_type": "code",
   "execution_count": 342,
   "id": "595d5c8e",
   "metadata": {},
   "outputs": [
    {
     "data": {
      "text/plain": [
       "'ABC School'"
      ]
     },
     "execution_count": 342,
     "metadata": {},
     "output_type": "execute_result"
    }
   ],
   "source": [
    "student1.schoolname"
   ]
  },
  {
   "cell_type": "code",
   "execution_count": 343,
   "id": "a6bc6557",
   "metadata": {},
   "outputs": [
    {
     "data": {
      "text/plain": [
       "'Bangalore'"
      ]
     },
     "execution_count": 343,
     "metadata": {},
     "output_type": "execute_result"
    }
   ],
   "source": [
    "student1.city"
   ]
  },
  {
   "cell_type": "code",
   "execution_count": 344,
   "id": "673b4b70",
   "metadata": {},
   "outputs": [],
   "source": [
    "school.storeInfo(student1, 'John', 15)"
   ]
  },
  {
   "cell_type": "code",
   "execution_count": 345,
   "id": "d3b4f5f0",
   "metadata": {},
   "outputs": [
    {
     "data": {
      "text/plain": [
       "('John', 15)"
      ]
     },
     "execution_count": 345,
     "metadata": {},
     "output_type": "execute_result"
    }
   ],
   "source": [
    "student1.name, student1.age"
   ]
  },
  {
   "cell_type": "code",
   "execution_count": 346,
   "id": "75cb09a2",
   "metadata": {},
   "outputs": [],
   "source": [
    "student2 = school()"
   ]
  },
  {
   "cell_type": "code",
   "execution_count": 347,
   "id": "a3c7a91c",
   "metadata": {},
   "outputs": [],
   "source": [
    "school.storeInfo(student2, 'Julie', 12)"
   ]
  },
  {
   "cell_type": "code",
   "execution_count": 348,
   "id": "23de31ab",
   "metadata": {},
   "outputs": [
    {
     "data": {
      "text/plain": [
       "'ABC School'"
      ]
     },
     "execution_count": 348,
     "metadata": {},
     "output_type": "execute_result"
    }
   ],
   "source": [
    "student2.schoolname"
   ]
  },
  {
   "cell_type": "code",
   "execution_count": 349,
   "id": "d6a7e724",
   "metadata": {},
   "outputs": [
    {
     "data": {
      "text/plain": [
       "'Bangalore'"
      ]
     },
     "execution_count": 349,
     "metadata": {},
     "output_type": "execute_result"
    }
   ],
   "source": [
    "student2.city"
   ]
  },
  {
   "cell_type": "code",
   "execution_count": 350,
   "id": "263b994a",
   "metadata": {},
   "outputs": [
    {
     "data": {
      "text/plain": [
       "'Julie'"
      ]
     },
     "execution_count": 350,
     "metadata": {},
     "output_type": "execute_result"
    }
   ],
   "source": [
    "student2.name"
   ]
  },
  {
   "cell_type": "code",
   "execution_count": 351,
   "id": "8cb760a9",
   "metadata": {},
   "outputs": [
    {
     "data": {
      "text/plain": [
       "12"
      ]
     },
     "execution_count": 351,
     "metadata": {},
     "output_type": "execute_result"
    }
   ],
   "source": [
    "student2.age"
   ]
  },
  {
   "cell_type": "code",
   "execution_count": 352,
   "id": "ad3766f5",
   "metadata": {},
   "outputs": [
    {
     "name": "stdout",
     "output_type": "stream",
     "text": [
      "school   : ABC School\n",
      "city     : Bangalore\n",
      "name     : John\n",
      "age      : 15\n"
     ]
    }
   ],
   "source": [
    "school.printInfo(student1)"
   ]
  },
  {
   "cell_type": "code",
   "execution_count": 353,
   "id": "91a39af1",
   "metadata": {},
   "outputs": [
    {
     "name": "stdout",
     "output_type": "stream",
     "text": [
      "school   : ABC School\n",
      "city     : Bangalore\n",
      "name     : Julie\n",
      "age      : 12\n"
     ]
    }
   ],
   "source": [
    "school.printInfo(student2)"
   ]
  },
  {
   "cell_type": "code",
   "execution_count": 354,
   "id": "1f465837",
   "metadata": {},
   "outputs": [],
   "source": [
    "import numpy as np"
   ]
  },
  {
   "cell_type": "code",
   "execution_count": 381,
   "id": "73288c68",
   "metadata": {},
   "outputs": [],
   "source": [
    "name = [''.join(np.random.choice(list('ABCDEFGHIJKLMNOPQRSTUVWXYZ'), 6)).capitalize() for i in range(1,101)]\n",
    "age = np.random.randint(12, 16, 100)\n"
   ]
  },
  {
   "cell_type": "code",
   "execution_count": 382,
   "id": "1798bb09",
   "metadata": {},
   "outputs": [],
   "source": [
    "name_age = list(zip(name,age))"
   ]
  },
  {
   "cell_type": "code",
   "execution_count": 383,
   "id": "53e93a3b",
   "metadata": {},
   "outputs": [],
   "source": [
    "objects =   [ school()  for i in range(1,101) ]"
   ]
  },
  {
   "cell_type": "code",
   "execution_count": 384,
   "id": "5fd063e3",
   "metadata": {},
   "outputs": [],
   "source": [
    "dummy = [ school.storeInfo(objects[i],j[0],j[1])  for i,j in enumerate(name_age) ]"
   ]
  },
  {
   "cell_type": "code",
   "execution_count": 385,
   "id": "00b02db1",
   "metadata": {},
   "outputs": [
    {
     "name": "stdout",
     "output_type": "stream",
     "text": [
      "school   : ABC School\n",
      "city     : Bangalore\n",
      "name     : Guqmvd\n",
      "age      : 12\n",
      "\n"
     ]
    }
   ],
   "source": [
    "objects[1].printInfo()"
   ]
  },
  {
   "cell_type": "code",
   "execution_count": 387,
   "id": "464a6855",
   "metadata": {},
   "outputs": [
    {
     "name": "stdout",
     "output_type": "stream",
     "text": [
      "school   : ABC School\n",
      "city     : Bangalore\n",
      "name     : Zfrxyp\n",
      "age      : 14\n",
      "\n",
      "school   : ABC School\n",
      "city     : Bangalore\n",
      "name     : Guqmvd\n",
      "age      : 12\n",
      "\n",
      "school   : ABC School\n",
      "city     : Bangalore\n",
      "name     : Asmuzh\n",
      "age      : 15\n",
      "\n",
      "school   : ABC School\n",
      "city     : Bangalore\n",
      "name     : Jlbtta\n",
      "age      : 13\n",
      "\n",
      "school   : ABC School\n",
      "city     : Bangalore\n",
      "name     : Xctykb\n",
      "age      : 13\n",
      "\n",
      "school   : ABC School\n",
      "city     : Bangalore\n",
      "name     : Dftakz\n",
      "age      : 14\n",
      "\n",
      "school   : ABC School\n",
      "city     : Bangalore\n",
      "name     : Izvtrr\n",
      "age      : 13\n",
      "\n",
      "school   : ABC School\n",
      "city     : Bangalore\n",
      "name     : Evuxkz\n",
      "age      : 12\n",
      "\n",
      "school   : ABC School\n",
      "city     : Bangalore\n",
      "name     : Mhxgbl\n",
      "age      : 13\n",
      "\n",
      "school   : ABC School\n",
      "city     : Bangalore\n",
      "name     : Cfvhie\n",
      "age      : 13\n",
      "\n",
      "school   : ABC School\n",
      "city     : Bangalore\n",
      "name     : Ofmopw\n",
      "age      : 12\n",
      "\n",
      "school   : ABC School\n",
      "city     : Bangalore\n",
      "name     : Byzzoy\n",
      "age      : 12\n",
      "\n",
      "school   : ABC School\n",
      "city     : Bangalore\n",
      "name     : Tshygz\n",
      "age      : 13\n",
      "\n",
      "school   : ABC School\n",
      "city     : Bangalore\n",
      "name     : Nhrrsw\n",
      "age      : 15\n",
      "\n",
      "school   : ABC School\n",
      "city     : Bangalore\n",
      "name     : Vprhms\n",
      "age      : 15\n",
      "\n",
      "school   : ABC School\n",
      "city     : Bangalore\n",
      "name     : Tkewse\n",
      "age      : 13\n",
      "\n",
      "school   : ABC School\n",
      "city     : Bangalore\n",
      "name     : Kgelnc\n",
      "age      : 12\n",
      "\n",
      "school   : ABC School\n",
      "city     : Bangalore\n",
      "name     : Vjqmpj\n",
      "age      : 15\n",
      "\n",
      "school   : ABC School\n",
      "city     : Bangalore\n",
      "name     : Psvjic\n",
      "age      : 14\n",
      "\n",
      "school   : ABC School\n",
      "city     : Bangalore\n",
      "name     : Orqswo\n",
      "age      : 15\n",
      "\n",
      "school   : ABC School\n",
      "city     : Bangalore\n",
      "name     : Jofjne\n",
      "age      : 12\n",
      "\n",
      "school   : ABC School\n",
      "city     : Bangalore\n",
      "name     : Dxhegg\n",
      "age      : 14\n",
      "\n",
      "school   : ABC School\n",
      "city     : Bangalore\n",
      "name     : Qlkafj\n",
      "age      : 12\n",
      "\n",
      "school   : ABC School\n",
      "city     : Bangalore\n",
      "name     : Kfiojx\n",
      "age      : 13\n",
      "\n",
      "school   : ABC School\n",
      "city     : Bangalore\n",
      "name     : Fxyyvd\n",
      "age      : 15\n",
      "\n",
      "school   : ABC School\n",
      "city     : Bangalore\n",
      "name     : Virymd\n",
      "age      : 15\n",
      "\n",
      "school   : ABC School\n",
      "city     : Bangalore\n",
      "name     : Fwwfzf\n",
      "age      : 12\n",
      "\n",
      "school   : ABC School\n",
      "city     : Bangalore\n",
      "name     : Jlayhw\n",
      "age      : 12\n",
      "\n",
      "school   : ABC School\n",
      "city     : Bangalore\n",
      "name     : Fzhsal\n",
      "age      : 13\n",
      "\n",
      "school   : ABC School\n",
      "city     : Bangalore\n",
      "name     : Hkhehf\n",
      "age      : 13\n",
      "\n",
      "school   : ABC School\n",
      "city     : Bangalore\n",
      "name     : Bftkua\n",
      "age      : 14\n",
      "\n",
      "school   : ABC School\n",
      "city     : Bangalore\n",
      "name     : Lzguxn\n",
      "age      : 12\n",
      "\n",
      "school   : ABC School\n",
      "city     : Bangalore\n",
      "name     : Sgkadq\n",
      "age      : 13\n",
      "\n",
      "school   : ABC School\n",
      "city     : Bangalore\n",
      "name     : Fmwcxv\n",
      "age      : 15\n",
      "\n",
      "school   : ABC School\n",
      "city     : Bangalore\n",
      "name     : Rjnsna\n",
      "age      : 12\n",
      "\n",
      "school   : ABC School\n",
      "city     : Bangalore\n",
      "name     : Dlcwzp\n",
      "age      : 14\n",
      "\n",
      "school   : ABC School\n",
      "city     : Bangalore\n",
      "name     : Edszle\n",
      "age      : 12\n",
      "\n",
      "school   : ABC School\n",
      "city     : Bangalore\n",
      "name     : Tlulal\n",
      "age      : 12\n",
      "\n",
      "school   : ABC School\n",
      "city     : Bangalore\n",
      "name     : Mgbloy\n",
      "age      : 14\n",
      "\n",
      "school   : ABC School\n",
      "city     : Bangalore\n",
      "name     : Cwwwfq\n",
      "age      : 13\n",
      "\n",
      "school   : ABC School\n",
      "city     : Bangalore\n",
      "name     : Tlkiej\n",
      "age      : 13\n",
      "\n",
      "school   : ABC School\n",
      "city     : Bangalore\n",
      "name     : Hfaife\n",
      "age      : 13\n",
      "\n",
      "school   : ABC School\n",
      "city     : Bangalore\n",
      "name     : Vbtpgo\n",
      "age      : 13\n",
      "\n",
      "school   : ABC School\n",
      "city     : Bangalore\n",
      "name     : Dnrsrl\n",
      "age      : 15\n",
      "\n",
      "school   : ABC School\n",
      "city     : Bangalore\n",
      "name     : Kjnyye\n",
      "age      : 12\n",
      "\n",
      "school   : ABC School\n",
      "city     : Bangalore\n",
      "name     : Fdtzzd\n",
      "age      : 15\n",
      "\n",
      "school   : ABC School\n",
      "city     : Bangalore\n",
      "name     : Fnptnx\n",
      "age      : 14\n",
      "\n",
      "school   : ABC School\n",
      "city     : Bangalore\n",
      "name     : Yciyar\n",
      "age      : 14\n",
      "\n",
      "school   : ABC School\n",
      "city     : Bangalore\n",
      "name     : Mhehha\n",
      "age      : 14\n",
      "\n",
      "school   : ABC School\n",
      "city     : Bangalore\n",
      "name     : Fhbuel\n",
      "age      : 12\n",
      "\n",
      "school   : ABC School\n",
      "city     : Bangalore\n",
      "name     : Vavhiq\n",
      "age      : 12\n",
      "\n",
      "school   : ABC School\n",
      "city     : Bangalore\n",
      "name     : Slxjis\n",
      "age      : 13\n",
      "\n",
      "school   : ABC School\n",
      "city     : Bangalore\n",
      "name     : Lnxjkf\n",
      "age      : 13\n",
      "\n",
      "school   : ABC School\n",
      "city     : Bangalore\n",
      "name     : Uhzssj\n",
      "age      : 12\n",
      "\n",
      "school   : ABC School\n",
      "city     : Bangalore\n",
      "name     : Kdctsy\n",
      "age      : 12\n",
      "\n",
      "school   : ABC School\n",
      "city     : Bangalore\n",
      "name     : Ohhzhc\n",
      "age      : 14\n",
      "\n",
      "school   : ABC School\n",
      "city     : Bangalore\n",
      "name     : Sihrxp\n",
      "age      : 12\n",
      "\n",
      "school   : ABC School\n",
      "city     : Bangalore\n",
      "name     : Xtdhoa\n",
      "age      : 14\n",
      "\n",
      "school   : ABC School\n",
      "city     : Bangalore\n",
      "name     : Xwfswy\n",
      "age      : 15\n",
      "\n",
      "school   : ABC School\n",
      "city     : Bangalore\n",
      "name     : Escyul\n",
      "age      : 13\n",
      "\n",
      "school   : ABC School\n",
      "city     : Bangalore\n",
      "name     : Csvxon\n",
      "age      : 15\n",
      "\n",
      "school   : ABC School\n",
      "city     : Bangalore\n",
      "name     : Klknml\n",
      "age      : 15\n",
      "\n",
      "school   : ABC School\n",
      "city     : Bangalore\n",
      "name     : Wuusiw\n",
      "age      : 13\n",
      "\n",
      "school   : ABC School\n",
      "city     : Bangalore\n",
      "name     : Epfzqr\n",
      "age      : 13\n",
      "\n",
      "school   : ABC School\n",
      "city     : Bangalore\n",
      "name     : Vazoqf\n",
      "age      : 12\n",
      "\n",
      "school   : ABC School\n",
      "city     : Bangalore\n",
      "name     : Yyykdq\n",
      "age      : 15\n",
      "\n",
      "school   : ABC School\n",
      "city     : Bangalore\n",
      "name     : Vicxln\n",
      "age      : 13\n",
      "\n",
      "school   : ABC School\n",
      "city     : Bangalore\n",
      "name     : Tmrxdm\n",
      "age      : 13\n",
      "\n",
      "school   : ABC School\n",
      "city     : Bangalore\n",
      "name     : Jpkbug\n",
      "age      : 14\n",
      "\n",
      "school   : ABC School\n",
      "city     : Bangalore\n",
      "name     : Ajtyfu\n",
      "age      : 13\n",
      "\n",
      "school   : ABC School\n",
      "city     : Bangalore\n",
      "name     : Dvssqb\n",
      "age      : 13\n",
      "\n",
      "school   : ABC School\n",
      "city     : Bangalore\n",
      "name     : Jlodwy\n",
      "age      : 15\n",
      "\n",
      "school   : ABC School\n",
      "city     : Bangalore\n",
      "name     : Rogwzs\n",
      "age      : 12\n",
      "\n",
      "school   : ABC School\n",
      "city     : Bangalore\n",
      "name     : Edgmbt\n",
      "age      : 14\n",
      "\n",
      "school   : ABC School\n",
      "city     : Bangalore\n",
      "name     : Qnytax\n",
      "age      : 12\n",
      "\n",
      "school   : ABC School\n",
      "city     : Bangalore\n",
      "name     : Dovwsm\n",
      "age      : 13\n",
      "\n",
      "school   : ABC School\n",
      "city     : Bangalore\n",
      "name     : Vqaikr\n",
      "age      : 13\n",
      "\n",
      "school   : ABC School\n",
      "city     : Bangalore\n",
      "name     : Qxezus\n",
      "age      : 14\n",
      "\n",
      "school   : ABC School\n",
      "city     : Bangalore\n",
      "name     : Xtxilv\n",
      "age      : 13\n",
      "\n",
      "school   : ABC School\n",
      "city     : Bangalore\n",
      "name     : Njzxky\n",
      "age      : 15\n",
      "\n",
      "school   : ABC School\n",
      "city     : Bangalore\n",
      "name     : Dayyfy\n",
      "age      : 15\n",
      "\n",
      "school   : ABC School\n",
      "city     : Bangalore\n",
      "name     : Jayhwe\n",
      "age      : 13\n",
      "\n",
      "school   : ABC School\n",
      "city     : Bangalore\n",
      "name     : Npaadg\n",
      "age      : 13\n",
      "\n",
      "school   : ABC School\n",
      "city     : Bangalore\n",
      "name     : Kflszh\n",
      "age      : 13\n",
      "\n",
      "school   : ABC School\n",
      "city     : Bangalore\n",
      "name     : Dcuarm\n",
      "age      : 14\n",
      "\n",
      "school   : ABC School\n",
      "city     : Bangalore\n",
      "name     : Qfskky\n",
      "age      : 14\n",
      "\n",
      "school   : ABC School\n",
      "city     : Bangalore\n",
      "name     : Qfvrco\n",
      "age      : 15\n",
      "\n",
      "school   : ABC School\n",
      "city     : Bangalore\n",
      "name     : Lcyagg\n",
      "age      : 15\n",
      "\n",
      "school   : ABC School\n",
      "city     : Bangalore\n",
      "name     : Wgldac\n",
      "age      : 12\n",
      "\n",
      "school   : ABC School\n",
      "city     : Bangalore\n",
      "name     : Iiwgvp\n",
      "age      : 13\n",
      "\n",
      "school   : ABC School\n",
      "city     : Bangalore\n",
      "name     : Zycksc\n",
      "age      : 15\n",
      "\n",
      "school   : ABC School\n",
      "city     : Bangalore\n",
      "name     : Sxkmfu\n",
      "age      : 12\n",
      "\n",
      "school   : ABC School\n",
      "city     : Bangalore\n",
      "name     : Jpbkbk\n",
      "age      : 15\n",
      "\n",
      "school   : ABC School\n",
      "city     : Bangalore\n",
      "name     : Ynblzx\n",
      "age      : 14\n",
      "\n",
      "school   : ABC School\n",
      "city     : Bangalore\n",
      "name     : Glnjat\n",
      "age      : 13\n",
      "\n",
      "school   : ABC School\n",
      "city     : Bangalore\n",
      "name     : Etazdz\n",
      "age      : 13\n",
      "\n",
      "school   : ABC School\n",
      "city     : Bangalore\n",
      "name     : Iokkhp\n",
      "age      : 12\n",
      "\n",
      "school   : ABC School\n",
      "city     : Bangalore\n",
      "name     : Zqvxtp\n",
      "age      : 12\n",
      "\n",
      "school   : ABC School\n",
      "city     : Bangalore\n",
      "name     : Lsouam\n",
      "age      : 13\n",
      "\n",
      "school   : ABC School\n",
      "city     : Bangalore\n",
      "name     : Ngmowp\n",
      "age      : 15\n",
      "\n"
     ]
    }
   ],
   "source": [
    "for i in range(100) :\n",
    "    objects[i].printInfo()"
   ]
  },
  {
   "cell_type": "code",
   "execution_count": 389,
   "id": "79a148f4",
   "metadata": {},
   "outputs": [
    {
     "data": {
      "text/plain": [
       "('Zfrxyp', 14)"
      ]
     },
     "execution_count": 389,
     "metadata": {},
     "output_type": "execute_result"
    }
   ],
   "source": [
    "name_age[0]"
   ]
  },
  {
   "cell_type": "code",
   "execution_count": null,
   "id": "a9c04118",
   "metadata": {},
   "outputs": [],
   "source": []
  }
 ],
 "metadata": {
  "kernelspec": {
   "display_name": "Python 3 (ipykernel)",
   "language": "python",
   "name": "python3"
  },
  "language_info": {
   "codemirror_mode": {
    "name": "ipython",
    "version": 3
   },
   "file_extension": ".py",
   "mimetype": "text/x-python",
   "name": "python",
   "nbconvert_exporter": "python",
   "pygments_lexer": "ipython3",
   "version": "3.10.2"
  },
  "widgets": {
   "application/vnd.jupyter.widget-state+json": {
    "state": {},
    "version_major": 2,
    "version_minor": 0
   }
  }
 },
 "nbformat": 4,
 "nbformat_minor": 5
}
