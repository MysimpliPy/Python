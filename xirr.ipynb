{
 "cells": [
  {
   "cell_type": "code",
   "execution_count": 35,
   "id": "6e91e269",
   "metadata": {},
   "outputs": [],
   "source": [
    "import numpy as np\n",
    "import pandas as pd\n",
    "from datetime import date\n",
    "from pyxirr import xirr\n",
    "from scipy.optimize import newton\n",
    "import matplotlib.pyplot as plt"
   ]
  },
  {
   "cell_type": "markdown",
   "id": "5228b454",
   "metadata": {},
   "source": [
    "<h3>\n",
    "<font color=blue>Extended Internal Rate of Return (XIRR)</font>\n",
    "</h3>\n",
    "\n",
    "The XIRR (eXtended Internal Rate of Return) is used to indicate the return on an investment that has multiple cash flows occurring at irregular intervals. While the IRR calculation ignores the timing of the cash flows, the XIRR requires the timing of the cash flows.\n"
   ]
  },
  {
   "attachments": {
    "image.png": {
     "image/png": "[encoded data removed]"
    }
   },
   "cell_type": "markdown",
   "id": "ae29e9bd",
   "metadata": {},
   "source": [
    "![image.png](attachment:image.png)\n"
   ]
  },
  {
   "cell_type": "code",
   "execution_count": 2,
   "id": "dc1e2fb9",
   "metadata": {},
   "outputs": [],
   "source": [
    "cashflows = [-2000, 1000, 800, 1100]\n",
    "dates     = [date(2018,1,1), date(2019,1,10), date(2019, 10, 31), date(2021, 1, 15)]"
   ]
  },
  {
   "cell_type": "code",
   "execution_count": 48,
   "id": "f5772409",
   "metadata": {},
   "outputs": [
    {
     "data": {
      "text/plain": [
       "[0, 374, 668, 1110]"
      ]
     },
     "execution_count": 48,
     "metadata": {},
     "output_type": "execute_result"
    }
   ],
   "source": [
    "days_elapsed = [(dt-dates[0]).days for dt in dates]\n",
    "days_elapsed"
   ]
  },
  {
   "cell_type": "code",
   "execution_count": 49,
   "id": "4f1677a3",
   "metadata": {},
   "outputs": [],
   "source": [
    "df = pd.DataFrame(zip(cashflows, dates, days_elapsed), columns=['cashflow', 'date', 'days_elapsed'])"
   ]
  },
  {
   "cell_type": "code",
   "execution_count": 50,
   "id": "ea3acd04",
   "metadata": {},
   "outputs": [
    {
     "data": {
      "text/html": [
       "<div>\n",
       "<style scoped>\n",
       "    .dataframe tbody tr th:only-of-type {\n",
       "        vertical-align: middle;\n",
       "    }\n",
       "\n",
       "    .dataframe tbody tr th {\n",
       "        vertical-align: top;\n",
       "    }\n",
       "\n",
       "    .dataframe thead th {\n",
       "        text-align: right;\n",
       "    }\n",
       "</style>\n",
       "<table border=\"1\" class=\"dataframe\">\n",
       "  <thead>\n",
       "    <tr style=\"text-align: right;\">\n",
       "      <th></th>\n",
       "      <th>cashflow</th>\n",
       "      <th>date</th>\n",
       "      <th>days_elapsed</th>\n",
       "    </tr>\n",
       "  </thead>\n",
       "  <tbody>\n",
       "    <tr>\n",
       "      <th>0</th>\n",
       "      <td>-2000</td>\n",
       "      <td>2018-01-01</td>\n",
       "      <td>0</td>\n",
       "    </tr>\n",
       "    <tr>\n",
       "      <th>1</th>\n",
       "      <td>1000</td>\n",
       "      <td>2019-01-10</td>\n",
       "      <td>374</td>\n",
       "    </tr>\n",
       "    <tr>\n",
       "      <th>2</th>\n",
       "      <td>800</td>\n",
       "      <td>2019-10-31</td>\n",
       "      <td>668</td>\n",
       "    </tr>\n",
       "    <tr>\n",
       "      <th>3</th>\n",
       "      <td>1100</td>\n",
       "      <td>2021-01-15</td>\n",
       "      <td>1110</td>\n",
       "    </tr>\n",
       "  </tbody>\n",
       "</table>\n",
       "</div>"
      ],
      "text/plain": [
       "   cashflow        date  days_elapsed\n",
       "0     -2000  2018-01-01             0\n",
       "1      1000  2019-01-10           374\n",
       "2       800  2019-10-31           668\n",
       "3      1100  2021-01-15          1110"
      ]
     },
     "execution_count": 50,
     "metadata": {},
     "output_type": "execute_result"
    }
   ],
   "source": [
    "df"
   ]
  },
  {
   "cell_type": "markdown",
   "id": "cf9f023a",
   "metadata": {},
   "source": [
    "<h3>\n",
    "    Deriving XIRR using <font color=blue> xirr </font> method of <font color=blue> pyxirr </font> module"
   ]
  },
  {
   "cell_type": "code",
   "execution_count": 51,
   "id": "52e65ea9",
   "metadata": {},
   "outputs": [
    {
     "data": {
      "text/plain": [
       "0.21098233503367922"
      ]
     },
     "execution_count": 51,
     "metadata": {},
     "output_type": "execute_result"
    }
   ],
   "source": [
    "xirr_rate = xirr(df.date,df.cashflow)\n",
    "xirr_rate"
   ]
  },
  {
   "cell_type": "code",
   "execution_count": 52,
   "id": "98971126",
   "metadata": {},
   "outputs": [],
   "source": [
    "def getXIRR(rate) :\n",
    "    npv =  sum([cf/(1+rate)**(days/365) for days, cf in zip(df.days_elapsed, df.cashflow)])\n",
    "    return npv"
   ]
  },
  {
   "cell_type": "code",
   "execution_count": 53,
   "id": "e55fe377",
   "metadata": {},
   "outputs": [
    {
     "data": {
      "text/plain": [
       "0.21098233503354757"
      ]
     },
     "execution_count": 53,
     "metadata": {},
     "output_type": "execute_result"
    }
   ],
   "source": [
    "newton_rate= newton(getXIRR,.02)\n",
    "newton_rate"
   ]
  },
  {
   "cell_type": "code",
   "execution_count": 54,
   "id": "2ab84abd",
   "metadata": {
    "scrolled": false
   },
   "outputs": [],
   "source": [
    "discount_list = []\n",
    "npv_list = []\n",
    "for rate in np.arange(0.10000, .30000, .00001) :\n",
    "    npv = sum([cf/(1+rate)**(days/365) for days, cf in zip(df.days_elapsed, df.cashflow)])\n",
    "    discount_list.append(rate)\n",
    "    npv_list.append(npv)\n",
    "    if npv < 0.001 :\n",
    "        break"
   ]
  },
  {
   "cell_type": "code",
   "execution_count": 55,
   "id": "c69f12d4",
   "metadata": {},
   "outputs": [
    {
     "name": "stdout",
     "output_type": "stream",
     "text": [
      "last 2 elements of the discount list [0.210989999999957, 0.21097999999995698]\n",
      "last 2 elements of the npv list [-0.023687852498369466, 0.007216297701802432]\n"
     ]
    }
   ],
   "source": [
    "print(f'last 2 elements of the discount list {discount_list[-1:-3:-1]}')\n",
    "print(f'last 2 elements of the npv list {npv_list[-1:-3:-1]}')"
   ]
  },
  {
   "cell_type": "code",
   "execution_count": 56,
   "id": "e9449620",
   "metadata": {},
   "outputs": [
    {
     "data": {
      "text/plain": [
       "(0.21097999999995698, 0.007216297701802432)"
      ]
     },
     "execution_count": 56,
     "metadata": {},
     "output_type": "execute_result"
    }
   ],
   "source": [
    "discount_list[-2], npv_list[-2]"
   ]
  },
  {
   "cell_type": "code",
   "execution_count": 57,
   "id": "e65f302d",
   "metadata": {},
   "outputs": [
    {
     "data": {
      "text/html": [
       "<div>\n",
       "<style scoped>\n",
       "    .dataframe tbody tr th:only-of-type {\n",
       "        vertical-align: middle;\n",
       "    }\n",
       "\n",
       "    .dataframe tbody tr th {\n",
       "        vertical-align: top;\n",
       "    }\n",
       "\n",
       "    .dataframe thead th {\n",
       "        text-align: right;\n",
       "    }\n",
       "</style>\n",
       "<table border=\"1\" class=\"dataframe\">\n",
       "  <thead>\n",
       "    <tr style=\"text-align: right;\">\n",
       "      <th></th>\n",
       "      <th>discount</th>\n",
       "      <th>npv</th>\n",
       "    </tr>\n",
       "  </thead>\n",
       "  <tbody>\n",
       "    <tr>\n",
       "      <th>0</th>\n",
       "      <td>0.10000</td>\n",
       "      <td>402.120549</td>\n",
       "    </tr>\n",
       "    <tr>\n",
       "      <th>1</th>\n",
       "      <td>0.10001</td>\n",
       "      <td>402.078162</td>\n",
       "    </tr>\n",
       "    <tr>\n",
       "      <th>2</th>\n",
       "      <td>0.10002</td>\n",
       "      <td>402.035777</td>\n",
       "    </tr>\n",
       "    <tr>\n",
       "      <th>3</th>\n",
       "      <td>0.10003</td>\n",
       "      <td>401.993394</td>\n",
       "    </tr>\n",
       "    <tr>\n",
       "      <th>4</th>\n",
       "      <td>0.10004</td>\n",
       "      <td>401.951011</td>\n",
       "    </tr>\n",
       "    <tr>\n",
       "      <th>...</th>\n",
       "      <td>...</td>\n",
       "      <td>...</td>\n",
       "    </tr>\n",
       "    <tr>\n",
       "      <th>11095</th>\n",
       "      <td>0.21095</td>\n",
       "      <td>0.099934</td>\n",
       "    </tr>\n",
       "    <tr>\n",
       "      <th>11096</th>\n",
       "      <td>0.21096</td>\n",
       "      <td>0.069027</td>\n",
       "    </tr>\n",
       "    <tr>\n",
       "      <th>11097</th>\n",
       "      <td>0.21097</td>\n",
       "      <td>0.038121</td>\n",
       "    </tr>\n",
       "    <tr>\n",
       "      <th>11098</th>\n",
       "      <td>0.21098</td>\n",
       "      <td>0.007216</td>\n",
       "    </tr>\n",
       "    <tr>\n",
       "      <th>11099</th>\n",
       "      <td>0.21099</td>\n",
       "      <td>-0.023688</td>\n",
       "    </tr>\n",
       "  </tbody>\n",
       "</table>\n",
       "<p>11100 rows × 2 columns</p>\n",
       "</div>"
      ],
      "text/plain": [
       "       discount         npv\n",
       "0       0.10000  402.120549\n",
       "1       0.10001  402.078162\n",
       "2       0.10002  402.035777\n",
       "3       0.10003  401.993394\n",
       "4       0.10004  401.951011\n",
       "...         ...         ...\n",
       "11095   0.21095    0.099934\n",
       "11096   0.21096    0.069027\n",
       "11097   0.21097    0.038121\n",
       "11098   0.21098    0.007216\n",
       "11099   0.21099   -0.023688\n",
       "\n",
       "[11100 rows x 2 columns]"
      ]
     },
     "execution_count": 57,
     "metadata": {},
     "output_type": "execute_result"
    }
   ],
   "source": [
    "df_xirr=pd.DataFrame(zip(discount_list, npv_list), columns = ['discount', 'npv'])\n",
    "pd.set_option('display.max_rows', 1000)\n",
    "df_xirr"
   ]
  },
  {
   "cell_type": "code",
   "execution_count": 58,
   "id": "21be1f24",
   "metadata": {
    "scrolled": true
   },
   "outputs": [
    {
     "data": {
      "image/png": "[encoded data removed]",
      "text/plain": [
       "<Figure size 1080x360 with 1 Axes>"
      ]
     },
     "metadata": {
      "needs_background": "light"
     },
     "output_type": "display_data"
    }
   ],
   "source": [
    "plt.figure(figsize=(15,5))\n",
    "plt.xlim(.1,.22,.2)\n",
    "plt.plot(discount_list, npv_list)\n",
    "plt.axhline(0, color='k')\n",
    "plt.ylabel('Net Present Value', c='b',size=20 )\n",
    "plt.xlabel('Discount', c='b', size=20)\n",
    "plt.axvline(discount_list[-2], color='r')\n",
    "plt.show()"
   ]
  },
  {
   "cell_type": "code",
   "execution_count": 19,
   "id": "651ed392",
   "metadata": {},
   "outputs": [
    {
     "data": {
      "text/html": [
       "<div>\n",
       "<style scoped>\n",
       "    .dataframe tbody tr th:only-of-type {\n",
       "        vertical-align: middle;\n",
       "    }\n",
       "\n",
       "    .dataframe tbody tr th {\n",
       "        vertical-align: top;\n",
       "    }\n",
       "\n",
       "    .dataframe thead th {\n",
       "        text-align: right;\n",
       "    }\n",
       "</style>\n",
       "<table border=\"1\" class=\"dataframe\">\n",
       "  <thead>\n",
       "    <tr style=\"text-align: right;\">\n",
       "      <th></th>\n",
       "      <th>discount</th>\n",
       "      <th>npv</th>\n",
       "    </tr>\n",
       "  </thead>\n",
       "  <tbody>\n",
       "    <tr>\n",
       "      <th>11095</th>\n",
       "      <td>0.21095</td>\n",
       "      <td>0.099934</td>\n",
       "    </tr>\n",
       "    <tr>\n",
       "      <th>11096</th>\n",
       "      <td>0.21096</td>\n",
       "      <td>0.069027</td>\n",
       "    </tr>\n",
       "    <tr>\n",
       "      <th>11097</th>\n",
       "      <td>0.21097</td>\n",
       "      <td>0.038121</td>\n",
       "    </tr>\n",
       "    <tr>\n",
       "      <th>11098</th>\n",
       "      <td>0.21098</td>\n",
       "      <td>0.007216</td>\n",
       "    </tr>\n",
       "    <tr>\n",
       "      <th>11099</th>\n",
       "      <td>0.21099</td>\n",
       "      <td>-0.023688</td>\n",
       "    </tr>\n",
       "  </tbody>\n",
       "</table>\n",
       "</div>"
      ],
      "text/plain": [
       "       discount       npv\n",
       "11095   0.21095  0.099934\n",
       "11096   0.21096  0.069027\n",
       "11097   0.21097  0.038121\n",
       "11098   0.21098  0.007216\n",
       "11099   0.21099 -0.023688"
      ]
     },
     "execution_count": 19,
     "metadata": {},
     "output_type": "execute_result"
    }
   ],
   "source": [
    "df_xirr.tail()"
   ]
  },
  {
   "cell_type": "code",
   "execution_count": 20,
   "id": "ce0da1d3",
   "metadata": {},
   "outputs": [
    {
     "data": {
      "image/png": "[encoded data removed]",
      "text/plain": [
       "<Figure size 1080x360 with 1 Axes>"
      ]
     },
     "metadata": {
      "needs_background": "light"
     },
     "output_type": "display_data"
    }
   ],
   "source": [
    "plt.figure(figsize=(15,5))\n",
    "plt.plot(discount_list[-1:-50:-1], npv_list[-1:-50:-1])\n",
    "plt.axhline(0, color='k')\n",
    "plt.ylabel('Net Present Value', c='b',size=20 )\n",
    "plt.xlabel('Discount', c='b', size=20)\n",
    "plt.axvline(discount_list[-2], color='r')\n",
    "plt.show()"
   ]
  }
 ],
 "metadata": {
  "kernelspec": {
   "display_name": "Python 3 (ipykernel)",
   "language": "python",
   "name": "python3"
  },
  "language_info": {
   "codemirror_mode": {
    "name": "ipython",
    "version": 3
   },
   "file_extension": ".py",
   "mimetype": "text/x-python",
   "name": "python",
   "nbconvert_exporter": "python",
   "pygments_lexer": "ipython3",
   "version": "3.10.2"
  }
 },
 "nbformat": 4,
 "nbformat_minor": 5
}
