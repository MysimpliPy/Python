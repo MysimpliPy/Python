{
 "cells": [
  {
   "cell_type": "markdown",
   "id": "0a78a44d",
   "metadata": {},
   "source": [
    "<font size='4' color='blue'>\n",
    "lambda, map, filter and reduce \n",
    "</font>"
   ]
  },
  {
   "cell_type": "code",
   "execution_count": null,
   "id": "5e2b2bcf",
   "metadata": {},
   "outputs": [],
   "source": [
    "    '''\n",
    "    What is lambda?\n",
    "    It is an unnamed function (anonymous function) that takes any number of arguments, \n",
    "    but it should be written in one line, i.e it should contain one statement.\n",
    "    \n",
    "    '''"
   ]
  },
  {
   "cell_type": "code",
   "execution_count": 143,
   "id": "1e315e91",
   "metadata": {},
   "outputs": [],
   "source": [
    "unnamed = lambda x: x+1  #  x is an argument ;  x+1 is a return statement"
   ]
  },
  {
   "cell_type": "code",
   "execution_count": 144,
   "id": "46d9d94a",
   "metadata": {},
   "outputs": [
    {
     "data": {
      "text/plain": [
       "6"
      ]
     },
     "execution_count": 144,
     "metadata": {},
     "output_type": "execute_result"
    }
   ],
   "source": [
    "unnamed(5)"
   ]
  },
  {
   "cell_type": "code",
   "execution_count": 145,
   "id": "d3cbeddb",
   "metadata": {},
   "outputs": [],
   "source": [
    "def func(x) :\n",
    "    return x+1"
   ]
  },
  {
   "cell_type": "code",
   "execution_count": 146,
   "id": "86d0b25a",
   "metadata": {},
   "outputs": [
    {
     "data": {
      "text/plain": [
       "6"
      ]
     },
     "execution_count": 146,
     "metadata": {},
     "output_type": "execute_result"
    }
   ],
   "source": [
    "func(5)"
   ]
  },
  {
   "cell_type": "code",
   "execution_count": 148,
   "id": "6000dc36",
   "metadata": {},
   "outputs": [
    {
     "data": {
      "text/plain": [
       "[2, 3, 4, 5]"
      ]
     },
     "execution_count": 148,
     "metadata": {},
     "output_type": "execute_result"
    }
   ],
   "source": [
    "list(map(func, [1,2,3,4]))"
   ]
  },
  {
   "cell_type": "code",
   "execution_count": 149,
   "id": "e5272ece",
   "metadata": {},
   "outputs": [
    {
     "data": {
      "text/plain": [
       "(2, 3, 4, 5)"
      ]
     },
     "execution_count": 149,
     "metadata": {},
     "output_type": "execute_result"
    }
   ],
   "source": [
    "tuple(map(func, [1,2,3,4]))"
   ]
  },
  {
   "cell_type": "code",
   "execution_count": 150,
   "id": "1ae3a829",
   "metadata": {},
   "outputs": [
    {
     "data": {
      "text/plain": [
       "[2, 3, 4, 5]"
      ]
     },
     "execution_count": 150,
     "metadata": {},
     "output_type": "execute_result"
    }
   ],
   "source": [
    "list(map(lambda x: x+1, [1,2,3,4]))"
   ]
  },
  {
   "cell_type": "code",
   "execution_count": 151,
   "id": "28cdaaed",
   "metadata": {},
   "outputs": [],
   "source": [
    "a1 = lambda x: x+1"
   ]
  },
  {
   "cell_type": "code",
   "execution_count": 152,
   "id": "8dd13ea4",
   "metadata": {},
   "outputs": [
    {
     "data": {
      "text/plain": [
       "[2, 3, 4, 5]"
      ]
     },
     "execution_count": 152,
     "metadata": {},
     "output_type": "execute_result"
    }
   ],
   "source": [
    "list(map(a1, [1,2,3,4]))"
   ]
  },
  {
   "cell_type": "code",
   "execution_count": 153,
   "id": "8b98ae24",
   "metadata": {},
   "outputs": [],
   "source": [
    "def sumDigits(n) :   # 125\n",
    "    \n",
    "    s = 0\n",
    "    while n!=0 :\n",
    "        s = s + n%10\n",
    "        n = n//10\n",
    "    return s\n",
    "    "
   ]
  },
  {
   "cell_type": "code",
   "execution_count": 156,
   "id": "020862ff",
   "metadata": {},
   "outputs": [
    {
     "data": {
      "text/plain": [
       "0"
      ]
     },
     "execution_count": 156,
     "metadata": {},
     "output_type": "execute_result"
    }
   ],
   "source": [
    "sumDigits(0)"
   ]
  },
  {
   "cell_type": "code",
   "execution_count": 160,
   "id": "8da78fe1",
   "metadata": {},
   "outputs": [
    {
     "data": {
      "text/plain": [
       "[8, 4, 9, 8]"
      ]
     },
     "execution_count": 160,
     "metadata": {},
     "output_type": "execute_result"
    }
   ],
   "source": [
    "list(map(sumDigits, [125,202,333,44]))"
   ]
  },
  {
   "cell_type": "code",
   "execution_count": 162,
   "id": "c573aca4",
   "metadata": {},
   "outputs": [
    {
     "data": {
      "text/plain": [
       "[2, 4]"
      ]
     },
     "execution_count": 162,
     "metadata": {},
     "output_type": "execute_result"
    }
   ],
   "source": [
    "list(filter(lambda x: x%2 == 0,  [1,2,3,4,5]))"
   ]
  },
  {
   "cell_type": "code",
   "execution_count": 163,
   "id": "202d4981",
   "metadata": {},
   "outputs": [
    {
     "data": {
      "text/plain": [
       "[1, 3, 5]"
      ]
     },
     "execution_count": 163,
     "metadata": {},
     "output_type": "execute_result"
    }
   ],
   "source": [
    "list(filter(lambda x: x%2 != 0,  [1,2,3,4,5]))"
   ]
  },
  {
   "cell_type": "code",
   "execution_count": 164,
   "id": "28cda259",
   "metadata": {},
   "outputs": [
    {
     "data": {
      "text/plain": [
       "[True, False, True, False, True]"
      ]
     },
     "execution_count": 164,
     "metadata": {},
     "output_type": "execute_result"
    }
   ],
   "source": [
    "list(map(lambda x: x%2 != 0,  [1,2,3,4,5]))"
   ]
  },
  {
   "cell_type": "code",
   "execution_count": 165,
   "id": "a0c40290",
   "metadata": {},
   "outputs": [
    {
     "data": {
      "text/plain": [
       "[False, True, False, True, False]"
      ]
     },
     "execution_count": 165,
     "metadata": {},
     "output_type": "execute_result"
    }
   ],
   "source": [
    "list(map(lambda x: x%2 == 0,  [1,2,3,4,5]))"
   ]
  },
  {
   "cell_type": "code",
   "execution_count": 166,
   "id": "6816f366",
   "metadata": {},
   "outputs": [],
   "source": [
    "from functools import reduce"
   ]
  },
  {
   "cell_type": "code",
   "execution_count": 167,
   "id": "4bd536f1",
   "metadata": {},
   "outputs": [
    {
     "data": {
      "text/plain": [
       "15"
      ]
     },
     "execution_count": 167,
     "metadata": {},
     "output_type": "execute_result"
    }
   ],
   "source": [
    "reduce(lambda x, y : x+y, [1,2,3,4,5])   # ((((1+2)+3)+4)+5)"
   ]
  },
  {
   "cell_type": "code",
   "execution_count": 169,
   "id": "3a4dab4a",
   "metadata": {},
   "outputs": [
    {
     "data": {
      "text/plain": [
       "115"
      ]
     },
     "execution_count": 169,
     "metadata": {},
     "output_type": "execute_result"
    }
   ],
   "source": [
    "reduce(lambda x, y : x+y, [1,2,3,4,5], 100)"
   ]
  },
  {
   "cell_type": "code",
   "execution_count": 170,
   "id": "15a545d3",
   "metadata": {},
   "outputs": [
    {
     "data": {
      "text/plain": [
       "24"
      ]
     },
     "execution_count": 170,
     "metadata": {},
     "output_type": "execute_result"
    }
   ],
   "source": [
    "reduce(lambda x, y : x*y, [1,2,3,4])   # (((1*2)*3)*4)"
   ]
  },
  {
   "cell_type": "code",
   "execution_count": 171,
   "id": "4d4309cb",
   "metadata": {},
   "outputs": [
    {
     "data": {
      "text/plain": [
       "-8"
      ]
     },
     "execution_count": 171,
     "metadata": {},
     "output_type": "execute_result"
    }
   ],
   "source": [
    "reduce(lambda x, y : x-y, [1,2,3,4]) "
   ]
  },
  {
   "cell_type": "code",
   "execution_count": 172,
   "id": "0a87a5e5",
   "metadata": {},
   "outputs": [
    {
     "data": {
      "text/plain": [
       "0.041666666666666664"
      ]
     },
     "execution_count": 172,
     "metadata": {},
     "output_type": "execute_result"
    }
   ],
   "source": [
    "reduce(lambda x, y : x/y, [1,2,3,4]) "
   ]
  },
  {
   "cell_type": "code",
   "execution_count": 175,
   "id": "b753d981",
   "metadata": {},
   "outputs": [
    {
     "data": {
      "text/plain": [
       "501500"
      ]
     },
     "execution_count": 175,
     "metadata": {},
     "output_type": "execute_result"
    }
   ],
   "source": [
    "sum(list(map(lambda x : x+1, range(1,1001))))"
   ]
  },
  {
   "cell_type": "code",
   "execution_count": 177,
   "id": "83767f15",
   "metadata": {},
   "outputs": [
    {
     "data": {
      "text/plain": [
       "2550"
      ]
     },
     "execution_count": 177,
     "metadata": {},
     "output_type": "execute_result"
    }
   ],
   "source": [
    "sum(list(filter(lambda x : x%2==0, range(1,101))))"
   ]
  },
  {
   "cell_type": "code",
   "execution_count": 178,
   "id": "8c2fcae6",
   "metadata": {},
   "outputs": [
    {
     "data": {
      "text/plain": [
       "5050"
      ]
     },
     "execution_count": 178,
     "metadata": {},
     "output_type": "execute_result"
    }
   ],
   "source": [
    "reduce(lambda x, y : x+y, range(1,101))"
   ]
  },
  {
   "cell_type": "code",
   "execution_count": null,
   "id": "897d0abd",
   "metadata": {},
   "outputs": [],
   "source": []
  },
  {
   "cell_type": "code",
   "execution_count": null,
   "id": "7293563b",
   "metadata": {},
   "outputs": [],
   "source": []
  },
  {
   "cell_type": "code",
   "execution_count": null,
   "id": "3ddc70d5",
   "metadata": {},
   "outputs": [],
   "source": []
  },
  {
   "cell_type": "code",
   "execution_count": null,
   "id": "da184ca7",
   "metadata": {},
   "outputs": [],
   "source": []
  },
  {
   "cell_type": "code",
   "execution_count": null,
   "id": "607cba02",
   "metadata": {},
   "outputs": [],
   "source": []
  },
  {
   "cell_type": "code",
   "execution_count": null,
   "id": "aee79b54",
   "metadata": {},
   "outputs": [],
   "source": []
  },
  {
   "cell_type": "code",
   "execution_count": null,
   "id": "1e15fd95",
   "metadata": {},
   "outputs": [],
   "source": []
  },
  {
   "cell_type": "code",
   "execution_count": null,
   "id": "f5d2eebd",
   "metadata": {},
   "outputs": [],
   "source": []
  },
  {
   "cell_type": "code",
   "execution_count": null,
   "id": "4d86118b",
   "metadata": {},
   "outputs": [],
   "source": []
  },
  {
   "cell_type": "code",
   "execution_count": null,
   "id": "fb4f1f18",
   "metadata": {},
   "outputs": [],
   "source": []
  },
  {
   "cell_type": "code",
   "execution_count": null,
   "id": "3cd96da9",
   "metadata": {},
   "outputs": [],
   "source": []
  },
  {
   "cell_type": "code",
   "execution_count": null,
   "id": "9af2e1a6",
   "metadata": {},
   "outputs": [],
   "source": []
  },
  {
   "cell_type": "code",
   "execution_count": null,
   "id": "9ef3c8fa",
   "metadata": {},
   "outputs": [],
   "source": []
  },
  {
   "cell_type": "code",
   "execution_count": null,
   "id": "fec155a2",
   "metadata": {},
   "outputs": [],
   "source": []
  },
  {
   "cell_type": "code",
   "execution_count": null,
   "id": "fc066b0b",
   "metadata": {},
   "outputs": [],
   "source": []
  },
  {
   "cell_type": "code",
   "execution_count": null,
   "id": "10fbd81d",
   "metadata": {},
   "outputs": [],
   "source": []
  },
  {
   "cell_type": "code",
   "execution_count": null,
   "id": "047902aa",
   "metadata": {},
   "outputs": [],
   "source": []
  },
  {
   "cell_type": "code",
   "execution_count": null,
   "id": "6282359a",
   "metadata": {},
   "outputs": [],
   "source": []
  },
  {
   "cell_type": "code",
   "execution_count": null,
   "id": "2e7d567b",
   "metadata": {},
   "outputs": [],
   "source": []
  },
  {
   "cell_type": "code",
   "execution_count": null,
   "id": "ba25e8f7",
   "metadata": {},
   "outputs": [],
   "source": []
  },
  {
   "cell_type": "code",
   "execution_count": null,
   "id": "37bc8ee0",
   "metadata": {},
   "outputs": [],
   "source": []
  },
  {
   "cell_type": "code",
   "execution_count": null,
   "id": "246631a8",
   "metadata": {},
   "outputs": [],
   "source": []
  },
  {
   "cell_type": "code",
   "execution_count": null,
   "id": "e799ba2c",
   "metadata": {},
   "outputs": [],
   "source": []
  },
  {
   "cell_type": "code",
   "execution_count": null,
   "id": "1b7a88d8",
   "metadata": {},
   "outputs": [],
   "source": []
  },
  {
   "cell_type": "code",
   "execution_count": null,
   "id": "b694849c",
   "metadata": {},
   "outputs": [],
   "source": []
  },
  {
   "cell_type": "code",
   "execution_count": null,
   "id": "fbf43e7c",
   "metadata": {},
   "outputs": [],
   "source": []
  },
  {
   "cell_type": "code",
   "execution_count": null,
   "id": "5eace4ab",
   "metadata": {},
   "outputs": [],
   "source": []
  },
  {
   "cell_type": "code",
   "execution_count": null,
   "id": "c8b20f4b",
   "metadata": {},
   "outputs": [],
   "source": []
  },
  {
   "cell_type": "code",
   "execution_count": null,
   "id": "704e9ba2",
   "metadata": {},
   "outputs": [],
   "source": []
  },
  {
   "cell_type": "code",
   "execution_count": null,
   "id": "96627b19",
   "metadata": {},
   "outputs": [],
   "source": []
  },
  {
   "cell_type": "code",
   "execution_count": null,
   "id": "dbb2218b",
   "metadata": {},
   "outputs": [],
   "source": []
  },
  {
   "cell_type": "code",
   "execution_count": null,
   "id": "9122b8d1",
   "metadata": {},
   "outputs": [],
   "source": []
  },
  {
   "cell_type": "code",
   "execution_count": null,
   "id": "e91e0dab",
   "metadata": {},
   "outputs": [],
   "source": []
  },
  {
   "cell_type": "code",
   "execution_count": null,
   "id": "8480de32",
   "metadata": {},
   "outputs": [],
   "source": [
    "def isPrime(n) :\n",
    "    if n == 1 :\n",
    "        print('enter an interger that is more than 1')\n",
    "    else :\n",
    "        limit = int(m.sqrt(n))+1\n",
    "        prime = True\n",
    "        for divisor in range(2, limit) :\n",
    "            if n%divisor == 0 :\n",
    "                prime = False\n",
    "                break\n",
    "        return prime\n"
   ]
  },
  {
   "cell_type": "code",
   "execution_count": null,
   "id": "a6040d53",
   "metadata": {},
   "outputs": [],
   "source": [
    "def countDigits(n) :\n",
    "    s = 0\n",
    "    while n!= 0 :            \n",
    "        s = s+(n%10)         \n",
    "        n = n//10            \n",
    "    return s"
   ]
  },
  {
   "cell_type": "code",
   "execution_count": null,
   "id": "2fa7b5d5",
   "metadata": {},
   "outputs": [],
   "source": [
    "def average(inList) :\n",
    "    return sum(inList)/len(inList)"
   ]
  },
  {
   "cell_type": "code",
   "execution_count": null,
   "id": "b632698b",
   "metadata": {},
   "outputs": [],
   "source": [
    "They can take any number of arguments; however they can contain only one statement and be written on a single line."
   ]
  }
 ],
 "metadata": {
  "kernelspec": {
   "display_name": "Python 3 (ipykernel)",
   "language": "python",
   "name": "python3"
  },
  "language_info": {
   "codemirror_mode": {
    "name": "ipython",
    "version": 3
   },
   "file_extension": ".py",
   "mimetype": "text/x-python",
   "name": "python",
   "nbconvert_exporter": "python",
   "pygments_lexer": "ipython3",
   "version": "3.10.2"
  }
 },
 "nbformat": 4,
 "nbformat_minor": 5
}
