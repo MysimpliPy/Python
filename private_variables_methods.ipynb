{
 "cells": [
  {
   "cell_type": "markdown",
   "id": "ae28b893",
   "metadata": {},
   "source": [
    "<font size='4' color='blue'>\n",
    "OOP - private variables and methods \n",
    "</font>"
   ]
  },
  {
   "cell_type": "code",
   "execution_count": 132,
   "id": "6938d748",
   "metadata": {},
   "outputs": [],
   "source": [
    "class A :\n",
    "    \n",
    "    def method1(self) :\n",
    "        \n",
    "        self.x = 1\n",
    "        self.__y = 2\n",
    "        \n",
    "        print(self.x)\n",
    "        print(self.__y)  # __y is a private variable\n",
    "        \n",
    "    def method2(self) :\n",
    "        \n",
    "        print(self.x)\n",
    "        print(self.__y)\n",
    "        \n",
    "        \n",
    "class B(A) :\n",
    "    \n",
    "    \n",
    "    '''\n",
    "    def method1(self) :\n",
    "        \n",
    "        self.x = 1\n",
    "        self.__y = 2\n",
    "        \n",
    "        print(self.x)\n",
    "        print(self.__y)  # __y is a private variable\n",
    "        \n",
    "    def method2(self) :\n",
    "        \n",
    "        print(self.x)\n",
    "        print(self.__y)\n",
    "        \n",
    "    '''\n",
    "    \n",
    "    def method3(self) :\n",
    "        print(self.x)\n",
    "        #print(self.__y)\n",
    "        print(self._A__y)\n",
    "        \n",
    "        \n",
    "    "
   ]
  },
  {
   "cell_type": "code",
   "execution_count": 116,
   "id": "d6b78106",
   "metadata": {},
   "outputs": [],
   "source": [
    "obj = A()"
   ]
  },
  {
   "cell_type": "code",
   "execution_count": 117,
   "id": "b0d0dbb9",
   "metadata": {},
   "outputs": [
    {
     "name": "stdout",
     "output_type": "stream",
     "text": [
      "1\n",
      "2\n"
     ]
    }
   ],
   "source": [
    "obj.method1()"
   ]
  },
  {
   "cell_type": "code",
   "execution_count": 118,
   "id": "49cb449b",
   "metadata": {},
   "outputs": [
    {
     "name": "stdout",
     "output_type": "stream",
     "text": [
      "1\n",
      "2\n"
     ]
    }
   ],
   "source": [
    "obj.method2()"
   ]
  },
  {
   "cell_type": "code",
   "execution_count": 119,
   "id": "8aae615b",
   "metadata": {},
   "outputs": [
    {
     "ename": "AttributeError",
     "evalue": "'A' object has no attribute '__y'",
     "output_type": "error",
     "traceback": [
      "\u001b[1;31m---------------------------------------------------------------------------\u001b[0m",
      "\u001b[1;31mAttributeError\u001b[0m                            Traceback (most recent call last)",
      "Input \u001b[1;32mIn [119]\u001b[0m, in \u001b[0;36m<cell line: 1>\u001b[1;34m()\u001b[0m\n\u001b[1;32m----> 1\u001b[0m \u001b[43mobj\u001b[49m\u001b[38;5;241;43m.\u001b[39;49m\u001b[43m__y\u001b[49m\n",
      "\u001b[1;31mAttributeError\u001b[0m: 'A' object has no attribute '__y'"
     ]
    }
   ],
   "source": [
    "obj.__y"
   ]
  },
  {
   "cell_type": "code",
   "execution_count": 120,
   "id": "5159ecdb",
   "metadata": {},
   "outputs": [
    {
     "data": {
      "text/plain": [
       "1"
      ]
     },
     "execution_count": 120,
     "metadata": {},
     "output_type": "execute_result"
    }
   ],
   "source": [
    "obj.x"
   ]
  },
  {
   "cell_type": "code",
   "execution_count": 121,
   "id": "9a8b68ea",
   "metadata": {},
   "outputs": [
    {
     "data": {
      "text/plain": [
       "{'x': 1, '_A__y': 2}"
      ]
     },
     "execution_count": 121,
     "metadata": {},
     "output_type": "execute_result"
    }
   ],
   "source": [
    "obj.__dict__"
   ]
  },
  {
   "cell_type": "code",
   "execution_count": 124,
   "id": "1a73aaae",
   "metadata": {},
   "outputs": [
    {
     "data": {
      "text/plain": [
       "2"
      ]
     },
     "execution_count": 124,
     "metadata": {},
     "output_type": "execute_result"
    }
   ],
   "source": [
    "obj.__dict__['_A__y']"
   ]
  },
  {
   "cell_type": "code",
   "execution_count": 125,
   "id": "512034e9",
   "metadata": {},
   "outputs": [
    {
     "data": {
      "text/plain": [
       "2"
      ]
     },
     "execution_count": 125,
     "metadata": {},
     "output_type": "execute_result"
    }
   ],
   "source": [
    "obj._A__y"
   ]
  },
  {
   "cell_type": "code",
   "execution_count": 126,
   "id": "e9ab5228",
   "metadata": {},
   "outputs": [
    {
     "ename": "AttributeError",
     "evalue": "'A' object has no attribute '__y'",
     "output_type": "error",
     "traceback": [
      "\u001b[1;31m---------------------------------------------------------------------------\u001b[0m",
      "\u001b[1;31mAttributeError\u001b[0m                            Traceback (most recent call last)",
      "Input \u001b[1;32mIn [126]\u001b[0m, in \u001b[0;36m<cell line: 1>\u001b[1;34m()\u001b[0m\n\u001b[1;32m----> 1\u001b[0m \u001b[43mobj\u001b[49m\u001b[38;5;241;43m.\u001b[39;49m\u001b[43m__y\u001b[49m\n",
      "\u001b[1;31mAttributeError\u001b[0m: 'A' object has no attribute '__y'"
     ]
    }
   ],
   "source": [
    "obj.__y"
   ]
  },
  {
   "cell_type": "code",
   "execution_count": 133,
   "id": "03c60383",
   "metadata": {},
   "outputs": [],
   "source": [
    "obj1 = B()"
   ]
  },
  {
   "cell_type": "code",
   "execution_count": 134,
   "id": "0bc5cc43",
   "metadata": {},
   "outputs": [
    {
     "name": "stdout",
     "output_type": "stream",
     "text": [
      "1\n",
      "2\n"
     ]
    }
   ],
   "source": [
    "obj1.method1()"
   ]
  },
  {
   "cell_type": "code",
   "execution_count": 135,
   "id": "e8677bdb",
   "metadata": {},
   "outputs": [
    {
     "name": "stdout",
     "output_type": "stream",
     "text": [
      "1\n",
      "2\n"
     ]
    }
   ],
   "source": [
    "obj1.method2()"
   ]
  },
  {
   "cell_type": "code",
   "execution_count": 136,
   "id": "662bcd32",
   "metadata": {},
   "outputs": [
    {
     "name": "stdout",
     "output_type": "stream",
     "text": [
      "1\n",
      "2\n"
     ]
    }
   ],
   "source": [
    "obj1.method3()"
   ]
  },
  {
   "cell_type": "code",
   "execution_count": 158,
   "id": "a0f9550c",
   "metadata": {},
   "outputs": [],
   "source": [
    "class ABC :\n",
    "    \n",
    "    def m1(self) :\n",
    "        print(\"I am public method 'm1'\")\n",
    "        \n",
    "    def __m2(self) :\n",
    "        print(\"I am private method 'm2'\")\n",
    "        \n",
    "        \n",
    "class XYZ(ABC) :\n",
    "    \n",
    "    '''\n",
    "    def m1(self) :\n",
    "        print(\"I am public method 'm1'\")\n",
    "        \n",
    "    def __m2(self) :\n",
    "        print(\"I am private method 'm2'\")\n",
    "    '''\n",
    "    \n",
    "    def m3(self) :\n",
    "        self.m1()\n",
    "        #self.__m2()\n",
    "        self._ABC__m2()\n",
    "    "
   ]
  },
  {
   "cell_type": "code",
   "execution_count": 140,
   "id": "a589708c",
   "metadata": {},
   "outputs": [],
   "source": [
    "o1 = ABC()"
   ]
  },
  {
   "cell_type": "code",
   "execution_count": 141,
   "id": "af66895b",
   "metadata": {},
   "outputs": [
    {
     "name": "stdout",
     "output_type": "stream",
     "text": [
      "I am public method 'm1'\n"
     ]
    }
   ],
   "source": [
    "o1.m1()"
   ]
  },
  {
   "cell_type": "code",
   "execution_count": 142,
   "id": "f287ee43",
   "metadata": {},
   "outputs": [
    {
     "ename": "AttributeError",
     "evalue": "'ABC' object has no attribute '__m2'",
     "output_type": "error",
     "traceback": [
      "\u001b[1;31m---------------------------------------------------------------------------\u001b[0m",
      "\u001b[1;31mAttributeError\u001b[0m                            Traceback (most recent call last)",
      "Input \u001b[1;32mIn [142]\u001b[0m, in \u001b[0;36m<cell line: 1>\u001b[1;34m()\u001b[0m\n\u001b[1;32m----> 1\u001b[0m \u001b[43mo1\u001b[49m\u001b[38;5;241;43m.\u001b[39;49m\u001b[43m__m2\u001b[49m()\n",
      "\u001b[1;31mAttributeError\u001b[0m: 'ABC' object has no attribute '__m2'"
     ]
    }
   ],
   "source": [
    "o1.__m2()"
   ]
  },
  {
   "cell_type": "code",
   "execution_count": 143,
   "id": "17bb6a28",
   "metadata": {},
   "outputs": [
    {
     "data": {
      "text/plain": [
       "{}"
      ]
     },
     "execution_count": 143,
     "metadata": {},
     "output_type": "execute_result"
    }
   ],
   "source": [
    "o1.__dict__"
   ]
  },
  {
   "cell_type": "code",
   "execution_count": 145,
   "id": "df85b236",
   "metadata": {},
   "outputs": [
    {
     "name": "stdout",
     "output_type": "stream",
     "text": [
      "I am private method 'm2'\n"
     ]
    }
   ],
   "source": [
    "o1._ABC__m2()"
   ]
  },
  {
   "cell_type": "code",
   "execution_count": 144,
   "id": "b5b67344",
   "metadata": {},
   "outputs": [
    {
     "data": {
      "text/plain": [
       "['_ABC__m2',\n",
       " '__class__',\n",
       " '__delattr__',\n",
       " '__dict__',\n",
       " '__dir__',\n",
       " '__doc__',\n",
       " '__eq__',\n",
       " '__format__',\n",
       " '__ge__',\n",
       " '__getattribute__',\n",
       " '__gt__',\n",
       " '__hash__',\n",
       " '__init__',\n",
       " '__init_subclass__',\n",
       " '__le__',\n",
       " '__lt__',\n",
       " '__module__',\n",
       " '__ne__',\n",
       " '__new__',\n",
       " '__reduce__',\n",
       " '__reduce_ex__',\n",
       " '__repr__',\n",
       " '__setattr__',\n",
       " '__sizeof__',\n",
       " '__str__',\n",
       " '__subclasshook__',\n",
       " '__weakref__',\n",
       " 'm1']"
      ]
     },
     "execution_count": 144,
     "metadata": {},
     "output_type": "execute_result"
    }
   ],
   "source": [
    "dir(o1)"
   ]
  },
  {
   "cell_type": "code",
   "execution_count": 159,
   "id": "9461836f",
   "metadata": {},
   "outputs": [],
   "source": [
    "o2 = XYZ()"
   ]
  },
  {
   "cell_type": "code",
   "execution_count": 160,
   "id": "d7f7bb0d",
   "metadata": {},
   "outputs": [
    {
     "name": "stdout",
     "output_type": "stream",
     "text": [
      "I am public method 'm1'\n"
     ]
    }
   ],
   "source": [
    "o2.m1()"
   ]
  },
  {
   "cell_type": "code",
   "execution_count": 161,
   "id": "a5fcaae4",
   "metadata": {},
   "outputs": [
    {
     "ename": "AttributeError",
     "evalue": "'XYZ' object has no attribute '__m2'",
     "output_type": "error",
     "traceback": [
      "\u001b[1;31m---------------------------------------------------------------------------\u001b[0m",
      "\u001b[1;31mAttributeError\u001b[0m                            Traceback (most recent call last)",
      "Input \u001b[1;32mIn [161]\u001b[0m, in \u001b[0;36m<cell line: 1>\u001b[1;34m()\u001b[0m\n\u001b[1;32m----> 1\u001b[0m \u001b[43mo2\u001b[49m\u001b[38;5;241;43m.\u001b[39;49m\u001b[43m__m2\u001b[49m()\n",
      "\u001b[1;31mAttributeError\u001b[0m: 'XYZ' object has no attribute '__m2'"
     ]
    }
   ],
   "source": [
    "o2.__m2()"
   ]
  },
  {
   "cell_type": "code",
   "execution_count": 162,
   "id": "477837a5",
   "metadata": {},
   "outputs": [
    {
     "name": "stdout",
     "output_type": "stream",
     "text": [
      "I am public method 'm1'\n",
      "I am private method 'm2'\n"
     ]
    }
   ],
   "source": [
    "o2.m3()"
   ]
  },
  {
   "cell_type": "code",
   "execution_count": null,
   "id": "3b2aee23",
   "metadata": {},
   "outputs": [],
   "source": []
  }
 ],
 "metadata": {
  "kernelspec": {
   "display_name": "Python 3 (ipykernel)",
   "language": "python",
   "name": "python3"
  },
  "language_info": {
   "codemirror_mode": {
    "name": "ipython",
    "version": 3
   },
   "file_extension": ".py",
   "mimetype": "text/x-python",
   "name": "python",
   "nbconvert_exporter": "python",
   "pygments_lexer": "ipython3",
   "version": "3.10.2"
  }
 },
 "nbformat": 4,
 "nbformat_minor": 5
}
