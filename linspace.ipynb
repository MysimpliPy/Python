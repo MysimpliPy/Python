{
 "cells": [
  {
   "cell_type": "markdown",
   "id": "e730d959",
   "metadata": {},
   "source": [
    "<font size='4' color='blue'>\n",
    "<b>Numpy - linspace</b>\n",
    "<br>\n",
    "<font size='2' color='red'>\n",
    "linspace is an in-built function in Python's NumPy library. It is used to create an evenly spaced sequence in a specified interval.\n",
    "</font>\n",
    "</font>"
   ]
  },
  {
   "cell_type": "code",
   "execution_count": 174,
   "id": "f81eb810",
   "metadata": {},
   "outputs": [],
   "source": [
    "import numpy as np\n",
    "import matplotlib.pyplot as plt\n",
    "from math import sqrt"
   ]
  },
  {
   "cell_type": "code",
   "execution_count": 185,
   "id": "9e46723e",
   "metadata": {},
   "outputs": [
    {
     "data": {
      "text/plain": [
       "array([ 1.        ,  1.18367347,  1.36734694,  1.55102041,  1.73469388,\n",
       "        1.91836735,  2.10204082,  2.28571429,  2.46938776,  2.65306122,\n",
       "        2.83673469,  3.02040816,  3.20408163,  3.3877551 ,  3.57142857,\n",
       "        3.75510204,  3.93877551,  4.12244898,  4.30612245,  4.48979592,\n",
       "        4.67346939,  4.85714286,  5.04081633,  5.2244898 ,  5.40816327,\n",
       "        5.59183673,  5.7755102 ,  5.95918367,  6.14285714,  6.32653061,\n",
       "        6.51020408,  6.69387755,  6.87755102,  7.06122449,  7.24489796,\n",
       "        7.42857143,  7.6122449 ,  7.79591837,  7.97959184,  8.16326531,\n",
       "        8.34693878,  8.53061224,  8.71428571,  8.89795918,  9.08163265,\n",
       "        9.26530612,  9.44897959,  9.63265306,  9.81632653, 10.        ])"
      ]
     },
     "execution_count": 185,
     "metadata": {},
     "output_type": "execute_result"
    }
   ],
   "source": [
    "np.linspace(start, stop)"
   ]
  },
  {
   "cell_type": "code",
   "execution_count": 187,
   "id": "a9d89ee5",
   "metadata": {},
   "outputs": [
    {
     "data": {
      "text/plain": [
       "array([ 1.,  2.,  3.,  4.,  5.,  6.,  7.,  8.,  9., 10.])"
      ]
     },
     "execution_count": 187,
     "metadata": {},
     "output_type": "execute_result"
    }
   ],
   "source": [
    "start = 1\n",
    "stop = 10\n",
    "\n",
    "np.linspace(start,stop, 10, endpoint=True)"
   ]
  },
  {
   "cell_type": "code",
   "execution_count": 188,
   "id": "7a2a4f9f",
   "metadata": {},
   "outputs": [
    {
     "data": {
      "text/plain": [
       "array([1. , 1.9, 2.8, 3.7, 4.6, 5.5, 6.4, 7.3, 8.2, 9.1])"
      ]
     },
     "execution_count": 188,
     "metadata": {},
     "output_type": "execute_result"
    }
   ],
   "source": [
    "np.linspace(start,stop, 10, endpoint=False)"
   ]
  },
  {
   "cell_type": "code",
   "execution_count": 189,
   "id": "e637db8a",
   "metadata": {},
   "outputs": [
    {
     "data": {
      "text/plain": [
       "1.0"
      ]
     },
     "execution_count": 189,
     "metadata": {},
     "output_type": "execute_result"
    }
   ],
   "source": [
    "(stop-start)/(10-1)"
   ]
  },
  {
   "cell_type": "code",
   "execution_count": 190,
   "id": "f9881c12",
   "metadata": {},
   "outputs": [
    {
     "data": {
      "text/plain": [
       "0.9"
      ]
     },
     "execution_count": 190,
     "metadata": {},
     "output_type": "execute_result"
    }
   ],
   "source": [
    "(stop-start)/10"
   ]
  },
  {
   "cell_type": "code",
   "execution_count": 193,
   "id": "de01a4a6",
   "metadata": {},
   "outputs": [
    {
     "data": {
      "text/plain": [
       "array([ 1.        ,  1.47368421,  1.94736842,  2.42105263,  2.89473684,\n",
       "        3.36842105,  3.84210526,  4.31578947,  4.78947368,  5.26315789,\n",
       "        5.73684211,  6.21052632,  6.68421053,  7.15789474,  7.63157895,\n",
       "        8.10526316,  8.57894737,  9.05263158,  9.52631579, 10.        ])"
      ]
     },
     "execution_count": 193,
     "metadata": {},
     "output_type": "execute_result"
    }
   ],
   "source": [
    "start = 1\n",
    "stop = 10\n",
    "n = 20\n",
    "ep=True\n",
    "np.linspace(1,10,n, ep)"
   ]
  },
  {
   "cell_type": "code",
   "execution_count": 192,
   "id": "a4c82740",
   "metadata": {},
   "outputs": [
    {
     "data": {
      "text/plain": [
       "0.47368421052631576"
      ]
     },
     "execution_count": 192,
     "metadata": {},
     "output_type": "execute_result"
    }
   ],
   "source": [
    "(stop-start)/(n-1)"
   ]
  },
  {
   "cell_type": "code",
   "execution_count": 196,
   "id": "91c0e821",
   "metadata": {},
   "outputs": [
    {
     "data": {
      "text/plain": [
       "array([1.  , 1.45, 1.9 , 2.35, 2.8 , 3.25, 3.7 , 4.15, 4.6 , 5.05, 5.5 ,\n",
       "       5.95, 6.4 , 6.85, 7.3 , 7.75, 8.2 , 8.65, 9.1 , 9.55])"
      ]
     },
     "execution_count": 196,
     "metadata": {},
     "output_type": "execute_result"
    }
   ],
   "source": [
    "start = 1\n",
    "stop = 10\n",
    "n = 20\n",
    "ep=False\n",
    "np.linspace(1,10,n, ep)"
   ]
  },
  {
   "cell_type": "code",
   "execution_count": 195,
   "id": "500524b8",
   "metadata": {},
   "outputs": [
    {
     "data": {
      "text/plain": [
       "0.45"
      ]
     },
     "execution_count": 195,
     "metadata": {},
     "output_type": "execute_result"
    }
   ],
   "source": [
    "(stop-start)/(n)"
   ]
  },
  {
   "cell_type": "code",
   "execution_count": 197,
   "id": "20dedab3",
   "metadata": {},
   "outputs": [],
   "source": [
    "start=10\n",
    "stop = 100\n",
    "n = 50\n",
    "ep = True"
   ]
  },
  {
   "cell_type": "code",
   "execution_count": 198,
   "id": "4b761eb4",
   "metadata": {},
   "outputs": [
    {
     "data": {
      "text/plain": [
       "1.836734693877551"
      ]
     },
     "execution_count": 198,
     "metadata": {},
     "output_type": "execute_result"
    }
   ],
   "source": [
    "(stop-start)/(n-1)"
   ]
  },
  {
   "cell_type": "code",
   "execution_count": 199,
   "id": "ff8ebd07",
   "metadata": {},
   "outputs": [
    {
     "data": {
      "text/plain": [
       "array([ 10.        ,  11.83673469,  13.67346939,  15.51020408,\n",
       "        17.34693878,  19.18367347,  21.02040816,  22.85714286,\n",
       "        24.69387755,  26.53061224,  28.36734694,  30.20408163,\n",
       "        32.04081633,  33.87755102,  35.71428571,  37.55102041,\n",
       "        39.3877551 ,  41.2244898 ,  43.06122449,  44.89795918,\n",
       "        46.73469388,  48.57142857,  50.40816327,  52.24489796,\n",
       "        54.08163265,  55.91836735,  57.75510204,  59.59183673,\n",
       "        61.42857143,  63.26530612,  65.10204082,  66.93877551,\n",
       "        68.7755102 ,  70.6122449 ,  72.44897959,  74.28571429,\n",
       "        76.12244898,  77.95918367,  79.79591837,  81.63265306,\n",
       "        83.46938776,  85.30612245,  87.14285714,  88.97959184,\n",
       "        90.81632653,  92.65306122,  94.48979592,  96.32653061,\n",
       "        98.16326531, 100.        ])"
      ]
     },
     "execution_count": 199,
     "metadata": {},
     "output_type": "execute_result"
    }
   ],
   "source": [
    "np.linspace(start, stop, n, ep)"
   ]
  },
  {
   "cell_type": "code",
   "execution_count": 200,
   "id": "fa5d2d20",
   "metadata": {},
   "outputs": [],
   "source": [
    "start=10\n",
    "stop = 100\n",
    "n = 50\n",
    "ep = False"
   ]
  },
  {
   "cell_type": "code",
   "execution_count": 201,
   "id": "d3332575",
   "metadata": {},
   "outputs": [
    {
     "data": {
      "text/plain": [
       "1.8"
      ]
     },
     "execution_count": 201,
     "metadata": {},
     "output_type": "execute_result"
    }
   ],
   "source": [
    "(stop-start)/(n)"
   ]
  },
  {
   "cell_type": "code",
   "execution_count": 204,
   "id": "85577f73",
   "metadata": {},
   "outputs": [
    {
     "data": {
      "text/plain": [
       "(array([10. , 11.8, 13.6, 15.4, 17.2, 19. , 20.8, 22.6, 24.4, 26.2, 28. ,\n",
       "        29.8, 31.6, 33.4, 35.2, 37. , 38.8, 40.6, 42.4, 44.2, 46. , 47.8,\n",
       "        49.6, 51.4, 53.2, 55. , 56.8, 58.6, 60.4, 62.2, 64. , 65.8, 67.6,\n",
       "        69.4, 71.2, 73. , 74.8, 76.6, 78.4, 80.2, 82. , 83.8, 85.6, 87.4,\n",
       "        89.2, 91. , 92.8, 94.6, 96.4, 98.2]),\n",
       " 1.8)"
      ]
     },
     "execution_count": 204,
     "metadata": {},
     "output_type": "execute_result"
    }
   ],
   "source": [
    "np.linspace(start, stop, n, ep, retstep=True)"
   ]
  },
  {
   "cell_type": "code",
   "execution_count": 205,
   "id": "e42b20c6",
   "metadata": {},
   "outputs": [
    {
     "data": {
      "text/plain": [
       "(array([10, 11, 13, 15, 17, 19, 20, 22, 24, 26, 28, 29, 31, 33, 35, 37, 38,\n",
       "        40, 42, 44, 46, 47, 49, 51, 53, 55, 56, 58, 60, 62, 64, 65, 67, 69,\n",
       "        71, 73, 74, 76, 78, 80, 82, 83, 85, 87, 89, 91, 92, 94, 96, 98]),\n",
       " 1.8)"
      ]
     },
     "execution_count": 205,
     "metadata": {},
     "output_type": "execute_result"
    }
   ],
   "source": [
    "np.linspace(start, stop, n, ep, retstep=True, dtype='int')"
   ]
  },
  {
   "cell_type": "code",
   "execution_count": null,
   "id": "4514f74b",
   "metadata": {},
   "outputs": [],
   "source": [
    "start = starting value\n",
    "stop  = last value\n",
    "num   = the number of numbers to be generated\n",
    "endpoint = whether we want the stop number to be the last number or not\n",
    "retstep = it is going to return the step value\n",
    "dtype = int/float"
   ]
  },
  {
   "cell_type": "code",
   "execution_count": 206,
   "id": "1b1831aa",
   "metadata": {},
   "outputs": [],
   "source": [
    "# formula for normal distribution"
   ]
  },
  {
   "attachments": {
    "normal_distribution.jpeg": {
     "image/jpeg": "[encoded data removed]"
    }
   },
   "cell_type": "markdown",
   "id": "631a851c",
   "metadata": {},
   "source": [
    "![normal_distribution.jpeg](attachment:normal_distribution.jpeg)"
   ]
  },
  {
   "cell_type": "code",
   "execution_count": 207,
   "id": "6a618770",
   "metadata": {},
   "outputs": [],
   "source": [
    "def snd(x) :\n",
    "    pi   = np.pi\n",
    "    e    = np.e \n",
    "    return (1/(sqrt(2*pi))) * (e**-(1/2*(x**2)))"
   ]
  },
  {
   "cell_type": "code",
   "execution_count": 214,
   "id": "402b5508",
   "metadata": {},
   "outputs": [
    {
     "data": {
      "text/plain": [
       "array([-3.        , -2.87755102, -2.75510204, -2.63265306, -2.51020408,\n",
       "       -2.3877551 , -2.26530612, -2.14285714, -2.02040816, -1.89795918,\n",
       "       -1.7755102 , -1.65306122, -1.53061224, -1.40816327, -1.28571429,\n",
       "       -1.16326531, -1.04081633, -0.91836735, -0.79591837, -0.67346939,\n",
       "       -0.55102041, -0.42857143, -0.30612245, -0.18367347, -0.06122449,\n",
       "        0.06122449,  0.18367347,  0.30612245,  0.42857143,  0.55102041,\n",
       "        0.67346939,  0.79591837,  0.91836735,  1.04081633,  1.16326531,\n",
       "        1.28571429,  1.40816327,  1.53061224,  1.65306122,  1.7755102 ,\n",
       "        1.89795918,  2.02040816,  2.14285714,  2.26530612,  2.3877551 ,\n",
       "        2.51020408,  2.63265306,  2.75510204,  2.87755102,  3.        ])"
      ]
     },
     "execution_count": 214,
     "metadata": {},
     "output_type": "execute_result"
    }
   ],
   "source": [
    "x"
   ]
  },
  {
   "cell_type": "code",
   "execution_count": 216,
   "id": "540c2830",
   "metadata": {},
   "outputs": [
    {
     "data": {
      "text/plain": [
       "[<matplotlib.lines.Line2D at 0x1f16d3c3ca0>]"
      ]
     },
     "execution_count": 216,
     "metadata": {},
     "output_type": "execute_result"
    },
    {
     "data": {
      "image/png": "[encoded data removed]",
      "text/plain": [
       "<Figure size 432x288 with 1 Axes>"
      ]
     },
     "metadata": {
      "needs_background": "light"
     },
     "output_type": "display_data"
    }
   ],
   "source": [
    "plt.plot(x,  snd(x))\n",
    "#plt.plot(x, snd(x), 'o')"
   ]
  },
  {
   "cell_type": "code",
   "execution_count": 226,
   "id": "783a2cf4",
   "metadata": {},
   "outputs": [
    {
     "data": {
      "image/png": "[encoded data removed]",
      "text/plain": [
       "<Figure size 432x288 with 1 Axes>"
      ]
     },
     "metadata": {
      "needs_background": "light"
     },
     "output_type": "display_data"
    }
   ],
   "source": [
    "x = np.linspace(-3, 3, 100)\n",
    "plt.plot(x,  snd(x))\n",
    "#plt.plot(x, snd(x), 'o')\n",
    "plt.show()"
   ]
  },
  {
   "cell_type": "code",
   "execution_count": 223,
   "id": "85bc9aa3",
   "metadata": {},
   "outputs": [
    {
     "data": {
      "text/plain": [
       "array([-3.        , -2.33333333, -1.66666667, -1.        , -0.33333333,\n",
       "        0.33333333,  1.        ,  1.66666667,  2.33333333,  3.        ])"
      ]
     },
     "execution_count": 223,
     "metadata": {},
     "output_type": "execute_result"
    }
   ],
   "source": [
    "x"
   ]
  },
  {
   "cell_type": "code",
   "execution_count": null,
   "id": "5f2c2658",
   "metadata": {},
   "outputs": [],
   "source": []
  }
 ],
 "metadata": {
  "celltoolbar": "Raw Cell Format",
  "kernelspec": {
   "display_name": "Python 3 (ipykernel)",
   "language": "python",
   "name": "python3"
  },
  "language_info": {
   "codemirror_mode": {
    "name": "ipython",
    "version": 3
   },
   "file_extension": ".py",
   "mimetype": "text/x-python",
   "name": "python",
   "nbconvert_exporter": "python",
   "pygments_lexer": "ipython3",
   "version": "3.10.2"
  }
 },
 "nbformat": 4,
 "nbformat_minor": 5
}
