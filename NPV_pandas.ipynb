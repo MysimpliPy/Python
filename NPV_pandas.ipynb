{
 "cells": [
  {
   "cell_type": "markdown",
   "id": "05d192ba",
   "metadata": {},
   "source": [
    "<h1>\n",
    "Net Present Value (contd..)\n",
    "</h1>"
   ]
  },
  {
   "cell_type": "code",
   "execution_count": 42,
   "id": "d3fa5c25",
   "metadata": {},
   "outputs": [],
   "source": [
    "import pandas as pd\n",
    "import numpy as np"
   ]
  },
  {
   "attachments": {
    "npv.png": {
     "image/png": "[encoded data removed]"
    }
   },
   "cell_type": "markdown",
   "id": "884232cd",
   "metadata": {},
   "source": [
    "![npv.png](attachment:npv.png)\n"
   ]
  },
  {
   "cell_type": "code",
   "execution_count": 37,
   "id": "ae4b5477",
   "metadata": {},
   "outputs": [
    {
     "data": {
      "text/plain": [
       "485.01244728953895"
      ]
     },
     "execution_count": 37,
     "metadata": {},
     "output_type": "execute_result"
    }
   ],
   "source": [
    "period   = [0,1,2,3]\n",
    "cashflow = [-2000, 1000, 800, 1100]\n",
    "rate     = .08\n",
    "dcf      = [  cf/(1+rate)**p  for p, cf in list(zip(period, cashflow))]\n",
    "npv      = sum(dcf)\n",
    "npv"
   ]
  },
  {
   "cell_type": "code",
   "execution_count": 49,
   "id": "845e1644",
   "metadata": {},
   "outputs": [],
   "source": [
    "df = pd.DataFrame(list(zip(period, cashflow)), columns=['period', 'cashflow'])"
   ]
  },
  {
   "cell_type": "code",
   "execution_count": 50,
   "id": "b9cfc729",
   "metadata": {},
   "outputs": [],
   "source": [
    "df['pv'] = dcf"
   ]
  },
  {
   "cell_type": "code",
   "execution_count": 51,
   "id": "6c81d762",
   "metadata": {},
   "outputs": [
    {
     "data": {
      "text/html": [
       "<div>\n",
       "<style scoped>\n",
       "    .dataframe tbody tr th:only-of-type {\n",
       "        vertical-align: middle;\n",
       "    }\n",
       "\n",
       "    .dataframe tbody tr th {\n",
       "        vertical-align: top;\n",
       "    }\n",
       "\n",
       "    .dataframe thead th {\n",
       "        text-align: right;\n",
       "    }\n",
       "</style>\n",
       "<table border=\"1\" class=\"dataframe\">\n",
       "  <thead>\n",
       "    <tr style=\"text-align: right;\">\n",
       "      <th></th>\n",
       "      <th>period</th>\n",
       "      <th>cashflow</th>\n",
       "      <th>pv</th>\n",
       "    </tr>\n",
       "  </thead>\n",
       "  <tbody>\n",
       "    <tr>\n",
       "      <th>0</th>\n",
       "      <td>0</td>\n",
       "      <td>-2000</td>\n",
       "      <td>-2000.000000</td>\n",
       "    </tr>\n",
       "    <tr>\n",
       "      <th>1</th>\n",
       "      <td>1</td>\n",
       "      <td>1000</td>\n",
       "      <td>925.925926</td>\n",
       "    </tr>\n",
       "    <tr>\n",
       "      <th>2</th>\n",
       "      <td>2</td>\n",
       "      <td>800</td>\n",
       "      <td>685.871056</td>\n",
       "    </tr>\n",
       "    <tr>\n",
       "      <th>3</th>\n",
       "      <td>3</td>\n",
       "      <td>1100</td>\n",
       "      <td>873.215465</td>\n",
       "    </tr>\n",
       "  </tbody>\n",
       "</table>\n",
       "</div>"
      ],
      "text/plain": [
       "   period  cashflow           pv\n",
       "0       0     -2000 -2000.000000\n",
       "1       1      1000   925.925926\n",
       "2       2       800   685.871056\n",
       "3       3      1100   873.215465"
      ]
     },
     "execution_count": 51,
     "metadata": {},
     "output_type": "execute_result"
    }
   ],
   "source": [
    "df"
   ]
  },
  {
   "cell_type": "code",
   "execution_count": 53,
   "id": "d1d90789",
   "metadata": {},
   "outputs": [
    {
     "data": {
      "text/plain": [
       "485.01244728953895"
      ]
     },
     "execution_count": 53,
     "metadata": {},
     "output_type": "execute_result"
    }
   ],
   "source": [
    "sum(df.pv)"
   ]
  },
  {
   "cell_type": "markdown",
   "id": "19e27cf3",
   "metadata": {},
   "source": [
    "<h4>\n",
    "What is a Discount Factor? In financial modeling, a discount factor is a decimal <br>\n",
    "number multiplied by a cash flow value to discount it back to its present value. \n",
    "</h4>"
   ]
  },
  {
   "cell_type": "code",
   "execution_count": 54,
   "id": "ba6b25dd",
   "metadata": {},
   "outputs": [],
   "source": [
    "df_df = df[['period', 'cashflow']]"
   ]
  },
  {
   "cell_type": "code",
   "execution_count": 55,
   "id": "031762bf",
   "metadata": {},
   "outputs": [
    {
     "data": {
      "text/html": [
       "<div>\n",
       "<style scoped>\n",
       "    .dataframe tbody tr th:only-of-type {\n",
       "        vertical-align: middle;\n",
       "    }\n",
       "\n",
       "    .dataframe tbody tr th {\n",
       "        vertical-align: top;\n",
       "    }\n",
       "\n",
       "    .dataframe thead th {\n",
       "        text-align: right;\n",
       "    }\n",
       "</style>\n",
       "<table border=\"1\" class=\"dataframe\">\n",
       "  <thead>\n",
       "    <tr style=\"text-align: right;\">\n",
       "      <th></th>\n",
       "      <th>period</th>\n",
       "      <th>cashflow</th>\n",
       "    </tr>\n",
       "  </thead>\n",
       "  <tbody>\n",
       "    <tr>\n",
       "      <th>0</th>\n",
       "      <td>0</td>\n",
       "      <td>-2000</td>\n",
       "    </tr>\n",
       "    <tr>\n",
       "      <th>1</th>\n",
       "      <td>1</td>\n",
       "      <td>1000</td>\n",
       "    </tr>\n",
       "    <tr>\n",
       "      <th>2</th>\n",
       "      <td>2</td>\n",
       "      <td>800</td>\n",
       "    </tr>\n",
       "    <tr>\n",
       "      <th>3</th>\n",
       "      <td>3</td>\n",
       "      <td>1100</td>\n",
       "    </tr>\n",
       "  </tbody>\n",
       "</table>\n",
       "</div>"
      ],
      "text/plain": [
       "   period  cashflow\n",
       "0       0     -2000\n",
       "1       1      1000\n",
       "2       2       800\n",
       "3       3      1100"
      ]
     },
     "execution_count": 55,
     "metadata": {},
     "output_type": "execute_result"
    }
   ],
   "source": [
    "df_df"
   ]
  },
  {
   "cell_type": "code",
   "execution_count": 57,
   "id": "f35b9683",
   "metadata": {},
   "outputs": [],
   "source": [
    "df_df['distFactor'] = [  (1+rate)**p  for p, cf in list(zip(period, cashflow))]"
   ]
  },
  {
   "cell_type": "code",
   "execution_count": 58,
   "id": "a6d566de",
   "metadata": {},
   "outputs": [
    {
     "data": {
      "text/html": [
       "<div>\n",
       "<style scoped>\n",
       "    .dataframe tbody tr th:only-of-type {\n",
       "        vertical-align: middle;\n",
       "    }\n",
       "\n",
       "    .dataframe tbody tr th {\n",
       "        vertical-align: top;\n",
       "    }\n",
       "\n",
       "    .dataframe thead th {\n",
       "        text-align: right;\n",
       "    }\n",
       "</style>\n",
       "<table border=\"1\" class=\"dataframe\">\n",
       "  <thead>\n",
       "    <tr style=\"text-align: right;\">\n",
       "      <th></th>\n",
       "      <th>period</th>\n",
       "      <th>cashflow</th>\n",
       "      <th>distFactor</th>\n",
       "    </tr>\n",
       "  </thead>\n",
       "  <tbody>\n",
       "    <tr>\n",
       "      <th>0</th>\n",
       "      <td>0</td>\n",
       "      <td>-2000</td>\n",
       "      <td>1.000000</td>\n",
       "    </tr>\n",
       "    <tr>\n",
       "      <th>1</th>\n",
       "      <td>1</td>\n",
       "      <td>1000</td>\n",
       "      <td>1.080000</td>\n",
       "    </tr>\n",
       "    <tr>\n",
       "      <th>2</th>\n",
       "      <td>2</td>\n",
       "      <td>800</td>\n",
       "      <td>1.166400</td>\n",
       "    </tr>\n",
       "    <tr>\n",
       "      <th>3</th>\n",
       "      <td>3</td>\n",
       "      <td>1100</td>\n",
       "      <td>1.259712</td>\n",
       "    </tr>\n",
       "  </tbody>\n",
       "</table>\n",
       "</div>"
      ],
      "text/plain": [
       "   period  cashflow  distFactor\n",
       "0       0     -2000    1.000000\n",
       "1       1      1000    1.080000\n",
       "2       2       800    1.166400\n",
       "3       3      1100    1.259712"
      ]
     },
     "execution_count": 58,
     "metadata": {},
     "output_type": "execute_result"
    }
   ],
   "source": [
    "df_df"
   ]
  },
  {
   "cell_type": "code",
   "execution_count": 60,
   "id": "2c537795",
   "metadata": {},
   "outputs": [],
   "source": [
    "df_df['dcf'] = df_df['cashflow'] / df_df['distFactor']"
   ]
  },
  {
   "cell_type": "code",
   "execution_count": 61,
   "id": "24e4d339",
   "metadata": {},
   "outputs": [
    {
     "data": {
      "text/html": [
       "<div>\n",
       "<style scoped>\n",
       "    .dataframe tbody tr th:only-of-type {\n",
       "        vertical-align: middle;\n",
       "    }\n",
       "\n",
       "    .dataframe tbody tr th {\n",
       "        vertical-align: top;\n",
       "    }\n",
       "\n",
       "    .dataframe thead th {\n",
       "        text-align: right;\n",
       "    }\n",
       "</style>\n",
       "<table border=\"1\" class=\"dataframe\">\n",
       "  <thead>\n",
       "    <tr style=\"text-align: right;\">\n",
       "      <th></th>\n",
       "      <th>period</th>\n",
       "      <th>cashflow</th>\n",
       "      <th>distFactor</th>\n",
       "      <th>dcf</th>\n",
       "    </tr>\n",
       "  </thead>\n",
       "  <tbody>\n",
       "    <tr>\n",
       "      <th>0</th>\n",
       "      <td>0</td>\n",
       "      <td>-2000</td>\n",
       "      <td>1.000000</td>\n",
       "      <td>-2000.000000</td>\n",
       "    </tr>\n",
       "    <tr>\n",
       "      <th>1</th>\n",
       "      <td>1</td>\n",
       "      <td>1000</td>\n",
       "      <td>1.080000</td>\n",
       "      <td>925.925926</td>\n",
       "    </tr>\n",
       "    <tr>\n",
       "      <th>2</th>\n",
       "      <td>2</td>\n",
       "      <td>800</td>\n",
       "      <td>1.166400</td>\n",
       "      <td>685.871056</td>\n",
       "    </tr>\n",
       "    <tr>\n",
       "      <th>3</th>\n",
       "      <td>3</td>\n",
       "      <td>1100</td>\n",
       "      <td>1.259712</td>\n",
       "      <td>873.215465</td>\n",
       "    </tr>\n",
       "  </tbody>\n",
       "</table>\n",
       "</div>"
      ],
      "text/plain": [
       "   period  cashflow  distFactor          dcf\n",
       "0       0     -2000    1.000000 -2000.000000\n",
       "1       1      1000    1.080000   925.925926\n",
       "2       2       800    1.166400   685.871056\n",
       "3       3      1100    1.259712   873.215465"
      ]
     },
     "execution_count": 61,
     "metadata": {},
     "output_type": "execute_result"
    }
   ],
   "source": [
    "df_df"
   ]
  },
  {
   "cell_type": "code",
   "execution_count": 68,
   "id": "cd36e87d",
   "metadata": {},
   "outputs": [
    {
     "data": {
      "text/plain": [
       "485.01244728953895"
      ]
     },
     "execution_count": 68,
     "metadata": {},
     "output_type": "execute_result"
    }
   ],
   "source": [
    "sum(df_df.dcf)"
   ]
  },
  {
   "cell_type": "code",
   "execution_count": 83,
   "id": "026bf425",
   "metadata": {},
   "outputs": [],
   "source": [
    "df_apply = df_dc.loc[:][['period', 'cashflow']]"
   ]
  },
  {
   "cell_type": "code",
   "execution_count": 84,
   "id": "a8a4d17c",
   "metadata": {},
   "outputs": [
    {
     "data": {
      "text/html": [
       "<div>\n",
       "<style scoped>\n",
       "    .dataframe tbody tr th:only-of-type {\n",
       "        vertical-align: middle;\n",
       "    }\n",
       "\n",
       "    .dataframe tbody tr th {\n",
       "        vertical-align: top;\n",
       "    }\n",
       "\n",
       "    .dataframe thead th {\n",
       "        text-align: right;\n",
       "    }\n",
       "</style>\n",
       "<table border=\"1\" class=\"dataframe\">\n",
       "  <thead>\n",
       "    <tr style=\"text-align: right;\">\n",
       "      <th></th>\n",
       "      <th>period</th>\n",
       "      <th>cashflow</th>\n",
       "    </tr>\n",
       "  </thead>\n",
       "  <tbody>\n",
       "    <tr>\n",
       "      <th>0</th>\n",
       "      <td>0</td>\n",
       "      <td>-2000</td>\n",
       "    </tr>\n",
       "    <tr>\n",
       "      <th>1</th>\n",
       "      <td>1</td>\n",
       "      <td>1000</td>\n",
       "    </tr>\n",
       "    <tr>\n",
       "      <th>2</th>\n",
       "      <td>2</td>\n",
       "      <td>800</td>\n",
       "    </tr>\n",
       "    <tr>\n",
       "      <th>3</th>\n",
       "      <td>3</td>\n",
       "      <td>1100</td>\n",
       "    </tr>\n",
       "  </tbody>\n",
       "</table>\n",
       "</div>"
      ],
      "text/plain": [
       "   period  cashflow\n",
       "0       0     -2000\n",
       "1       1      1000\n",
       "2       2       800\n",
       "3       3      1100"
      ]
     },
     "execution_count": 84,
     "metadata": {},
     "output_type": "execute_result"
    }
   ],
   "source": [
    "df_apply"
   ]
  },
  {
   "cell_type": "code",
   "execution_count": 85,
   "id": "5a0c8d19",
   "metadata": {},
   "outputs": [],
   "source": [
    "df_apply['pv'] = df_apply.apply(lambda row: row[1]/(1+rate)**row[0], axis=1)"
   ]
  },
  {
   "cell_type": "code",
   "execution_count": 86,
   "id": "c8e2f961",
   "metadata": {},
   "outputs": [
    {
     "data": {
      "text/html": [
       "<div>\n",
       "<style scoped>\n",
       "    .dataframe tbody tr th:only-of-type {\n",
       "        vertical-align: middle;\n",
       "    }\n",
       "\n",
       "    .dataframe tbody tr th {\n",
       "        vertical-align: top;\n",
       "    }\n",
       "\n",
       "    .dataframe thead th {\n",
       "        text-align: right;\n",
       "    }\n",
       "</style>\n",
       "<table border=\"1\" class=\"dataframe\">\n",
       "  <thead>\n",
       "    <tr style=\"text-align: right;\">\n",
       "      <th></th>\n",
       "      <th>period</th>\n",
       "      <th>cashflow</th>\n",
       "      <th>pv</th>\n",
       "    </tr>\n",
       "  </thead>\n",
       "  <tbody>\n",
       "    <tr>\n",
       "      <th>0</th>\n",
       "      <td>0</td>\n",
       "      <td>-2000</td>\n",
       "      <td>-2000.000000</td>\n",
       "    </tr>\n",
       "    <tr>\n",
       "      <th>1</th>\n",
       "      <td>1</td>\n",
       "      <td>1000</td>\n",
       "      <td>925.925926</td>\n",
       "    </tr>\n",
       "    <tr>\n",
       "      <th>2</th>\n",
       "      <td>2</td>\n",
       "      <td>800</td>\n",
       "      <td>685.871056</td>\n",
       "    </tr>\n",
       "    <tr>\n",
       "      <th>3</th>\n",
       "      <td>3</td>\n",
       "      <td>1100</td>\n",
       "      <td>873.215465</td>\n",
       "    </tr>\n",
       "  </tbody>\n",
       "</table>\n",
       "</div>"
      ],
      "text/plain": [
       "   period  cashflow           pv\n",
       "0       0     -2000 -2000.000000\n",
       "1       1      1000   925.925926\n",
       "2       2       800   685.871056\n",
       "3       3      1100   873.215465"
      ]
     },
     "execution_count": 86,
     "metadata": {},
     "output_type": "execute_result"
    }
   ],
   "source": [
    "df_apply"
   ]
  },
  {
   "cell_type": "code",
   "execution_count": 87,
   "id": "0de46110",
   "metadata": {},
   "outputs": [
    {
     "data": {
      "text/plain": [
       "485.01244728953895"
      ]
     },
     "execution_count": 87,
     "metadata": {},
     "output_type": "execute_result"
    }
   ],
   "source": [
    "sum(df_apply.pv)"
   ]
  },
  {
   "cell_type": "code",
   "execution_count": null,
   "id": "564d9162",
   "metadata": {},
   "outputs": [],
   "source": []
  },
  {
   "cell_type": "code",
   "execution_count": null,
   "id": "cd7995a4",
   "metadata": {},
   "outputs": [],
   "source": []
  },
  {
   "cell_type": "code",
   "execution_count": null,
   "id": "2df01620",
   "metadata": {},
   "outputs": [],
   "source": []
  }
 ],
 "metadata": {
  "kernelspec": {
   "display_name": "Python 3 (ipykernel)",
   "language": "python",
   "name": "python3"
  },
  "language_info": {
   "codemirror_mode": {
    "name": "ipython",
    "version": 3
   },
   "file_extension": ".py",
   "mimetype": "text/x-python",
   "name": "python",
   "nbconvert_exporter": "python",
   "pygments_lexer": "ipython3",
   "version": "3.10.2"
  }
 },
 "nbformat": 4,
 "nbformat_minor": 5
}
