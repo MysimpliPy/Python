{
 "cells": [
  {
   "cell_type": "markdown",
   "id": "04e2743c",
   "metadata": {},
   "source": [
    "<h3>\n",
    "XIRR (Extended Internal Rate of Return) - Mutual Fund Investments\n",
    "</h3>"
   ]
  },
  {
   "cell_type": "code",
   "execution_count": 17,
   "id": "d35da2bf",
   "metadata": {},
   "outputs": [],
   "source": [
    "import numpy as np\n",
    "import pandas as pd\n",
    "from pyxirr import xirr\n",
    "from datetime import date, datetime as dt\n",
    "from scipy.optimize import newton"
   ]
  },
  {
   "cell_type": "code",
   "execution_count": 32,
   "id": "de8f712e",
   "metadata": {},
   "outputs": [],
   "source": [
    "mutual_fund = pd.read_csv(r'mutual_fund_xirr.csv')"
   ]
  },
  {
   "cell_type": "code",
   "execution_count": 33,
   "id": "09c6a751",
   "metadata": {},
   "outputs": [
    {
     "data": {
      "text/html": [
       "<div>\n",
       "<style scoped>\n",
       "    .dataframe tbody tr th:only-of-type {\n",
       "        vertical-align: middle;\n",
       "    }\n",
       "\n",
       "    .dataframe tbody tr th {\n",
       "        vertical-align: top;\n",
       "    }\n",
       "\n",
       "    .dataframe thead th {\n",
       "        text-align: right;\n",
       "    }\n",
       "</style>\n",
       "<table border=\"1\" class=\"dataframe\">\n",
       "  <thead>\n",
       "    <tr style=\"text-align: right;\">\n",
       "      <th></th>\n",
       "      <th>Date</th>\n",
       "      <th>Cashflow</th>\n",
       "      <th>Type</th>\n",
       "    </tr>\n",
       "  </thead>\n",
       "  <tbody>\n",
       "    <tr>\n",
       "      <th>0</th>\n",
       "      <td>01-01-2015</td>\n",
       "      <td>-5000</td>\n",
       "      <td>SIP</td>\n",
       "    </tr>\n",
       "    <tr>\n",
       "      <th>1</th>\n",
       "      <td>01-02-2015</td>\n",
       "      <td>-5000</td>\n",
       "      <td>SIP</td>\n",
       "    </tr>\n",
       "    <tr>\n",
       "      <th>2</th>\n",
       "      <td>01-03-2015</td>\n",
       "      <td>-5000</td>\n",
       "      <td>SIP</td>\n",
       "    </tr>\n",
       "    <tr>\n",
       "      <th>3</th>\n",
       "      <td>01-04-2015</td>\n",
       "      <td>-5000</td>\n",
       "      <td>SIP</td>\n",
       "    </tr>\n",
       "    <tr>\n",
       "      <th>4</th>\n",
       "      <td>01-05-2015</td>\n",
       "      <td>-5000</td>\n",
       "      <td>SIP</td>\n",
       "    </tr>\n",
       "    <tr>\n",
       "      <th>5</th>\n",
       "      <td>25-05-2015</td>\n",
       "      <td>10000</td>\n",
       "      <td>Redemption</td>\n",
       "    </tr>\n",
       "    <tr>\n",
       "      <th>6</th>\n",
       "      <td>01-06-2015</td>\n",
       "      <td>-5000</td>\n",
       "      <td>SIP</td>\n",
       "    </tr>\n",
       "    <tr>\n",
       "      <th>7</th>\n",
       "      <td>01-07-2015</td>\n",
       "      <td>-5000</td>\n",
       "      <td>SIP</td>\n",
       "    </tr>\n",
       "    <tr>\n",
       "      <th>8</th>\n",
       "      <td>01-08-2015</td>\n",
       "      <td>5000</td>\n",
       "      <td>SWP</td>\n",
       "    </tr>\n",
       "    <tr>\n",
       "      <th>9</th>\n",
       "      <td>01-09-2015</td>\n",
       "      <td>5000</td>\n",
       "      <td>SWP</td>\n",
       "    </tr>\n",
       "    <tr>\n",
       "      <th>10</th>\n",
       "      <td>01-10-2015</td>\n",
       "      <td>5000</td>\n",
       "      <td>SWP</td>\n",
       "    </tr>\n",
       "    <tr>\n",
       "      <th>11</th>\n",
       "      <td>01-11-2015</td>\n",
       "      <td>5000</td>\n",
       "      <td>SWP</td>\n",
       "    </tr>\n",
       "    <tr>\n",
       "      <th>12</th>\n",
       "      <td>01-12-2015</td>\n",
       "      <td>5000</td>\n",
       "      <td>SWP</td>\n",
       "    </tr>\n",
       "    <tr>\n",
       "      <th>13</th>\n",
       "      <td>10-12-2015</td>\n",
       "      <td>5000</td>\n",
       "      <td>Redemption</td>\n",
       "    </tr>\n",
       "  </tbody>\n",
       "</table>\n",
       "</div>"
      ],
      "text/plain": [
       "          Date  Cashflow        Type\n",
       "0   01-01-2015     -5000         SIP\n",
       "1   01-02-2015     -5000         SIP\n",
       "2   01-03-2015     -5000         SIP\n",
       "3   01-04-2015     -5000         SIP\n",
       "4   01-05-2015     -5000         SIP\n",
       "5   25-05-2015     10000  Redemption\n",
       "6   01-06-2015     -5000         SIP\n",
       "7   01-07-2015     -5000         SIP\n",
       "8   01-08-2015      5000         SWP\n",
       "9   01-09-2015      5000         SWP\n",
       "10  01-10-2015      5000         SWP\n",
       "11  01-11-2015      5000         SWP\n",
       "12  01-12-2015      5000         SWP\n",
       "13  10-12-2015      5000  Redemption"
      ]
     },
     "execution_count": 33,
     "metadata": {},
     "output_type": "execute_result"
    }
   ],
   "source": [
    "mutual_fund"
   ]
  },
  {
   "cell_type": "code",
   "execution_count": 20,
   "id": "c7922576",
   "metadata": {},
   "outputs": [
    {
     "name": "stdout",
     "output_type": "stream",
     "text": [
      "<class 'pandas.core.frame.DataFrame'>\n",
      "RangeIndex: 14 entries, 0 to 13\n",
      "Data columns (total 3 columns):\n",
      " #   Column    Non-Null Count  Dtype \n",
      "---  ------    --------------  ----- \n",
      " 0   Date      14 non-null     object\n",
      " 1   Cashflow  14 non-null     int64 \n",
      " 2   Type      14 non-null     object\n",
      "dtypes: int64(1), object(2)\n",
      "memory usage: 464.0+ bytes\n"
     ]
    }
   ],
   "source": [
    "mutual_fund.info()"
   ]
  },
  {
   "cell_type": "code",
   "execution_count": 21,
   "id": "78911e55",
   "metadata": {},
   "outputs": [],
   "source": [
    "mutual_fund['Date'] = [ dt.strptime(d, '%d-%m-%Y')   for d in mutual_fund.Date]"
   ]
  },
  {
   "cell_type": "code",
   "execution_count": 22,
   "id": "3966974a",
   "metadata": {},
   "outputs": [
    {
     "name": "stdout",
     "output_type": "stream",
     "text": [
      "<class 'pandas.core.frame.DataFrame'>\n",
      "RangeIndex: 14 entries, 0 to 13\n",
      "Data columns (total 3 columns):\n",
      " #   Column    Non-Null Count  Dtype         \n",
      "---  ------    --------------  -----         \n",
      " 0   Date      14 non-null     datetime64[ns]\n",
      " 1   Cashflow  14 non-null     int64         \n",
      " 2   Type      14 non-null     object        \n",
      "dtypes: datetime64[ns](1), int64(1), object(1)\n",
      "memory usage: 464.0+ bytes\n"
     ]
    }
   ],
   "source": [
    "mutual_fund.info()"
   ]
  },
  {
   "cell_type": "code",
   "execution_count": 25,
   "id": "89f2ee37",
   "metadata": {},
   "outputs": [
    {
     "data": {
      "text/plain": [
       "Timestamp('2015-01-01 00:00:00')"
      ]
     },
     "execution_count": 25,
     "metadata": {},
     "output_type": "execute_result"
    }
   ],
   "source": [
    "first_date = mutual_fund.loc[0].Date\n",
    "first_date"
   ]
  },
  {
   "cell_type": "code",
   "execution_count": 26,
   "id": "0599088b",
   "metadata": {},
   "outputs": [],
   "source": [
    "mutual_fund['days_elapsed'] = [(i-first_date).days for i in mutual_fund['Date'].values]"
   ]
  },
  {
   "cell_type": "code",
   "execution_count": 27,
   "id": "9c5338ae",
   "metadata": {},
   "outputs": [
    {
     "data": {
      "text/html": [
       "<div>\n",
       "<style scoped>\n",
       "    .dataframe tbody tr th:only-of-type {\n",
       "        vertical-align: middle;\n",
       "    }\n",
       "\n",
       "    .dataframe tbody tr th {\n",
       "        vertical-align: top;\n",
       "    }\n",
       "\n",
       "    .dataframe thead th {\n",
       "        text-align: right;\n",
       "    }\n",
       "</style>\n",
       "<table border=\"1\" class=\"dataframe\">\n",
       "  <thead>\n",
       "    <tr style=\"text-align: right;\">\n",
       "      <th></th>\n",
       "      <th>Date</th>\n",
       "      <th>Cashflow</th>\n",
       "      <th>Type</th>\n",
       "      <th>days_elapsed</th>\n",
       "    </tr>\n",
       "  </thead>\n",
       "  <tbody>\n",
       "    <tr>\n",
       "      <th>0</th>\n",
       "      <td>2015-01-01</td>\n",
       "      <td>-5000</td>\n",
       "      <td>SIP</td>\n",
       "      <td>0</td>\n",
       "    </tr>\n",
       "    <tr>\n",
       "      <th>1</th>\n",
       "      <td>2015-02-01</td>\n",
       "      <td>-5000</td>\n",
       "      <td>SIP</td>\n",
       "      <td>31</td>\n",
       "    </tr>\n",
       "    <tr>\n",
       "      <th>2</th>\n",
       "      <td>2015-03-01</td>\n",
       "      <td>-5000</td>\n",
       "      <td>SIP</td>\n",
       "      <td>59</td>\n",
       "    </tr>\n",
       "    <tr>\n",
       "      <th>3</th>\n",
       "      <td>2015-04-01</td>\n",
       "      <td>-5000</td>\n",
       "      <td>SIP</td>\n",
       "      <td>90</td>\n",
       "    </tr>\n",
       "    <tr>\n",
       "      <th>4</th>\n",
       "      <td>2015-05-01</td>\n",
       "      <td>-5000</td>\n",
       "      <td>SIP</td>\n",
       "      <td>120</td>\n",
       "    </tr>\n",
       "    <tr>\n",
       "      <th>5</th>\n",
       "      <td>2015-05-25</td>\n",
       "      <td>10000</td>\n",
       "      <td>Redemption</td>\n",
       "      <td>144</td>\n",
       "    </tr>\n",
       "    <tr>\n",
       "      <th>6</th>\n",
       "      <td>2015-06-01</td>\n",
       "      <td>-5000</td>\n",
       "      <td>SIP</td>\n",
       "      <td>151</td>\n",
       "    </tr>\n",
       "    <tr>\n",
       "      <th>7</th>\n",
       "      <td>2015-07-01</td>\n",
       "      <td>-5000</td>\n",
       "      <td>SIP</td>\n",
       "      <td>181</td>\n",
       "    </tr>\n",
       "    <tr>\n",
       "      <th>8</th>\n",
       "      <td>2015-08-01</td>\n",
       "      <td>5000</td>\n",
       "      <td>SWP</td>\n",
       "      <td>212</td>\n",
       "    </tr>\n",
       "    <tr>\n",
       "      <th>9</th>\n",
       "      <td>2015-09-01</td>\n",
       "      <td>5000</td>\n",
       "      <td>SWP</td>\n",
       "      <td>243</td>\n",
       "    </tr>\n",
       "    <tr>\n",
       "      <th>10</th>\n",
       "      <td>2015-10-01</td>\n",
       "      <td>5000</td>\n",
       "      <td>SWP</td>\n",
       "      <td>273</td>\n",
       "    </tr>\n",
       "    <tr>\n",
       "      <th>11</th>\n",
       "      <td>2015-11-01</td>\n",
       "      <td>5000</td>\n",
       "      <td>SWP</td>\n",
       "      <td>304</td>\n",
       "    </tr>\n",
       "    <tr>\n",
       "      <th>12</th>\n",
       "      <td>2015-12-01</td>\n",
       "      <td>5000</td>\n",
       "      <td>SWP</td>\n",
       "      <td>334</td>\n",
       "    </tr>\n",
       "    <tr>\n",
       "      <th>13</th>\n",
       "      <td>2015-12-10</td>\n",
       "      <td>5000</td>\n",
       "      <td>Redemption</td>\n",
       "      <td>343</td>\n",
       "    </tr>\n",
       "  </tbody>\n",
       "</table>\n",
       "</div>"
      ],
      "text/plain": [
       "         Date  Cashflow        Type  days_elapsed\n",
       "0  2015-01-01     -5000         SIP             0\n",
       "1  2015-02-01     -5000         SIP            31\n",
       "2  2015-03-01     -5000         SIP            59\n",
       "3  2015-04-01     -5000         SIP            90\n",
       "4  2015-05-01     -5000         SIP           120\n",
       "5  2015-05-25     10000  Redemption           144\n",
       "6  2015-06-01     -5000         SIP           151\n",
       "7  2015-07-01     -5000         SIP           181\n",
       "8  2015-08-01      5000         SWP           212\n",
       "9  2015-09-01      5000         SWP           243\n",
       "10 2015-10-01      5000         SWP           273\n",
       "11 2015-11-01      5000         SWP           304\n",
       "12 2015-12-01      5000         SWP           334\n",
       "13 2015-12-10      5000  Redemption           343"
      ]
     },
     "execution_count": 27,
     "metadata": {},
     "output_type": "execute_result"
    }
   ],
   "source": [
    "mutual_fund"
   ]
  },
  {
   "cell_type": "code",
   "execution_count": 28,
   "id": "81d1fa73",
   "metadata": {},
   "outputs": [],
   "source": [
    "discount_list = []\n",
    "npv_list = []\n",
    "\n",
    "for rate in np.arange(0.3, .4, .000001) :\n",
    "    npv = sum([cf/(1+rate)**(d/365) for d, cf in zip(mutual_fund.days_elapsed, mutual_fund.Cashflow)])\n",
    "    discount_list.append(rate)\n",
    "    npv_list.append(npv)\n",
    "    if npv < 0.001 :\n",
    "        break"
   ]
  },
  {
   "cell_type": "code",
   "execution_count": 29,
   "id": "6f3337aa",
   "metadata": {},
   "outputs": [
    {
     "data": {
      "text/plain": [
       "[(0.3597889999984003, -0.003666210115170543),\n",
       " (0.35978799999840033, 0.006662086197138706),\n",
       " (0.35978699999840036, 0.016990397266454238),\n",
       " (0.3597859999984004, 0.027318723085500096),\n",
       " (0.3597849999984004, 0.037647063650183554)]"
      ]
     },
     "execution_count": 29,
     "metadata": {},
     "output_type": "execute_result"
    }
   ],
   "source": [
    "list(zip(discount_list[-1::-1], npv_list[-1::-1]))[:5:1]"
   ]
  },
  {
   "cell_type": "code",
   "execution_count": 30,
   "id": "50c9de43",
   "metadata": {},
   "outputs": [
    {
     "data": {
      "text/plain": [
       "0.35978864503068003"
      ]
     },
     "execution_count": 30,
     "metadata": {},
     "output_type": "execute_result"
    }
   ],
   "source": [
    "xirr(mutual_fund.Date, mutual_fund.Cashflow)"
   ]
  },
  {
   "cell_type": "code",
   "execution_count": 31,
   "id": "c1b561ee",
   "metadata": {},
   "outputs": [
    {
     "data": {
      "text/plain": [
       "0.3597886450306787"
      ]
     },
     "execution_count": 31,
     "metadata": {},
     "output_type": "execute_result"
    }
   ],
   "source": [
    "def get_XIRR(rate) :\n",
    "    return sum([cf/(1+rate)**(days/365) for days, cf in zip(mutual_fund.days_elapsed, mutual_fund.Cashflow)])\n",
    "\n",
    "newton(get_XIRR, .1)"
   ]
  },
  {
   "cell_type": "code",
   "execution_count": null,
   "id": "d778ca80",
   "metadata": {},
   "outputs": [],
   "source": []
  }
 ],
 "metadata": {
  "kernelspec": {
   "display_name": "Python 3 (ipykernel)",
   "language": "python",
   "name": "python3"
  },
  "language_info": {
   "codemirror_mode": {
    "name": "ipython",
    "version": 3
   },
   "file_extension": ".py",
   "mimetype": "text/x-python",
   "name": "python",
   "nbconvert_exporter": "python",
   "pygments_lexer": "ipython3",
   "version": "3.10.2"
  }
 },
 "nbformat": 4,
 "nbformat_minor": 5
}
