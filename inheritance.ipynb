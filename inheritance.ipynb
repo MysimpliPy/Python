{
 "cells": [
  {
   "cell_type": "markdown",
   "id": "9db6f481",
   "metadata": {},
   "source": [
    "<font size='4' color='blue'>\n",
    "OOP - Inheritance\n",
    "</font>\n"
   ]
  },
  {
   "cell_type": "code",
   "execution_count": 91,
   "id": "37a91032",
   "metadata": {},
   "outputs": [],
   "source": [
    "class A:\n",
    "    \n",
    "    def methodA(self) :\n",
    "        print(\"I am methodA of class A\")\n",
    "\n",
    "class B:\n",
    "    \n",
    "    def methodB(self) :\n",
    "        print(\"I am methodB of class B\")\n",
    "        \n",
    "obj = A()\n",
    "obj.methodA()\n",
    "obj1 = B()  # an instance of B is getting created\n",
    "obj1.methodB()"
   ]
  },
  {
   "cell_type": "code",
   "execution_count": null,
   "id": "d1736587",
   "metadata": {},
   "outputs": [],
   "source": []
  },
  {
   "cell_type": "code",
   "execution_count": 96,
   "id": "25fe54cd",
   "metadata": {},
   "outputs": [],
   "source": [
    "class A:\n",
    "    \n",
    "    def methodA(self) :\n",
    "        print(\"I am methodA of class A\")\n",
    "\n",
    "class B(A):  # now class B will have all the attributes and methods belonging to class A\n",
    "    \n",
    "    def methodB(self) :\n",
    "        print(\"I am methodB of class B\")\n",
    "        \n",
    "obj = A()\n",
    "obj.methodA()\n",
    "obj1 = B()\n",
    "obj1.methodB()\n",
    "obj1.methodA()"
   ]
  },
  {
   "cell_type": "code",
   "execution_count": null,
   "id": "be334910",
   "metadata": {},
   "outputs": [],
   "source": []
  },
  {
   "cell_type": "code",
   "execution_count": 107,
   "id": "b2ed249f",
   "metadata": {},
   "outputs": [],
   "source": [
    "class A:\n",
    "    \n",
    "    def __init__(self) :   # dunder method -  d[ouble]under[score] - dunder\n",
    "        print(\"I am constructor of class A\")\n",
    "    \n",
    "    def methodA(self) :\n",
    "        print(\"I am methodA of class A\")\n",
    "\n",
    "class B(A):  \n",
    "    \n",
    "    '''\n",
    "    def __init__(self) :   # dunder method -  d[ouble]under[score] - dunder\n",
    "        print(\"I am constructor of class A\")\n",
    "    \n",
    "    def methodA(self) :\n",
    "        print(\"I am methodA of class A\")\n",
    "    '''\n",
    "    \n",
    "    def methodB(self) :\n",
    "        print(\"I am methodB of class B\")\n",
    "\n",
    "\n",
    "obj = A()\n",
    "obj.methodA()\n",
    "obj1 = B()\n",
    "obj1.methodA()\n",
    "obj1.methodB()"
   ]
  },
  {
   "cell_type": "code",
   "execution_count": null,
   "id": "2df0f1d8",
   "metadata": {},
   "outputs": [],
   "source": []
  },
  {
   "cell_type": "code",
   "execution_count": 117,
   "id": "32a70c5d",
   "metadata": {},
   "outputs": [],
   "source": [
    "class A:\n",
    "    \n",
    "    def __init__(self) :  \n",
    "        print(\"I am constructor of class A\")\n",
    "    \n",
    "    def methodA(self) :\n",
    "        print(\"I am methodA of class A\")\n",
    "\n",
    "        \n",
    "class B(A):  \n",
    "    \n",
    "    '''\n",
    "    def __init__(self) :   # dunder method -  d[ouble]under[score] - dunder\n",
    "        print(\"I am constructor of class A\")\n",
    "    \n",
    "    def methodA(self) :\n",
    "        print(\"I am methodA of class A\")\n",
    "    '''\n",
    "    \n",
    "    def __init__(self) :  # overriding of a method\n",
    "        print(\"I am constructor of class B\")\n",
    " \n",
    "\n",
    "    def methodA(self) :   # overriding of a method\n",
    "        print(\"I am methodA of class B\")\n",
    "\n",
    "    \n",
    "    def methodB(self) :\n",
    "        print(\"I am methodB of class B\")\n",
    "\n",
    "\n",
    "obj = A()\n",
    "obj.methodA()\n",
    "obj1 = B()\n",
    "obj1.methodA()"
   ]
  },
  {
   "cell_type": "code",
   "execution_count": null,
   "id": "6446f6ba",
   "metadata": {},
   "outputs": [],
   "source": []
  },
  {
   "cell_type": "code",
   "execution_count": 123,
   "id": "a6fae13d",
   "metadata": {},
   "outputs": [],
   "source": [
    "class A:\n",
    "    \n",
    "    def __init__(self) :  \n",
    "        print(\"I am constructor of class A\")\n",
    "    \n",
    "    def methodA(self) :\n",
    "        print(\"I am methodA of class A\")\n",
    "\n",
    "        \n",
    "class B(A):  \n",
    "    \n",
    "    '''\n",
    "    def __init__(self) :   # dunder method -  d[ouble]under[score] - dunder\n",
    "        print(\"I am constructor of class A\")\n",
    "    \n",
    "    def methodA(self) :\n",
    "        print(\"I am methodA of class A\")\n",
    "    '''\n",
    "    \n",
    "    def __init__(self) :  # overriding of a method\n",
    "        A.__init__(self)\n",
    "        print(\"I am constructor of class B\")\n",
    " \n",
    " \n",
    "    def methodB(self) :\n",
    "        print(\"I am methodB of class B\")\n"
   ]
  },
  {
   "cell_type": "code",
   "execution_count": 124,
   "id": "c2d4ff0a",
   "metadata": {},
   "outputs": [
    {
     "name": "stdout",
     "output_type": "stream",
     "text": [
      "I am constructor of class A\n",
      "I am constructor of class B\n"
     ]
    }
   ],
   "source": [
    "obj = B()"
   ]
  },
  {
   "cell_type": "code",
   "execution_count": 125,
   "id": "46321ef3",
   "metadata": {},
   "outputs": [
    {
     "name": "stdout",
     "output_type": "stream",
     "text": [
      "I am methodA of class A\n"
     ]
    }
   ],
   "source": [
    "obj.methodA()"
   ]
  },
  {
   "cell_type": "code",
   "execution_count": 126,
   "id": "21a28185",
   "metadata": {},
   "outputs": [
    {
     "name": "stdout",
     "output_type": "stream",
     "text": [
      "I am methodB of class B\n"
     ]
    }
   ],
   "source": [
    "obj.methodB()"
   ]
  }
 ],
 "metadata": {
  "kernelspec": {
   "display_name": "Python 3 (ipykernel)",
   "language": "python",
   "name": "python3"
  },
  "language_info": {
   "codemirror_mode": {
    "name": "ipython",
    "version": 3
   },
   "file_extension": ".py",
   "mimetype": "text/x-python",
   "name": "python",
   "nbconvert_exporter": "python",
   "pygments_lexer": "ipython3",
   "version": "3.10.2"
  },
  "widgets": {
   "application/vnd.jupyter.widget-state+json": {
    "state": {},
    "version_major": 2,
    "version_minor": 0
   }
  }
 },
 "nbformat": 4,
 "nbformat_minor": 5
}
